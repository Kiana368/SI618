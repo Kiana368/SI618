{
 "cells": [
  {
   "cell_type": "markdown",
   "id": "82701378",
   "metadata": {},
   "source": [
    "# SI 618 Project 1 - Data Preprocessing\n",
    "- name: Sijun Tao\n",
    "- uniquename: sijuntao"
   ]
  },
  {
   "cell_type": "code",
   "execution_count": 1,
   "id": "a1a1db8c",
   "metadata": {},
   "outputs": [],
   "source": [
    "import json\n",
    "from pyspark import SparkContext\n",
    "from pyspark.sql import SQLContext\n",
    "from pyspark.sql import SparkSession\n",
    "from pyspark.sql import SQLContext\n",
    "import pyspark.sql.functions as f\n",
    "from pyspark.sql.types import *\n",
    "from pyspark.sql.functions import *\n",
    "from datetime import datetime"
   ]
  },
  {
   "cell_type": "code",
   "execution_count": 2,
   "id": "7c034086",
   "metadata": {},
   "outputs": [
    {
     "name": "stderr",
     "output_type": "stream",
     "text": [
      "Setting default log level to \"WARN\".\n",
      "To adjust logging level use sc.setLogLevel(newLevel). For SparkR, use setLogLevel(newLevel).\n"
     ]
    },
    {
     "name": "stdout",
     "output_type": "stream",
     "text": [
      "22/10/24 11:47:26 WARN NativeCodeLoader: Unable to load native-hadoop library for your platform... using builtin-java classes where applicable\n"
     ]
    },
    {
     "name": "stderr",
     "output_type": "stream",
     "text": [
      "/Users/junsi/opt/anaconda3/lib/python3.9/site-packages/pyspark/sql/context.py:112: FutureWarning: Deprecated in 3.0.0. Use SparkSession.builder.getOrCreate() instead.\n",
      "  warnings.warn(\n"
     ]
    }
   ],
   "source": [
    "spark = SparkSession.builder.appName(\"PySparksi618f22\").config(\"spark.some.config.option\", \"some-value\").getOrCreate()\n",
    "sc = spark.sparkContext\n",
    "sqlContext = SQLContext(sc)"
   ]
  },
  {
   "cell_type": "code",
   "execution_count": 3,
   "id": "981706a9",
   "metadata": {},
   "outputs": [],
   "source": [
    "# --- Data Pre-processing --- #\n",
    "\n",
    "# read in data\n",
    "expenditure_raw = sqlContext.read.csv(\"original_data/states.csv\", header=True)\n",
    "edu_level_raw = sqlContext.read.csv(\"original_data/education.csv\", header=True)\n",
    "unemployment_raw = sqlContext.read.csv(\"original_data/unemployment.csv\", header= True)"
   ]
  },
  {
   "cell_type": "code",
   "execution_count": 4,
   "id": "8406101f",
   "metadata": {},
   "outputs": [
    {
     "name": "stderr",
     "output_type": "stream",
     "text": [
      "/Users/junsi/opt/anaconda3/lib/python3.9/site-packages/pyspark/sql/dataframe.py:229: FutureWarning: Deprecated in 2.0, use createOrReplaceTempView instead.\n",
      "  warnings.warn(\"Deprecated in 2.0, use createOrReplaceTempView instead.\", FutureWarning)\n"
     ]
    },
    {
     "name": "stdout",
     "output_type": "stream",
     "text": [
      "22/10/24 11:47:32 WARN package: Truncated the string representation of a plan since it was too large. This behavior can be adjusted by setting 'spark.sql.debug.maxToStringFields'.\n"
     ]
    }
   ],
   "source": [
    "# select and clean data\n",
    "\n",
    "# expenditure\n",
    "expenditure = expenditure_raw.select(\"STATE\", \"YEAR\", \"TOTAL_EXPENDITURE\", \"INSTRUCTION_EXPENDITURE\", \"SUPPORT_SERVICES_EXPENDITURE\")\n",
    "expenditure = expenditure.withColumn(\"YEAR\", year(expenditure.YEAR))\n",
    "expenditure.registerTempTable(\"expenditure\")\n",
    "\n",
    "\n",
    "# education level\n",
    "edu = edu_level_raw.select(\"State\", \"Area name\", \"Percent of adults with less than a high school diploma, 1990\", \"Percent of adults with a high school diploma only, 1990\", \"Percent of adults completing some college or associate's degree, 1990\",\"Percent of adults with a bachelor's degree or higher, 1990\", \"Percent of adults with less than a high school diploma, 2000\", \"Percent of adults with a high school diploma only, 2000\", \"Percent of adults completing some college or associate's degree, 2000\",\"Percent of adults with a bachelor's degree or higher, 2000\", \"Percent of adults with less than a high school diploma, 2015-19\", \"Percent of adults with a high school diploma only, 2015-19\", \"Percent of adults completing some college or associate's degree, 2015-19\",\"Percent of adults with a bachelor's degree or higher, 2015-19\")\n",
    "edu = edu.na.drop(subset=[\"Percent of adults with less than a high school diploma, 1990\", \"Percent of adults with a high school diploma only, 1990\", \"Percent of adults completing some college or associate's degree, 1990\",\"Percent of adults with a bachelor's degree or higher, 1990\", \"Percent of adults with less than a high school diploma, 2000\", \"Percent of adults with a high school diploma only, 2000\", \"Percent of adults completing some college or associate's degree, 2000\",\"Percent of adults with a bachelor's degree or higher, 2000\", \"Percent of adults with less than a high school diploma, 2015-19\", \"Percent of adults with a high school diploma only, 2015-19\", \"Percent of adults completing some college or associate's degree, 2015-19\",\"Percent of adults with a bachelor's degree or higher, 2015-19\"])\n",
    "edu = edu.withColumnRenamed(\"Area name\", \"area_name\")\n",
    "edu = edu.withColumnRenamed(\"Percent of adults with less than a high school diploma, 1990\", \"l_h_1990\")\n",
    "edu = edu.withColumnRenamed(\"Percent of adults with a high school diploma only, 1990\", \"e_h_1990\")\n",
    "edu = edu.withColumnRenamed(\"Percent of adults completing some college or associate's degree, 1990\", \"e_c_1990\")\n",
    "edu = edu.withColumnRenamed(\"Percent of adults with a bachelor's degree or higher, 1990\", \"g_c_1990\")\n",
    "edu = edu.withColumnRenamed(\"Percent of adults with less than a high school diploma, 2000\", \"l_h_2000\")\n",
    "edu = edu.withColumnRenamed(\"Percent of adults with a high school diploma only, 2000\", \"e_h_2000\")\n",
    "edu = edu.withColumnRenamed(\"Percent of adults completing some college or associate's degree, 2000\", \"e_c_2000\")\n",
    "edu = edu.withColumnRenamed(\"Percent of adults with a bachelor's degree or higher, 2000\", \"g_c_2000\")\n",
    "edu = edu.withColumnRenamed(\"Percent of adults with less than a high school diploma, 2015-19\", \"l_h_2015\")\n",
    "edu = edu.withColumnRenamed(\"Percent of adults with a high school diploma only, 2015-19\", \"e_h_2015\")\n",
    "edu = edu.withColumnRenamed(\"Percent of adults completing some college or associate's degree, 2015-19\", \"e_c_2015\")\n",
    "edu = edu.withColumnRenamed(\"Percent of adults with a bachelor's degree or higher, 2015-19\", \"g_c_2015\")\n",
    "edu.registerTempTable(\"edu\")\n",
    "edu_years = [\"1990\", \"2000\", \"2015\"]\n",
    "for edu_year in edu_years:\n",
    "    edu_temp = sqlContext.sql(\"SELECT State as state, area_name, '\"+ edu_year + \"' as year, l_h_\" + edu_year + \" as less_high_school, e_h_\" + edu_year + \" as equal_high_school, e_c_\" + edu_year + \" as equal_college, g_c_\" + edu_year + \" as greater_college FROM edu\")\n",
    "    edu_temp.registerTempTable(\"edu_temp\"+edu_year)\n",
    "\n",
    "edu_temp = sqlContext.sql(\"SELECT state, area_name, year, less_high_school, equal_high_school, equal_college, greater_college FROM edu_temp1990 UNION ALL SELECT state, area_name, year, less_high_school, equal_high_school, equal_college, greater_college FROM edu_temp2000 UNION ALL SELECT state, area_name, year, less_high_school, equal_high_school, equal_college, greater_college FROM edu_temp2015\")\n",
    "edu_temp.registerTempTable(\"edu\")\n",
    "\n",
    "\n",
    "# unemployment rate\n",
    "unemp_years = []\n",
    "for i in range(2000, 2020):\n",
    "    unemp_years.append(\"Civilian_labor_force_\"+str(i))\n",
    "    unemp_years.append(\"Employed_\"+str(i))\n",
    "    unemp_years.append(\"Unemployed_\"+str(i))\n",
    "    unemp_years.append(\"Unemployment_rate_\"+str(i))\n",
    "\n",
    "unemployment = unemployment_raw.na.drop(subset = unemp_years)\n",
    "unemployment.registerTempTable(\"unemp\")\n",
    "query = \"SELECT state, area_name, year, Civilian_labor_force, Employed, Unemployed, Unemployment_rate FROM unemp_temp2000\"\n",
    "for i in range(2000, 2020):\n",
    "    unemp_temp = sqlContext.sql(\"SELECT State as state, Area_name as area_name, \"+ str(i) + \" as year, Civilian_labor_force_\" + str(i) + \" as Civilian_labor_force, Employed_\" + str(i) + \" as Employed, Unemployed_\" + str(i) + \" as Unemployed, Unemployment_rate_\" + str(i) + \" as Unemployment_rate FROM unemp\")\n",
    "    unemp_temp.registerTempTable(\"unemp_temp\"+str(i))\n",
    "    if i != 2000:\n",
    "        query += \" UNION ALL SELECT state, area_name, year, Civilian_labor_force, Employed, Unemployed, Unemployment_rate FROM unemp_temp\" + str(i)\n",
    "\n",
    "unemp_temp = sqlContext.sql(query)\n",
    "unemp_temp.registerTempTable(\"unemp\")\n"
   ]
  },
  {
   "cell_type": "code",
   "execution_count": 5,
   "id": "9ed00be2",
   "metadata": {},
   "outputs": [],
   "source": [
    "# USA state and the corresponding abbreviations\n",
    "\n",
    "states_abb = sqlContext.read.csv(\"original_data/states_abb.csv\", header=True)\n",
    "states_abb.registerTempTable(\"states_abb\")"
   ]
  },
  {
   "cell_type": "markdown",
   "id": "4d8ad627",
   "metadata": {},
   "source": [
    "<hr style=\"border: 1px solid #003262;\" />\n",
    "\n",
    "## Question 1: Instruction expenditure and education level"
   ]
  },
  {
   "cell_type": "markdown",
   "id": "66f9c21f",
   "metadata": {},
   "source": [
    "Does the amount of instruction expenditure effectively affect the education level?"
   ]
  },
  {
   "cell_type": "markdown",
   "id": "0b9207ce",
   "metadata": {},
   "source": [
    "### Q1-1: Comparing different states, does the proportion of instruction expenditure make an influence on education level?"
   ]
  },
  {
   "cell_type": "code",
   "execution_count": 6,
   "id": "e1e280f5",
   "metadata": {},
   "outputs": [
    {
     "name": "stderr",
     "output_type": "stream",
     "text": [
      "                                                                                \r"
     ]
    }
   ],
   "source": [
    "## explore for the same year (2000), is the state with higher instruction expenditure has higher educational level?\n",
    "## x轴是教育支出占比，y轴是平均教育水平（低于高中，高中，大学，以上）\n",
    "\n",
    "q1 = sqlContext.sql(\n",
    "    '''\n",
    "    SELECT STATE, (cast(YEAR = 1992 as int)*(-2) + YEAR) as YEAR, cast(INSTRUCTION_EXPENDITURE as int), cast(INSTRUCTION_EXPENDITURE as float)/cast(TOTAL_EXPENDITURE as float) as instruction_expenditure_ratio\n",
    "    FROM expenditure\n",
    "    WHERE YEAR = 1992 OR YEAR = 2000 OR YEAR = 2015\n",
    "    ''')\n",
    "q1.registerTempTable('q1_temp')\n",
    "# q1.show()\n",
    "\n",
    "q2 = sqlContext.sql(\n",
    "    '''\n",
    "    SELECT state, state_full_name, year, AVG(less_high_school) as state_less_high_school, AVG(equal_high_school) as state_equal_high_school, AVG(equal_college) as state_equal_college, AVG(greater_college) as state_greater_college,AVG(equal_college)+AVG(greater_college) as state_high_education_level\n",
    "    FROM (SELECT state, state_full_name, area_name, year, less_high_school, equal_high_school, equal_college, greater_college\n",
    "         FROM edu JOIN states_abb ON edu.state = states_abb.abb)\n",
    "    WHERE year = 1990 OR year = 2000 OR year = 2015\n",
    "    GROUP BY state, state_full_name, year\n",
    "    ORDER BY state, year\n",
    "    ''')\n",
    "q2.registerTempTable('q2_temp')\n",
    "# q2.show()\n",
    "\n",
    "q3 = sqlContext.sql(\n",
    "    '''\n",
    "    SELECT state_full_name as State, q1_temp.YEAR, INSTRUCTION_EXPENDITURE, instruction_expenditure_ratio,state_less_high_school,state_equal_high_school,state_equal_college,state_greater_college,state_high_education_level\n",
    "    FROM q1_temp JOIN q2_temp ON q1_temp.STATE = q2_temp.state_full_name AND q1_temp.YEAR = q2_temp.year\n",
    "    ORDER BY state_full_name, q1_temp.YEAR\n",
    "    ''')\n",
    "q3.registerTempTable('q3_temp')\n",
    "# q3.show()\n",
    "\n",
    "q3_1 = sqlContext.sql(\n",
    "    '''\n",
    "    SELECT State, Year, instruction_expenditure_ratio, state_less_high_school,state_equal_high_school,state_equal_college,state_greater_college\n",
    "    FROM q3_temp\n",
    "    WHERE Year = 2000\n",
    "    ORDER BY instruction_expenditure_ratio\n",
    "    ''')\n",
    "# q3_1.show()\n",
    "q3_1.rdd.map(lambda i: ','.join(str(j) for j in i)).saveAsTextFile('sijuntao_si618_project_q1-1')\n",
    "\n",
    "# unemp_temp.coalesce(1).write.option(\"delimiter\",\"\\t\").option(\"header\", \"true\").csv(\"sijuntao_si618_hw7_output_1\") "
   ]
  },
  {
   "cell_type": "code",
   "execution_count": 7,
   "id": "2b319c8a",
   "metadata": {},
   "outputs": [
    {
     "name": "stdout",
     "output_type": "stream",
     "text": [
      "22/10/24 16:55:15 WARN HeartbeatReceiver: Removing executor driver with no recent heartbeats: 517156 ms exceeds timeout 120000 ms\n",
      "22/10/24 16:55:15 WARN SparkContext: Killing executors is not supported by current scheduler.\n"
     ]
    }
   ],
   "source": [
    "!cat ./sijuntao_si618_project_q1-1/part* >  ./data_sets/sijuntao_si618_project_q1-1.csv"
   ]
  },
  {
   "cell_type": "markdown",
   "id": "4ea8c2ee",
   "metadata": {},
   "source": [
    "### Q1-2: Is the higher education level related to the higher instruction expenditure?"
   ]
  },
  {
   "cell_type": "code",
   "execution_count": 134,
   "id": "8f215ec1",
   "metadata": {},
   "outputs": [],
   "source": [
    "## Considering 1990-2010\n",
    "## explore the relationship between avg instruction expenditure and avg educational level (1990, 2000, 2010, 2015)\n",
    "# 折线图，x是年份，y1是该年所有州的平均教育支出，y2是该年所有州的更高的平均教育水平（大学，以上）\n",
    "\n",
    "q3_2 = sqlContext.sql(\n",
    "    '''\n",
    "    SELECT State, YEAR, INSTRUCTION_EXPENDITURE, state_equal_college, state_greater_college, state_high_education_level\n",
    "    FROM q3_temp\n",
    "    ORDER BY State, YEAR\n",
    "    ''')\n",
    "# q3_2.show()\n",
    "q3_2.rdd.map(lambda i: ','.join(str(j) for j in i)).saveAsTextFile('sijuntao_si618_project_q1-2')\n"
   ]
  },
  {
   "cell_type": "code",
   "execution_count": 135,
   "id": "00778f14",
   "metadata": {},
   "outputs": [],
   "source": [
    "!cat ./sijuntao_si618_project_q1-2/part* >  ./data_sets/sijuntao_si618_project_q1-2.csv"
   ]
  },
  {
   "cell_type": "markdown",
   "id": "e89abf54",
   "metadata": {},
   "source": [
    "<hr style=\"border: 1px solid #003262;\" />\n",
    "\n",
    "## Question 2: Instruction expenditure and unemployment rate"
   ]
  },
  {
   "cell_type": "markdown",
   "id": "7e77d551",
   "metadata": {},
   "source": [
    "Does the amount of instruction expenditure affect infect the living standard of the local people (indicted by indictor `unemployement_rate`?"
   ]
  },
  {
   "cell_type": "markdown",
   "id": "262472a8",
   "metadata": {},
   "source": [
    "### Q2-1: Comparing different states, does the proportion of instruction expenditure make an influence on unemployment rate?"
   ]
  },
  {
   "cell_type": "code",
   "execution_count": 161,
   "id": "6efd4134",
   "metadata": {},
   "outputs": [],
   "source": [
    "## explore for the same year, is the state with higher instruction expenditure has lower unemployment rate?\n",
    "## x轴是教育支出占比，y轴是平均解雇率\n",
    "\n",
    "q4 = sqlContext.sql(\n",
    "    '''\n",
    "    SELECT STATE, YEAR, cast(INSTRUCTION_EXPENDITURE as int), cast(INSTRUCTION_EXPENDITURE as float)/cast(TOTAL_EXPENDITURE as float) as instruction_expenditure_ratio\n",
    "    FROM expenditure\n",
    "    WHERE YEAR >= 2000 AND YEAR <=2016\n",
    "    ''')\n",
    "q4.registerTempTable('q4_temp')\n",
    "# q4.show()\n",
    "\n",
    "q5 = sqlContext.sql(\n",
    "    '''\n",
    "    SELECT state, state_full_name, year, SUM(Civilian_labor_force) as state_Civilian_labor_force, SUM(Employed) as state_Employed, SUM(Unemployed) as state_Unemployed, ROUND(SUM(Unemployed)/SUM(Civilian_labor_force), 4) as state_unemployment_ratio, ROUND(SUM(Employed)/SUM(Civilian_labor_force), 4) as state_employment_ratio \n",
    "    FROM (SELECT state, state_full_name, area_name, year, REPLACE(Civilian_labor_force, ',', '') as Civilian_labor_force, REPLACE(Employed, ',', '') as Employed, REPLACE(Unemployed, ',', '') as Unemployed, Unemployment_rate\n",
    "         FROM unemp JOIN states_abb ON unemp.state = states_abb.abb)\n",
    "    WHERE year >=2000 AND year <=2016\n",
    "    GROUP BY state, state_full_name, year\n",
    "    ORDER BY state, year\n",
    "    ''')\n",
    "q5.registerTempTable('q5_temp')\n",
    "# q5.show()\n",
    "\n",
    "q6 = sqlContext.sql(\n",
    "    '''\n",
    "    SELECT state_full_name as State, q4_temp.YEAR, INSTRUCTION_EXPENDITURE, instruction_expenditure_ratio,state_unemployment_ratio, state_employment_ratio\n",
    "    FROM q4_temp JOIN q5_temp ON q4_temp.STATE = q5_temp.state_full_name AND q4_temp.YEAR = q5_temp.year\n",
    "    ORDER BY state_full_name, q4_temp.YEAR\n",
    "    ''')\n",
    "q6.registerTempTable('q6_temp')\n",
    "# q6.show()\n",
    "\n",
    "q6_1 = sqlContext.sql(\n",
    "    '''\n",
    "    SELECT State, Year, instruction_expenditure_ratio, state_unemployment_ratio\n",
    "    FROM q6_temp\n",
    "    ORDER BY instruction_expenditure_ratio\n",
    "    ''')\n",
    "# q6_1.show()\n",
    "q6_1.rdd.map(lambda i: ','.join(str(j) for j in i)).saveAsTextFile('sijuntao_si618_project_q2-1')\n",
    "\n",
    "# unemp_temp.coalesce(1).write.option(\"delimiter\",\"\\t\").option(\"header\", \"true\").csv(\"sijuntao_si618_hw7_output_1\") "
   ]
  },
  {
   "cell_type": "code",
   "execution_count": 162,
   "id": "fb584d6f",
   "metadata": {},
   "outputs": [],
   "source": [
    "!cat ./sijuntao_si618_project_q2-1/part* >  ./data_sets/sijuntao_si618_project_q2-1.csv"
   ]
  },
  {
   "cell_type": "markdown",
   "id": "9de2cd96",
   "metadata": {},
   "source": [
    "### Q2-2: Is the lower unemployment rate related to the higher instruction expenditure?"
   ]
  },
  {
   "cell_type": "code",
   "execution_count": 165,
   "id": "3b9e4271",
   "metadata": {},
   "outputs": [],
   "source": [
    "## consider 2010-2019\n",
    "## explore the relationship between avg instruction expenditure and avg educational level (1990, 2000, 2010, 2015)\n",
    "# 折线图，x是年份，y1是该年所有州的平均教育支出，y2是该年解雇率\n",
    "\n",
    "q6_2 = sqlContext.sql(\n",
    "    '''\n",
    "    SELECT State, YEAR, INSTRUCTION_EXPENDITURE, state_unemployment_ratio\n",
    "    FROM q6_temp\n",
    "    ORDER BY State, YEAR\n",
    "    ''')\n",
    "# q6_2.show()\n",
    "q6_2.rdd.map(lambda i: ','.join(str(j) for j in i)).saveAsTextFile('sijuntao_si618_project_q2-2')\n"
   ]
  },
  {
   "cell_type": "code",
   "execution_count": 166,
   "id": "51391db2",
   "metadata": {},
   "outputs": [],
   "source": [
    "!cat ./sijuntao_si618_project_q2-2/part* >  ./data_sets/sijuntao_si618_project_q2-2.csv"
   ]
  },
  {
   "cell_type": "markdown",
   "id": "c8734a5d",
   "metadata": {},
   "source": [
    "<hr style=\"border: 1px solid #003262;\" />\n",
    "\n",
    "## Question 3: Employment rate and expenditure"
   ]
  },
  {
   "cell_type": "markdown",
   "id": "6d9e0289",
   "metadata": {},
   "source": [
    "Does the higher employment rate promote the government's willingness to invest more in education?"
   ]
  },
  {
   "cell_type": "markdown",
   "id": "27b59d9c",
   "metadata": {},
   "source": [
    "### Q2-1: Does a higher employment rate result in government to invest more in intruction expenditure in the following year?"
   ]
  },
  {
   "cell_type": "code",
   "execution_count": 172,
   "id": "d336c3be",
   "metadata": {},
   "outputs": [],
   "source": [
    "q7 = sqlContext.sql(\n",
    "    '''\n",
    "    SELECT State, YEAR, INSTRUCTION_EXPENDITURE,instruction_expenditure_ratio, state_employment_ratio\n",
    "    FROM q6_temp\n",
    "    ORDER BY State, YEAR\n",
    "    ''')\n",
    "# q7.show()\n",
    "q7.rdd.map(lambda i: ','.join(str(j) for j in i)).saveAsTextFile('sijuntao_si618_project_q3-1')"
   ]
  },
  {
   "cell_type": "code",
   "execution_count": 173,
   "id": "3d7c5070",
   "metadata": {},
   "outputs": [],
   "source": [
    "!cat ./sijuntao_si618_project_q3-1/part* >  ./data_sets/sijuntao_si618_project_q3-1.csv"
   ]
  },
  {
   "cell_type": "markdown",
   "id": "0ec54367",
   "metadata": {},
   "source": [
    "### Q3-2: Is the higher support service expenditure related to the higher employment rate?"
   ]
  },
  {
   "cell_type": "code",
   "execution_count": 177,
   "id": "a7442fa2",
   "metadata": {},
   "outputs": [],
   "source": [
    "## consider 2010-2019\n",
    "## explore the relationship between avg instruction expenditure and avg educational level (1990, 2000, 2010, 2015)\n",
    "# 折线图，x是年份，y1是该年所有州的平均教育支持服务支出，y2是该年雇佣率\n",
    "\n",
    "q8 = sqlContext.sql(\n",
    "    '''\n",
    "    SELECT STATE, YEAR, cast(SUPPORT_SERVICES_EXPENDITURE as int), cast(SUPPORT_SERVICES_EXPENDITURE as float)/cast(TOTAL_EXPENDITURE as float) as sur_ser_expenditure_ratio\n",
    "    FROM expenditure\n",
    "    WHERE YEAR >= 2000 AND YEAR <=2016\n",
    "    ''')\n",
    "q8.registerTempTable(\"q8_temp\")\n",
    "# q8.show()\n",
    "\n",
    "q9 = sqlContext.sql(\n",
    "    '''\n",
    "    SELECT state_full_name as State, q8_temp.YEAR, SUPPORT_SERVICES_EXPENDITURE, sur_ser_expenditure_ratio, state_employment_ratio\n",
    "    FROM q8_temp JOIN q5_temp ON q8_temp.STATE = q5_temp.state_full_name AND q8_temp.YEAR = q5_temp.year\n",
    "    ORDER BY state_full_name, q8_temp.YEAR\n",
    "    ''')\n",
    "q9.registerTempTable('q9_temp')\n",
    "# q9.show()\n",
    "q9.rdd.map(lambda i: ','.join(str(j) for j in i)).saveAsTextFile('sijuntao_si618_project_q3-2')"
   ]
  },
  {
   "cell_type": "code",
   "execution_count": 178,
   "id": "9c1fa498",
   "metadata": {},
   "outputs": [],
   "source": [
    "!cat ./sijuntao_si618_project_q3-2/part* >  ./data_sets/sijuntao_si618_project_q3-2.csv"
   ]
  },
  {
   "cell_type": "code",
   "execution_count": 183,
   "id": "817246ae",
   "metadata": {},
   "outputs": [
    {
     "name": "stdout",
     "output_type": "stream",
     "text": [
      "22/10/22 18:31:41 WARN Utils: Your hostname, MacBook-Pro-174.local resolves to a loopback address: 127.0.0.1; using 10.169.1.66 instead (on interface en0)\n",
      "22/10/22 18:31:41 WARN Utils: Set SPARK_LOCAL_IP if you need to bind to another address\n",
      "Setting default log level to \"WARN\".\n",
      "To adjust logging level use sc.setLogLevel(newLevel). For SparkR, use setLogLevel(newLevel).\n",
      "22/10/22 18:31:42 WARN NativeCodeLoader: Unable to load native-hadoop library for your platform... using builtin-java classes where applicable\n",
      "22/10/22 18:31:43 WARN Utils: Service 'SparkUI' could not bind on port 4040. Attempting port 4041.\n",
      "/Users/junsi/opt/anaconda3/lib/python3.9/site-packages/pyspark/sql/context.py:112: FutureWarning: Deprecated in 3.0.0. Use SparkSession.builder.getOrCreate() instead.\n",
      "  warnings.warn(\n",
      "/Users/junsi/opt/anaconda3/lib/python3.9/site-packages/pyspark/sql/dataframe.py:229: FutureWarning: Deprecated in 2.0, use createOrReplaceTempView instead.\n",
      "  warnings.warn(\"Deprecated in 2.0, use createOrReplaceTempView instead.\", FutureWarning)\n",
      "22/10/22 18:31:47 WARN package: Truncated the string representation of a plan since it was too large. This behavior can be adjusted by setting 'spark.sql.debug.maxToStringFields'.\n",
      "                                                                                \r"
     ]
    }
   ],
   "source": [
    "!python3 sijuntao_si618_project1_data_preprocess.py"
   ]
  },
  {
   "cell_type": "code",
   "execution_count": 184,
   "id": "ac0b95f8",
   "metadata": {},
   "outputs": [],
   "source": [
    "!cat ./sijuntao_si618_project_q1-1/part* >  ./data_sets/sijuntao_si618_project_q1-1.csv\n",
    "!cat ./sijuntao_si618_project_q1-2/part* >  ./data_sets/sijuntao_si618_project_q1-2.csv\n",
    "!cat ./sijuntao_si618_project_q2-1/part* >  ./data_sets/sijuntao_si618_project_q2-1.csv\n",
    "!cat ./sijuntao_si618_project_q2-2/part* >  ./data_sets/sijuntao_si618_project_q2-2.csv\n",
    "!cat ./sijuntao_si618_project_q3-1/part* >  ./data_sets/sijuntao_si618_project_q3-1.csv\n",
    "!cat ./sijuntao_si618_project_q3-2/part* >  ./data_sets/sijuntao_si618_project_q3-2.csv"
   ]
  },
  {
   "cell_type": "code",
   "execution_count": null,
   "id": "df586c98",
   "metadata": {},
   "outputs": [],
   "source": []
  }
 ],
 "metadata": {
  "kernelspec": {
   "display_name": "Python 3 (ipykernel)",
   "language": "python",
   "name": "python3"
  },
  "language_info": {
   "codemirror_mode": {
    "name": "ipython",
    "version": 3
   },
   "file_extension": ".py",
   "mimetype": "text/x-python",
   "name": "python",
   "nbconvert_exporter": "python",
   "pygments_lexer": "ipython3",
   "version": "3.9.12"
  }
 },
 "nbformat": 4,
 "nbformat_minor": 5
}
