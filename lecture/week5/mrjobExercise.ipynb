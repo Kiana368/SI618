{
 "cells": [
  {
   "cell_type": "code",
   "execution_count": 13,
   "metadata": {},
   "outputs": [
    {
     "name": "stdout",
     "output_type": "stream",
     "text": [
      "Overwriting wordcharline_count.py\n"
     ]
    }
   ],
   "source": [
    "%%file wordcharline_count.py\n",
    "from mrjob.job import MRJob\n",
    "\n",
    "class MRWordCharLineCount(MRJob):\n",
    "    def mapper(self, _, line):\n",
    "        yield \"chars\", len(line)\n",
    "        yield \"words\", len(line.split())\n",
    "        yield \"line\", 1\n",
    "    \n",
    "    def reducer(self, key,values):\n",
    "        yield key, sum(values)\n",
    "        \n",
    "if __name__ == '__main__':\n",
    "    a = MRWordCharLineCount()"
   ]
  },
  {
   "cell_type": "code",
   "execution_count": 4,
   "metadata": {},
   "outputs": [
    {
     "name": "stdout",
     "output_type": "stream",
     "text": [
      "No configs found; falling back on auto-configuration\n",
      "No configs specified for local runner\n",
      "Creating temp directory /var/folders/10/lx3rh6q956qc768glw5ktj600000gn/T/wordcharline_count.junsi.20220929.202100.105168\n",
      "Running step 1 of 1...\n",
      "job output is in wordcharline_count_out\n",
      "Removing temp directory /var/folders/10/lx3rh6q956qc768glw5ktj600000gn/T/wordcharline_count.junsi.20220929.202100.105168...\n"
     ]
    }
   ],
   "source": [
    "!python3 wordcharline_count.py -r local *.txt --output-dir = wordcharline_count_out --no-output"
   ]
  },
  {
   "cell_type": "code",
   "execution_count": 5,
   "metadata": {},
   "outputs": [
    {
     "name": "stdout",
     "output_type": "stream",
     "text": [
      "Writing starts_with_t.py\n"
     ]
    }
   ],
   "source": [
    "%%file starts_with_t.py\n",
    "\n",
    "import mrjob\n",
    "from mrjob.job import MRJob\n",
    "\n",
    "class StartsWithT(MRJob):\n",
    "    OUTPUT_PROTOCOL = mrjob.protocol.RawValueProtocol\n",
    "    \n",
    "    def mapper (self, _, line):\n",
    "        if(line.startswith(\"T\")):\n",
    "            yield (None, line)\n",
    "            \n",
    "if __name__ == '__main__':\n",
    "    StartsWithT.run()"
   ]
  },
  {
   "cell_type": "code",
   "execution_count": 6,
   "metadata": {},
   "outputs": [
    {
     "name": "stdout",
     "output_type": "stream",
     "text": [
      "No configs found; falling back on auto-configuration\n",
      "No configs specified for local runner\n",
      "Creating temp directory /var/folders/10/lx3rh6q956qc768glw5ktj600000gn/T/starts_with_t.junsi.20220929.202249.039023\n",
      "Running step 1 of 1...\n",
      "job output is in startswith_t_out\n",
      "Removing temp directory /var/folders/10/lx3rh6q956qc768glw5ktj600000gn/T/starts_with_t.junsi.20220929.202249.039023...\n"
     ]
    }
   ],
   "source": [
    "!python3 starts_with_t.py -r local *.txt --output-dir = startswith_t_out --no-output"
   ]
  },
  {
   "cell_type": "code",
   "execution_count": null,
   "metadata": {},
   "outputs": [],
   "source": []
  }
 ],
 "metadata": {
  "kernelspec": {
   "display_name": "Python 3 (ipykernel)",
   "language": "python",
   "name": "python3"
  },
  "language_info": {
   "codemirror_mode": {
    "name": "ipython",
    "version": 3
   },
   "file_extension": ".py",
   "mimetype": "text/x-python",
   "name": "python",
   "nbconvert_exporter": "python",
   "pygments_lexer": "ipython3",
   "version": "3.9.12"
  }
 },
 "nbformat": 4,
 "nbformat_minor": 2
}
