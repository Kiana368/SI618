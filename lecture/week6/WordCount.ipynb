{
 "cells": [
  {
   "cell_type": "code",
   "execution_count": 2,
   "id": "ecb802f4",
   "metadata": {},
   "outputs": [
    {
     "ename": "TypeError",
     "evalue": "textFile() missing 1 required positional argument: 'name'",
     "output_type": "error",
     "traceback": [
      "\u001b[0;31m---------------------------------------------------------------------------\u001b[0m",
      "\u001b[0;31mTypeError\u001b[0m                                 Traceback (most recent call last)",
      "Input \u001b[0;32mIn [2]\u001b[0m, in \u001b[0;36m<cell line: 4>\u001b[0;34m()\u001b[0m\n\u001b[1;32m      2\u001b[0m \u001b[38;5;28;01mfrom\u001b[39;00m \u001b[38;5;21;01mpyspark\u001b[39;00m \u001b[38;5;28;01mimport\u001b[39;00m SparkConf, SparkContext \u001b[38;5;28;01mas\u001b[39;00m sc\n\u001b[1;32m      3\u001b[0m WORD_RE \u001b[38;5;241m=\u001b[39m re\u001b[38;5;241m.\u001b[39mcompile(\u001b[38;5;124mr\u001b[39m\u001b[38;5;124m\"\u001b[39m\u001b[38;5;124m\\\u001b[39m\u001b[38;5;124mb[\u001b[39m\u001b[38;5;124m\\\u001b[39m\u001b[38;5;124mw\u001b[39m\u001b[38;5;124m'\u001b[39m\u001b[38;5;124m]+\u001b[39m\u001b[38;5;124m\\\u001b[39m\u001b[38;5;124mb\u001b[39m\u001b[38;5;124m\"\u001b[39m)\n\u001b[0;32m----> 4\u001b[0m input_file \u001b[38;5;241m=\u001b[39m \u001b[43msc\u001b[49m\u001b[38;5;241;43m.\u001b[39;49m\u001b[43mtextFile\u001b[49m\u001b[43m(\u001b[49m\u001b[38;5;124;43m\"\u001b[39;49m\u001b[38;5;124;43m/nfs/turbo/arcts-data-hadoop-stage/data/Gutenberg.txt\u001b[39;49m\u001b[38;5;124;43m\"\u001b[39;49m\u001b[43m)\u001b[49m\n",
      "\u001b[0;31mTypeError\u001b[0m: textFile() missing 1 required positional argument: 'name'"
     ]
    }
   ],
   "source": [
    "import re\n",
    "from pyspark import SparkConf, SparkContext as sc\n",
    "WORD_RE = re.compile(r\"\\b[\\w']+\\b\")\n",
    "input_file = sc.textFile(\"/nfs/turbo/arcts-data-hadoop-stage/data/Gutenberg.txt\")"
   ]
  },
  {
   "cell_type": "code",
   "execution_count": 3,
   "id": "40dd824c",
   "metadata": {},
   "outputs": [
    {
     "data": {
      "text/plain": [
       "[('the', 11518058),\n",
       " ('of', 6666351),\n",
       " ('and', 6573202),\n",
       " ('to', 5692140),\n",
       " ('a', 4394263)]"
      ]
     },
     "execution_count": 3,
     "metadata": {},
     "output_type": "execute_result"
    }
   ],
   "source": [
    "word_counts = input_file.flatMap(lambda line: WORD_RE.findall(line)) \\\n",
    "                        .map(lambda word: (word, 1)) \\\n",
    "                        .reduceByKey(lambda a, b: a + b)\n",
    "\n",
    "word_counts_sorted = word_counts.sortBy(lambda x: x[1], ascending = False)\n",
    "word_counts_sorted.take(5)"
   ]
  },
  {
   "cell_type": "code",
   "execution_count": 4,
   "id": "194f5661",
   "metadata": {},
   "outputs": [],
   "source": [
    "word_counts_sorted.saveAsTextFile(\"/scratch/siads618f22_class_root/siads618f22_class/cbudak/gutenberg_count\")\n",
    "word_counts_sorted.map(lambda t : t[0] + '\\t' + str(t[1])).saveAsTextFile('/scratch/siads618f22_class_root/siads618f22_class/cbudak/gutenberg_count2')\n"
   ]
  },
  {
   "cell_type": "code",
   "execution_count": null,
   "id": "7ac2e6ea",
   "metadata": {},
   "outputs": [],
   "source": []
  }
 ],
 "metadata": {
  "kernelspec": {
   "display_name": "Python 3 (ipykernel)",
   "language": "python",
   "name": "python3"
  },
  "language_info": {
   "codemirror_mode": {
    "name": "ipython",
    "version": 3
   },
   "file_extension": ".py",
   "mimetype": "text/x-python",
   "name": "python",
   "nbconvert_exporter": "python",
   "pygments_lexer": "ipython3",
   "version": "3.9.12"
  }
 },
 "nbformat": 4,
 "nbformat_minor": 5
}
