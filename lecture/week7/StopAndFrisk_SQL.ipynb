{
 "cells": [
  {
   "cell_type": "markdown",
   "id": "55fe5c29",
   "metadata": {},
   "source": [
    "## Stop-and-Frisk in New York\n",
    "\n",
    "Stop and frisk was a policy/program which empowered the police in New York (and other cities) to temporarily detain, question, and at times search civilians and suspects on the street for weapons and other contraband. \n",
    "This controversial policy was found unconstitutional since it violates the U.S Constitution’s 4th Amendment prohibition of unreasonable searches and seizures. It was also found to violate the 14th Amendment’s equal protection clause.\n",
    "\n",
    "The judge also appointed an independent monitor to oversee the implementation of a broad set of court-mandated reforms that followed the litigation. A following NYPD mandate required officers to thoroughly justify the reason for making a stop. While the program is not fully scrapped, the stops dropped drastically in the 2011-2013 time period and continue to drop.\n",
    "\n",
    "For a historical lens, see: https://en.wikipedia.org/wiki/Stop-and-frisk_in_New_York_City\n",
    "\n",
    "Details about one of the lawsuits (and a time series): https://www.nyclu.org/en/stop-and-frisk-data\n",
    "\n",
    "New York kept detailed records of these stops, which allows use to see exactly what happened there. Welcome to invetigative journalism through SparkSQl. Here, we will noly use the 2009 data, when NYPD was heavily using this program to stop its citizens. I invite you to continue the investigation yourself later (some ideas listed at the bottom)..."
   ]
  },
  {
   "cell_type": "code",
   "execution_count": 1,
   "id": "7698390c",
   "metadata": {},
   "outputs": [],
   "source": [
    "import pyspark.sql.functions as f\n",
    "from pyspark.sql.types import *\n",
    "from pyspark.sql.functions import *"
   ]
  },
  {
   "cell_type": "code",
   "execution_count": 2,
   "id": "c2d02867",
   "metadata": {},
   "outputs": [
    {
     "ename": "NameError",
     "evalue": "name 'sqlContext' is not defined",
     "output_type": "error",
     "traceback": [
      "\u001b[0;31m---------------------------------------------------------------------------\u001b[0m",
      "\u001b[0;31mNameError\u001b[0m                                 Traceback (most recent call last)",
      "Input \u001b[0;32mIn [2]\u001b[0m, in \u001b[0;36m<cell line: 3>\u001b[0;34m()\u001b[0m\n\u001b[1;32m      1\u001b[0m \u001b[38;5;66;03m# Lets read the csv file and inspect it\u001b[39;00m\n\u001b[1;32m      2\u001b[0m \u001b[38;5;66;03m# Data from https://www1.nyc.gov/site/nypd/stats/reports-analysis/stopfrisk.page\u001b[39;00m\n\u001b[0;32m----> 3\u001b[0m saf \u001b[38;5;241m=\u001b[39m \u001b[43msqlContext\u001b[49m\u001b[38;5;241m.\u001b[39mread\u001b[38;5;241m.\u001b[39mcsv(\u001b[38;5;124m\"\u001b[39m\u001b[38;5;124m/scratch/siads618f22_class_root/siads618f22_class/shared_data/lecture7/stopAndFrisk2009.csv\u001b[39m\u001b[38;5;124m\"\u001b[39m, header\u001b[38;5;241m=\u001b[39m\u001b[38;5;28;01mTrue\u001b[39;00m)\n\u001b[1;32m      4\u001b[0m saf\u001b[38;5;241m.\u001b[39mprintSchema()\n",
      "\u001b[0;31mNameError\u001b[0m: name 'sqlContext' is not defined"
     ]
    }
   ],
   "source": [
    "# Lets read the csv file and inspect it\n",
    "# Data from https://www1.nyc.gov/site/nypd/stats/reports-analysis/stopfrisk.page\n",
    "saf = sqlContext.read.csv(\"/scratch/siads618f22_class_root/siads618f22_class/shared_data/lecture7/stopAndFrisk2009.csv\", header=True)\n",
    "saf.printSchema()"
   ]
  },
  {
   "cell_type": "code",
   "execution_count": 3,
   "id": "21a32031",
   "metadata": {},
   "outputs": [
    {
     "name": "stdout",
     "output_type": "stream",
     "text": [
      "+-------+\n",
      "|frisked|\n",
      "+-------+\n",
      "|      Y|\n",
      "|      N|\n",
      "|      Y|\n",
      "|      N|\n",
      "|      Y|\n",
      "|      Y|\n",
      "|      N|\n",
      "|      N|\n",
      "|      N|\n",
      "|      N|\n",
      "|      N|\n",
      "|      Y|\n",
      "|      Y|\n",
      "|      Y|\n",
      "|      Y|\n",
      "|      Y|\n",
      "|      Y|\n",
      "|      N|\n",
      "|      Y|\n",
      "|      Y|\n",
      "+-------+\n",
      "only showing top 20 rows\n",
      "\n",
      "+-------+\n",
      "|frisked|\n",
      "+-------+\n",
      "|      Y|\n",
      "|      N|\n",
      "+-------+\n",
      "\n"
     ]
    },
    {
     "name": "stderr",
     "output_type": "stream",
     "text": [
      "/sw/pkgs/arc/spark/spark-3.2.1-bin-hadoop3.2/python/pyspark/sql/dataframe.py:138: FutureWarning: Deprecated in 2.0, use createOrReplaceTempView instead.\n",
      "  warnings.warn(\n",
      "22/10/13 10:33:50 WARN package: Truncated the string representation of a plan since it was too large. This behavior can be adjusted by setting 'spark.sql.debug.maxToStringFields'.\n"
     ]
    },
    {
     "name": "stdout",
     "output_type": "stream",
     "text": [
      "+-----+----+-------------+--------+--------+-------+--------+--------+---+----+---+\n",
      "| year| pct|     crimsusp|arstmade|sumissue|frisked|searched|contrabn|sex|race|age|\n",
      "+-----+----+-------------+--------+--------+-------+--------+--------+---+----+---+\n",
      "| 2009|  67|       FELONY|       N|       N|      Y|       N|       N|  M|   B| 19|\n",
      "| 2009| 115|         MISD|       N|       N|      N|       N|       N|  M|   B| 24|\n",
      "| 2009|  84|          FEL|       Y|       N|      Y|       Y|       N|  M|   B| 23|\n",
      "| 2009|  46|          FEL|       N|       N|      N|       N|       N|  M|   B| 22|\n",
      "| 2009|  62|      ROBBERY|       N|       N|      Y|       Y|       N|  M|   I| 14|\n",
      "| 2009|  47|     FEL  CPW|       N|       N|      Y|       N|       N|  M|   B| 20|\n",
      "| 2009|  50|       FELONY|       N|       N|      N|       N|       N|  M|   W| 61|\n",
      "| 2009|  30|     TRESPASS|       N|       N|      N|       N|       N|  F|   B| 29|\n",
      "| 2009|  33|          FEL|       N|       N|      N|       N|       N|  M|   Q| 21|\n",
      "| 2009|  28|          FEL|       N|       N|      N|       N|       N|  M|   Q| 18|\n",
      "| 2009|  33|       FELONY|       N|       N|      N|       N|       N|  M|   P| 22|\n",
      "| 2009|  26|      ROBBERY|       N|       N|      Y|       N|       N|  M|   B| 16|\n",
      "| 2009|  32|          FEL|       N|       N|      Y|       N|       N|  M|   B| 20|\n",
      "| 2009|  45|       FELONY|       N|       N|      Y|       N|       N|  M|   P| 40|\n",
      "| 2009|  26|GRAND LARCENY|       N|       N|      Y|       N|       N|  M|   B| 21|\n",
      "| 2009|  46|          CPW|       N|       N|      Y|       N|       N|  M|   Q| 29|\n",
      "| 2009|  73|  MISDEMEANOR|       N|       N|      Y|       N|       N|  M|   B| 21|\n",
      "| 2009|  19|         MISD|       N|       N|      N|       N|       N|  F|   W| 34|\n",
      "| 2009|  26|      ROBBERY|       Y|       N|      Y|       Y|       N|  M|   B| 27|\n",
      "| 2009|  50|      ROBBERY|       N|       N|      Y|       N|       N|  M|   Q| 16|\n",
      "+-----+----+-------------+--------+--------+-------+--------+--------+---+----+---+\n",
      "only showing top 20 rows\n",
      "\n"
     ]
    }
   ],
   "source": [
    "saf.select(\"frisked\").show()\n",
    "saf.select(\"frisked\").distinct().show()\n",
    "\n",
    "saf.registerTempTable(\"saf\")\n",
    "\n",
    "q1 = sqlContext.sql(\"SELECT year, pct, crimsusp, arstmade, sumissue, frisked, searched, contrabn, sex, race, age FROM saf\")\n",
    "q1.show()"
   ]
  },
  {
   "cell_type": "markdown",
   "id": "e695f226",
   "metadata": {},
   "source": [
    "Let's get some summary stats by race\n",
    "Here are the race categories:\n",
    "\n",
    "-\tA\tASIAN/PACIFIC ISLANDER\n",
    "-\tB\tBLACK\n",
    "-\tI\tAMERICAN INDIAN/ALASKAN NATIVE\n",
    "-\tP\tBLACK-HISPANIC\n",
    "-\tQ\tWHITE-HISPANIC\n",
    "-\tW\tWHITE\n",
    "-\tX\tUNKNOWN\n",
    "-\tZ\tOTHER\n",
    "\n",
    "Info about the data at: https://www1.nyc.gov/assets/nypd/downloads/zip/analysis_and_planning/stop-question-frisk/SQF-File-Documentation.zip\n"
   ]
  },
  {
   "cell_type": "code",
   "execution_count": 4,
   "id": "5c55e33a",
   "metadata": {},
   "outputs": [
    {
     "name": "stdout",
     "output_type": "stream",
     "text": [
      "+------------------+------+----+\n",
      "|        friskRatio| stops|race|\n",
      "+------------------+------+----+\n",
      "|0.5617593754356615| 14346|   Z|\n",
      "|0.4975363609379638| 16845|   A|\n",
      "|0.6199903428295509| 35207|   P|\n",
      "|0.4610175183298819| 53601|   W|\n",
      "|0.5976333811996023|144848|   Q|\n",
      "|0.5723654345789428|310611|   B|\n",
      "+------------------+------+----+\n",
      "\n"
     ]
    }
   ],
   "source": [
    "# Let's see how many stops there are for each race and what is the likelihood of being frisked conditional oon being stopped\n",
    "# We will only consider demographic groups with sufficient data (> 5000 stops)\n",
    "q2 = sqlContext.sql(\"SELECT AVG(cast((frisked == 'Y') as int)) as friskRatio, count(*) as stops, race from saf GROUP BY race HAVING stops > 5000 ORDER BY stops\")\n",
    "q2.show()"
   ]
  },
  {
   "cell_type": "code",
   "execution_count": 5,
   "id": "9ec2ed85",
   "metadata": {},
   "outputs": [
    {
     "name": "stdout",
     "output_type": "stream",
     "text": [
      "+-----------+-----------+----------+------+----+\n",
      "|contraRatio|arrestRatio|friskRatio| stops|race|\n",
      "+-----------+-----------+----------+------+----+\n",
      "|     0.0123|     0.0506|    0.5618| 14346|   Z|\n",
      "|     0.0154|     0.0648|    0.4975| 16845|   A|\n",
      "|     0.0171|     0.0672|    0.6200| 35207|   P|\n",
      "|     0.0221|     0.0615|    0.4610| 53601|   W|\n",
      "|     0.0149|     0.0607|    0.5976|144848|   Q|\n",
      "|     0.0168|     0.0591|    0.5724|310611|   B|\n",
      "+-----------+-----------+----------+------+----+\n",
      "\n"
     ]
    }
   ],
   "source": [
    "# The goal of stop and frisk was to stop crime. \n",
    "# A good heuristic is whether they find a contraband at the end. \n",
    "# Let's see how that success varies by race\n",
    "q3 = sqlContext.sql('''SELECT CAST(AVG(cast((contrabn == 'Y') as int)) as decimal (10,4)) as contraRatio, \n",
    "        CAST(AVG(cast((arstmade == 'Y') as int)) as decimal (10,4)) as arrestRatio, \n",
    "        CAST(AVG(cast((frisked == 'Y') as int)) as decimal (10,4)) as friskRatio, count(*) as stops, race from saf \n",
    "        GROUP BY race HAVING stops > 5000 ORDER BY stops''')\n",
    "q3.show()"
   ]
  },
  {
   "cell_type": "code",
   "execution_count": 6,
   "id": "719bf3f8",
   "metadata": {},
   "outputs": [],
   "source": [
    "# You can collect the results to create a non-distributed object\n",
    "q3.collect()\n",
    "# You can also write to file\n",
    "q3.rdd.map(lambda i: '\\t'.join(str(j) for j in i)) \\\n",
    "    .saveAsTextFile('stopAndFriskSimpleStats')\n",
    "\n",
    "# Use .rdd to convert DF to rdd\n",
    "q3rdd = q3.rdd\n",
    "# Use toDF to convert rdd to df\n",
    "q3again = q3rdd.toDF() \n",
    "\n",
    "# You actually do not need the schema here since the rdd object converted \n",
    "# from DF already has the column names"
   ]
  },
  {
   "cell_type": "code",
   "execution_count": 7,
   "id": "4a160991",
   "metadata": {},
   "outputs": [
    {
     "name": "stdout",
     "output_type": "stream",
     "text": [
      "+---+---------+-----+-----+--------+-----+\n",
      "|pct|Total_Pop|white|black|hispanic|asian|\n",
      "+---+---------+-----+-----+--------+-----+\n",
      "|  1|    66679|70.83| 2.97|    7.01|15.78|\n",
      "|  5|    52568|20.43| 4.37|   11.24|62.22|\n",
      "|  6|    62226|81.10| 1.95|    6.08| 8.01|\n",
      "|  7|    56355|23.92| 8.12|   31.90|34.06|\n",
      "|  9|    76443|51.75| 7.15|   23.93|14.17|\n",
      "| 10|    50180|61.38| 7.01|   17.58|11.17|\n",
      "| 13|    93640|69.79| 4.67|    9.15|13.65|\n",
      "| 14|    20651|56.20| 6.55|   10.64|23.89|\n",
      "| 17|    79126|76.11| 2.00|    5.81|13.95|\n",
      "| 18|    54066|60.45| 4.88|   16.43|15.52|\n",
      "| 19|   208259|81.01| 2.31|    6.64| 8.03|\n",
      "| 20|   102624|76.86| 3.76|    8.39| 8.73|\n",
      "| 22|       25| 8.00|64.00|   24.00| 0.00|\n",
      "| 23|    73106|14.86|25.42|   50.14| 7.42|\n",
      "| 24|   106460|58.21|11.25|   21.36| 6.55|\n",
      "| 25|    47405| 7.55|40.10|   47.75| 2.59|\n",
      "| 26|    49508|38.80|20.52|   24.80|12.45|\n",
      "| 28|    44781|16.14|55.98|   20.98| 3.51|\n",
      "| 30|    60685|10.18|27.93|   57.39| 2.26|\n",
      "| 32|    70942| 5.39|67.37|   22.98| 1.72|\n",
      "+---+---------+-----+-----+--------+-----+\n",
      "only showing top 20 rows\n",
      "\n"
     ]
    }
   ],
   "source": [
    "# Ok, let's build up even more. You might say maybe the police stops are driven by overall population?\n",
    "# Let's account for that\n",
    "\n",
    "# Population Data - 2010 Census\n",
    "pop = sqlContext.read.csv(\"/scratch/siads618f22_class_root/siads618f22_class/shared_data/lecture7/nyc_2010pop_2020precincts.csv\", header=True)\n",
    "pop.registerTempTable('pop')\n",
    "\n",
    "q4 = sqlContext.sql('''SELECT precinct_2020 as pct, P0020001 as Total_Pop, CAST(P0020005*100/P0020001 as decimal(10,2)) as white,\n",
    "                    CAST(P0020006*100/P0020001 as decimal(10,2)) as black, CAST(P0020002*100/P0020001 as decimal(10,2)) as hispanic,\n",
    "                    CAST(P0020008*100/P0020001 as decimal(10,2)) as asian\n",
    "                    FROM pop\n",
    "                    ''')\n",
    "q4 = q4.withColumn('pct', trim(q4.pct))\n",
    "q4.registerTempTable('precinctPop')\n",
    "q4.show()"
   ]
  },
  {
   "cell_type": "code",
   "execution_count": 8,
   "id": "ebaa6d72",
   "metadata": {},
   "outputs": [
    {
     "name": "stdout",
     "output_type": "stream",
     "text": [
      "+---+-----+-----------+-----------+----------+---------------+---------------+------------------+---------------+\n",
      "|pct|stops|contraRatio|arrestRatio|friskRatio|black_prcntstop|white_prcntstop|hispanic_prcntstop|asian_prcntstop|\n",
      "+---+-----+-----------+-----------+----------+---------------+---------------+------------------+---------------+\n",
      "|  1| 2585|       0.02|       0.09|      0.51|          63.21|          11.99|             15.90|           3.21|\n",
      "|  5| 2880|       0.02|       0.08|      0.46|          40.31|          10.90|             20.90|          13.99|\n",
      "|  6| 2325|       0.02|       0.07|      0.44|          56.90|          17.55|             16.69|           2.32|\n",
      "|  7| 3825|       0.04|       0.10|      0.62|          34.93|          11.76|             37.02|           3.76|\n",
      "|  9| 5196|       0.04|       0.11|      0.46|          33.20|          19.48|             32.64|           2.73|\n",
      "| 10| 2760|       0.04|       0.10|      0.49|          46.49|          20.07|             23.19|           2.83|\n",
      "| 13| 4594|       0.01|       0.08|      0.34|          44.19|          15.93|             24.51|           2.94|\n",
      "| 14|10094|       0.01|       0.06|      0.36|          57.40|          13.14|             19.46|           2.79|\n",
      "| 17| 1611|       0.01|       0.05|      0.31|          36.93|          22.35|             22.04|           6.15|\n",
      "| 18| 2495|       0.01|       0.07|      0.35|          50.42|          19.04|             19.12|           2.89|\n",
      "| 19| 3784|       0.02|       0.12|      0.43|          35.25|          24.89|             24.55|           3.62|\n",
      "| 20| 3041|       0.03|       0.16|      0.36|          39.89|          22.16|             24.56|           3.39|\n",
      "| 22|  591|       0.02|       0.05|      0.40|          40.78|          18.27|             22.67|           2.03|\n",
      "| 23|14501|       0.03|       0.10|      0.44|          55.79|           2.75|             29.43|           0.80|\n",
      "| 24| 3077|       0.03|       0.13|      0.51|          59.12|           6.17|             24.60|           0.71|\n",
      "| 25| 8219|       0.04|       0.14|      0.53|          62.34|           3.14|             21.92|           0.64|\n",
      "| 26| 4059|       0.02|       0.10|      0.62|          70.78|           2.93|             18.08|           0.76|\n",
      "| 28| 7413|       0.02|       0.07|      0.55|          81.72|           2.21|             10.17|           0.67|\n",
      "| 30| 7633|       0.03|       0.07|      0.54|          45.83|           2.45|             30.89|           0.62|\n",
      "| 32|12127|       0.03|       0.08|      0.80|          89.79|           0.68|              5.30|           0.68|\n",
      "+---+-----+-----------+-----------+----------+---------------+---------------+------------------+---------------+\n",
      "only showing top 20 rows\n",
      "\n"
     ]
    }
   ],
   "source": [
    "# Stop Counts by precinct in 2010\n",
    "q5 = sqlContext.sql('''SELECT pct, COUNT(*) as stops, \n",
    "    CAST(AVG(cast((contrabn == 'Y') as int)) as decimal (10,2)) as contraRatio, \n",
    "    CAST(AVG(cast((arstmade == 'Y') as int)) as decimal (10,2)) as arrestRatio, \n",
    "    CAST(AVG(cast((frisked == 'Y') as int)) as decimal (10,2)) as friskRatio, \n",
    "    CAST(SUM(cast((race == 'B') as int))*100/COUNT(*) as decimal (10,2)) as black_prcntstop, \n",
    "    CAST(SUM(cast((race == 'W') as int))*100/COUNT(*) as decimal (10,2)) as white_prcntstop,\n",
    "    CAST(SUM(cast((race == 'Q') as int))*100/COUNT(*) as decimal (10,2)) as hispanic_prcntstop,\n",
    "    CAST(SUM(cast((race == 'A') as int))*100/COUNT(*) as decimal (10,2)) as asian_prcntstop\n",
    "    FROM saf\n",
    "    WHERE pct IS NOT NULL\n",
    "    GROUP BY pct\n",
    "    ORDER BY pct ASC''')\n",
    "q5 = q5.withColumn('pct', trim(q5.pct))\n",
    "q5.registerTempTable('precintStops')\n",
    "q5.show()"
   ]
  },
  {
   "cell_type": "code",
   "execution_count": 9,
   "id": "305ab88b",
   "metadata": {},
   "outputs": [
    {
     "name": "stdout",
     "output_type": "stream",
     "text": [
      "+---+-----+---------+-----------+----------+-----------+---------------+-----+---------------+-----+------------------+--------+---------------+-----+\n",
      "|pct|stops|Total_Pop|arrestRatio|friskRatio|contraRatio|black_prcntstop|black|white_prcntstop|white|hispanic_prcntstop|hispanic|asian_prcntstop|asian|\n",
      "+---+-----+---------+-----------+----------+-----------+---------------+-----+---------------+-----+------------------+--------+---------------+-----+\n",
      "|  1| 2585|    66679|       0.09|      0.51|       0.02|          63.21| 2.97|          11.99|70.83|             15.90|    7.01|           3.21|15.78|\n",
      "| 10| 2760|    50180|       0.10|      0.49|       0.04|          46.49| 7.01|          20.07|61.38|             23.19|   17.58|           2.83|11.17|\n",
      "|100| 3020|    47913|       0.10|      0.61|       0.02|          66.09|24.23|          17.09|55.92|             12.38|   14.95|           1.09| 2.75|\n",
      "|101| 9159|    67065|       0.09|      0.64|       0.02|          89.73|49.29|           0.95|20.38|              5.93|   25.26|           0.36| 1.84|\n",
      "|102| 6694|   144215|       0.14|      0.61|       0.02|          18.52| 8.34|           9.01|19.87|             39.87|   40.76|          20.73|21.72|\n",
      "|103|11157|   105803|       0.07|      0.47|       0.02|          70.52|43.32|           1.87| 2.61|             15.81|   27.73|           3.22|16.61|\n",
      "|104| 7984|   170190|       0.05|      0.65|       0.01|           9.58| 1.39|          31.88|54.87|             46.99|   34.64|           2.97| 7.71|\n",
      "|105| 7953|   188582|       0.11|      0.61|       0.05|          71.23|55.16|           5.51|13.05|              9.62|   11.84|           5.23|14.68|\n",
      "|106| 7812|   122441|       0.05|      0.56|       0.02|          32.97|17.14|           9.91|25.92|             17.74|   23.12|          30.81|18.13|\n",
      "|107| 6267|   151107|       0.04|      0.48|       0.01|          42.73|12.64|          17.04|34.99|             21.56|   16.96|           8.97|31.13|\n",
      "|108| 6920|   113200|       0.05|      0.55|       0.01|          10.40| 1.88|          20.17|28.68|             46.49|   34.64|          15.49|32.01|\n",
      "|109|10174|   247354|       0.04|      0.64|       0.01|          14.63| 2.23|          15.80|29.78|             45.88|   16.64|          15.04|49.33|\n",
      "|110|11652|   172634|       0.05|      0.77|       0.01|           8.63| 5.27|           3.60| 7.16|             77.98|   52.32|           3.66|33.16|\n",
      "|111| 4942|   116431|       0.05|      0.56|       0.01|          14.10| 2.06|          34.52|46.97|             25.29|   10.03|          18.01|39.30|\n",
      "|112| 3232|   112070|       0.10|      0.64|       0.06|          17.67| 2.49|          42.76|55.26|             24.91|   13.50|           5.94|26.06|\n",
      "|113|11045|   120132|       0.05|      0.62|       0.02|          90.10|84.67|           0.92| 0.88|              3.29|    8.14|           1.34| 2.15|\n",
      "|114|10944|   202766|       0.06|      0.47|       0.01|          35.22|10.37|          17.97|45.14|             31.96|   26.85|           5.19|14.28|\n",
      "|115|12923|   171576|       0.03|      0.77|       0.01|           7.50| 6.23|           3.00|11.85|             76.44|   64.17|           3.02|15.73|\n",
      "|120|20798|   113008|       0.04|      0.47|       0.01|          57.50|22.51|          14.83|40.76|             21.30|   26.47|           1.14| 7.75|\n",
      "|122| 6301|   138982|       0.03|      0.50|       0.01|          14.74| 2.06|          61.83|79.06|             14.25|   11.44|           1.89| 6.02|\n",
      "+---+-----+---------+-----------+----------+-----------+---------------+-----+---------------+-----+------------------+--------+---------------+-----+\n",
      "only showing top 20 rows\n",
      "\n"
     ]
    }
   ],
   "source": [
    "#Now lets merge the two\n",
    "q6 = sqlContext.sql('''SELECT precinctPop.pct, precintStops.stops, precinctPop.Total_Pop, precintStops.arrestRatio, \n",
    "    precintStops.friskRatio, precintStops.contraRatio,\n",
    "    precintStops.black_prcntstop, precinctPop.black, precintStops.white_prcntstop, precinctPop.white, \n",
    "    precintStops.hispanic_prcntstop, precinctPop.hispanic, precintStops.asian_prcntstop, precinctPop.asian\n",
    "    FROM precintStops\n",
    "    JOIN precinctPop \n",
    "    ON precintStops.pct  = precinctPop.pct \n",
    "    ORDER BY precinctPop.pct ASC''')\n",
    "\n",
    "q6.registerTempTable('precintSummary')\n",
    "q6.show()\n",
    "q6.rdd.map(lambda i: '\\t'.join(str(j) for j in i)) \\\n",
    "    .saveAsTextFile('stopAndFriskAndDemoStats')\n"
   ]
  },
  {
   "cell_type": "markdown",
   "id": "fc1b8aa3",
   "metadata": {},
   "source": [
    "There is so much more you can do. Maybe consider computing the success scores per racial group. Or gender. Or age. Or determine how things changed over time. \n",
    "\n",
    "NYC had various changes to their stop and frisk program. What were their effects?\n"
   ]
  },
  {
   "cell_type": "code",
   "execution_count": null,
   "id": "1e2be16d",
   "metadata": {},
   "outputs": [],
   "source": []
  }
 ],
 "metadata": {
  "kernelspec": {
   "display_name": "Python 3 (ipykernel)",
   "language": "python",
   "name": "python3"
  },
  "language_info": {
   "codemirror_mode": {
    "name": "ipython",
    "version": 3
   },
   "file_extension": ".py",
   "mimetype": "text/x-python",
   "name": "python",
   "nbconvert_exporter": "python",
   "pygments_lexer": "ipython3",
   "version": "3.9.12"
  }
 },
 "nbformat": 4,
 "nbformat_minor": 5
}
