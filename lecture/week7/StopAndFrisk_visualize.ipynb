{
 "cells": [
  {
   "cell_type": "code",
   "execution_count": 1,
   "id": "b29bd268",
   "metadata": {},
   "outputs": [
    {
     "data": {
      "text/html": [
       "<div>\n",
       "<style scoped>\n",
       "    .dataframe tbody tr th:only-of-type {\n",
       "        vertical-align: middle;\n",
       "    }\n",
       "\n",
       "    .dataframe tbody tr th {\n",
       "        vertical-align: top;\n",
       "    }\n",
       "\n",
       "    .dataframe thead th {\n",
       "        text-align: right;\n",
       "    }\n",
       "</style>\n",
       "<table border=\"1\" class=\"dataframe\">\n",
       "  <thead>\n",
       "    <tr style=\"text-align: right;\">\n",
       "      <th></th>\n",
       "      <th>pct</th>\n",
       "      <th>stops</th>\n",
       "      <th>Total_Pop</th>\n",
       "      <th>arrestRatio</th>\n",
       "      <th>friskRatio</th>\n",
       "      <th>contraRatio</th>\n",
       "      <th>black_prcntstop</th>\n",
       "      <th>black</th>\n",
       "      <th>white_prcntstop</th>\n",
       "      <th>white</th>\n",
       "      <th>hispanic_prcntstop</th>\n",
       "      <th>hispanic</th>\n",
       "      <th>asian_prcntstop</th>\n",
       "      <th>asian</th>\n",
       "    </tr>\n",
       "  </thead>\n",
       "  <tbody>\n",
       "    <tr>\n",
       "      <th>0</th>\n",
       "      <td>1</td>\n",
       "      <td>2585</td>\n",
       "      <td>66679</td>\n",
       "      <td>0.09</td>\n",
       "      <td>0.51</td>\n",
       "      <td>0.02</td>\n",
       "      <td>63.21</td>\n",
       "      <td>2.97</td>\n",
       "      <td>11.99</td>\n",
       "      <td>70.83</td>\n",
       "      <td>15.90</td>\n",
       "      <td>7.01</td>\n",
       "      <td>3.21</td>\n",
       "      <td>15.78</td>\n",
       "    </tr>\n",
       "    <tr>\n",
       "      <th>1</th>\n",
       "      <td>10</td>\n",
       "      <td>2760</td>\n",
       "      <td>50180</td>\n",
       "      <td>0.10</td>\n",
       "      <td>0.49</td>\n",
       "      <td>0.04</td>\n",
       "      <td>46.49</td>\n",
       "      <td>7.01</td>\n",
       "      <td>20.07</td>\n",
       "      <td>61.38</td>\n",
       "      <td>23.19</td>\n",
       "      <td>17.58</td>\n",
       "      <td>2.83</td>\n",
       "      <td>11.17</td>\n",
       "    </tr>\n",
       "    <tr>\n",
       "      <th>2</th>\n",
       "      <td>100</td>\n",
       "      <td>3020</td>\n",
       "      <td>47913</td>\n",
       "      <td>0.10</td>\n",
       "      <td>0.61</td>\n",
       "      <td>0.02</td>\n",
       "      <td>66.09</td>\n",
       "      <td>24.23</td>\n",
       "      <td>17.09</td>\n",
       "      <td>55.92</td>\n",
       "      <td>12.38</td>\n",
       "      <td>14.95</td>\n",
       "      <td>1.09</td>\n",
       "      <td>2.75</td>\n",
       "    </tr>\n",
       "    <tr>\n",
       "      <th>3</th>\n",
       "      <td>101</td>\n",
       "      <td>9159</td>\n",
       "      <td>67065</td>\n",
       "      <td>0.09</td>\n",
       "      <td>0.64</td>\n",
       "      <td>0.02</td>\n",
       "      <td>89.73</td>\n",
       "      <td>49.29</td>\n",
       "      <td>0.95</td>\n",
       "      <td>20.38</td>\n",
       "      <td>5.93</td>\n",
       "      <td>25.26</td>\n",
       "      <td>0.36</td>\n",
       "      <td>1.84</td>\n",
       "    </tr>\n",
       "    <tr>\n",
       "      <th>4</th>\n",
       "      <td>102</td>\n",
       "      <td>6694</td>\n",
       "      <td>144215</td>\n",
       "      <td>0.14</td>\n",
       "      <td>0.61</td>\n",
       "      <td>0.02</td>\n",
       "      <td>18.52</td>\n",
       "      <td>8.34</td>\n",
       "      <td>9.01</td>\n",
       "      <td>19.87</td>\n",
       "      <td>39.87</td>\n",
       "      <td>40.76</td>\n",
       "      <td>20.73</td>\n",
       "      <td>21.72</td>\n",
       "    </tr>\n",
       "    <tr>\n",
       "      <th>...</th>\n",
       "      <td>...</td>\n",
       "      <td>...</td>\n",
       "      <td>...</td>\n",
       "      <td>...</td>\n",
       "      <td>...</td>\n",
       "      <td>...</td>\n",
       "      <td>...</td>\n",
       "      <td>...</td>\n",
       "      <td>...</td>\n",
       "      <td>...</td>\n",
       "      <td>...</td>\n",
       "      <td>...</td>\n",
       "      <td>...</td>\n",
       "      <td>...</td>\n",
       "    </tr>\n",
       "    <tr>\n",
       "      <th>71</th>\n",
       "      <td>84</td>\n",
       "      <td>4010</td>\n",
       "      <td>48196</td>\n",
       "      <td>0.07</td>\n",
       "      <td>0.45</td>\n",
       "      <td>0.01</td>\n",
       "      <td>67.41</td>\n",
       "      <td>12.31</td>\n",
       "      <td>10.50</td>\n",
       "      <td>62.38</td>\n",
       "      <td>14.91</td>\n",
       "      <td>12.61</td>\n",
       "      <td>2.12</td>\n",
       "      <td>9.24</td>\n",
       "    </tr>\n",
       "    <tr>\n",
       "      <th>72</th>\n",
       "      <td>88</td>\n",
       "      <td>7156</td>\n",
       "      <td>51421</td>\n",
       "      <td>0.05</td>\n",
       "      <td>0.48</td>\n",
       "      <td>0.02</td>\n",
       "      <td>78.00</td>\n",
       "      <td>42.76</td>\n",
       "      <td>5.06</td>\n",
       "      <td>30.93</td>\n",
       "      <td>11.57</td>\n",
       "      <td>15.74</td>\n",
       "      <td>1.70</td>\n",
       "      <td>6.50</td>\n",
       "    </tr>\n",
       "    <tr>\n",
       "      <th>73</th>\n",
       "      <td>9</td>\n",
       "      <td>5196</td>\n",
       "      <td>76443</td>\n",
       "      <td>0.11</td>\n",
       "      <td>0.46</td>\n",
       "      <td>0.04</td>\n",
       "      <td>33.20</td>\n",
       "      <td>7.15</td>\n",
       "      <td>19.48</td>\n",
       "      <td>51.75</td>\n",
       "      <td>32.64</td>\n",
       "      <td>23.93</td>\n",
       "      <td>2.73</td>\n",
       "      <td>14.17</td>\n",
       "    </tr>\n",
       "    <tr>\n",
       "      <th>74</th>\n",
       "      <td>90</td>\n",
       "      <td>10398</td>\n",
       "      <td>116836</td>\n",
       "      <td>0.05</td>\n",
       "      <td>0.48</td>\n",
       "      <td>0.02</td>\n",
       "      <td>34.63</td>\n",
       "      <td>6.24</td>\n",
       "      <td>8.57</td>\n",
       "      <td>55.18</td>\n",
       "      <td>42.72</td>\n",
       "      <td>32.46</td>\n",
       "      <td>0.89</td>\n",
       "      <td>4.67</td>\n",
       "    </tr>\n",
       "    <tr>\n",
       "      <th>75</th>\n",
       "      <td>94</td>\n",
       "      <td>1546</td>\n",
       "      <td>56247</td>\n",
       "      <td>0.09</td>\n",
       "      <td>0.67</td>\n",
       "      <td>0.03</td>\n",
       "      <td>21.54</td>\n",
       "      <td>3.00</td>\n",
       "      <td>37.06</td>\n",
       "      <td>72.62</td>\n",
       "      <td>31.57</td>\n",
       "      <td>16.16</td>\n",
       "      <td>1.36</td>\n",
       "      <td>5.79</td>\n",
       "    </tr>\n",
       "  </tbody>\n",
       "</table>\n",
       "<p>76 rows × 14 columns</p>\n",
       "</div>"
      ],
      "text/plain": [
       "    pct  stops  Total_Pop  arrestRatio  friskRatio  contraRatio  \\\n",
       "0     1   2585      66679         0.09        0.51         0.02   \n",
       "1    10   2760      50180         0.10        0.49         0.04   \n",
       "2   100   3020      47913         0.10        0.61         0.02   \n",
       "3   101   9159      67065         0.09        0.64         0.02   \n",
       "4   102   6694     144215         0.14        0.61         0.02   \n",
       "..  ...    ...        ...          ...         ...          ...   \n",
       "71   84   4010      48196         0.07        0.45         0.01   \n",
       "72   88   7156      51421         0.05        0.48         0.02   \n",
       "73    9   5196      76443         0.11        0.46         0.04   \n",
       "74   90  10398     116836         0.05        0.48         0.02   \n",
       "75   94   1546      56247         0.09        0.67         0.03   \n",
       "\n",
       "    black_prcntstop  black  white_prcntstop  white  hispanic_prcntstop  \\\n",
       "0             63.21   2.97            11.99  70.83               15.90   \n",
       "1             46.49   7.01            20.07  61.38               23.19   \n",
       "2             66.09  24.23            17.09  55.92               12.38   \n",
       "3             89.73  49.29             0.95  20.38                5.93   \n",
       "4             18.52   8.34             9.01  19.87               39.87   \n",
       "..              ...    ...              ...    ...                 ...   \n",
       "71            67.41  12.31            10.50  62.38               14.91   \n",
       "72            78.00  42.76             5.06  30.93               11.57   \n",
       "73            33.20   7.15            19.48  51.75               32.64   \n",
       "74            34.63   6.24             8.57  55.18               42.72   \n",
       "75            21.54   3.00            37.06  72.62               31.57   \n",
       "\n",
       "    hispanic  asian_prcntstop  asian  \n",
       "0       7.01             3.21  15.78  \n",
       "1      17.58             2.83  11.17  \n",
       "2      14.95             1.09   2.75  \n",
       "3      25.26             0.36   1.84  \n",
       "4      40.76            20.73  21.72  \n",
       "..       ...              ...    ...  \n",
       "71     12.61             2.12   9.24  \n",
       "72     15.74             1.70   6.50  \n",
       "73     23.93             2.73  14.17  \n",
       "74     32.46             0.89   4.67  \n",
       "75     16.16             1.36   5.79  \n",
       "\n",
       "[76 rows x 14 columns]"
      ]
     },
     "execution_count": 1,
     "metadata": {},
     "output_type": "execute_result"
    }
   ],
   "source": [
    "import pandas as pd\n",
    "import seaborn as sns\n",
    "\n",
    "analysisResults = pd.read_csv(\"saf_demostats.csv\",sep=\"\\t\",header=None)\n",
    "analysisResults.set_axis([\"pct\", \"stops\", \"Total_Pop\", \"arrestRatio\", \"friskRatio\", \"contraRatio\",\n",
    "    \"black_prcntstop\", \"black\", \"white_prcntstop\", \"white\", \n",
    "    \"hispanic_prcntstop\", \"hispanic\", \"asian_prcntstop\", \"asian\"], axis=1, inplace=True)\n",
    "\n",
    "analysisResults"
   ]
  },
  {
   "cell_type": "markdown",
   "id": "a790b7ab",
   "metadata": {},
   "source": [
    "### How much of the burden is being carried by different racial groups?\n",
    "\n",
    "Are certain groups stopped at a higher rate (accounting for the fraction of the population they account for)? We can answer this question with the data we have."
   ]
  },
  {
   "cell_type": "code",
   "execution_count": 2,
   "id": "3d8a5b68",
   "metadata": {},
   "outputs": [
    {
     "name": "stdout",
     "output_type": "stream",
     "text": [
      "     pct  stops  arrestRatio  friskRatio  contraRatio  value_x  group  \\\n",
      "0      1   2585         0.09        0.51         0.02    63.21  black   \n",
      "1     10   2760         0.10        0.49         0.04    46.49  black   \n",
      "2    100   3020         0.10        0.61         0.02    66.09  black   \n",
      "3    101   9159         0.09        0.64         0.02    89.73  black   \n",
      "4    102   6694         0.14        0.61         0.02    18.52  black   \n",
      "..   ...    ...          ...         ...          ...      ...    ...   \n",
      "299   84   4010         0.07        0.45         0.01     2.12  asian   \n",
      "300   88   7156         0.05        0.48         0.02     1.70  asian   \n",
      "301    9   5196         0.11        0.46         0.04     2.73  asian   \n",
      "302   90  10398         0.05        0.48         0.02     0.89  asian   \n",
      "303   94   1546         0.09        0.67         0.03     1.36  asian   \n",
      "\n",
      "    stopOrPop_x  value_y stopOrPop_y  \n",
      "0     prcntstop     2.97        None  \n",
      "1     prcntstop     7.01        None  \n",
      "2     prcntstop    24.23        None  \n",
      "3     prcntstop    49.29        None  \n",
      "4     prcntstop     8.34        None  \n",
      "..          ...      ...         ...  \n",
      "299   prcntstop     9.24        None  \n",
      "300   prcntstop     6.50        None  \n",
      "301   prcntstop    14.17        None  \n",
      "302   prcntstop     4.67        None  \n",
      "303   prcntstop     5.79        None  \n",
      "\n",
      "[304 rows x 10 columns]\n"
     ]
    }
   ],
   "source": [
    "df_melted = pd.melt(analysisResults, id_vars=[\"pct\", \"stops\", \"arrestRatio\", \"friskRatio\", \"contraRatio\"])\n",
    "df_melted[['group','stopOrPop']] = df_melted.variable.str.split(\"_\",expand=True)\n",
    "\n",
    "df_melted = df_melted[[\"pct\", \"stops\", \"arrestRatio\", \"friskRatio\", \"contraRatio\", \"value\", \"group\", \"stopOrPop\"]]\n",
    "df_stops = df_melted[df_melted['stopOrPop'] == \"prcntstop\"]\n",
    "df_pop = df_melted[df_melted['stopOrPop'] != \"prcntstop\"]\n",
    "\n",
    "merged = df_stops.merge(df_pop, on=[\"pct\", \"stops\", \"arrestRatio\", \"friskRatio\", \"contraRatio\", \"group\"])\n",
    "print(merged)\n"
   ]
  },
  {
   "cell_type": "code",
   "execution_count": 3,
   "id": "748ce206",
   "metadata": {},
   "outputs": [
    {
     "data": {
      "text/plain": [
       "<seaborn.axisgrid.FacetGrid at 0x1628670a0>"
      ]
     },
     "execution_count": 3,
     "metadata": {},
     "output_type": "execute_result"
    },
    {
     "data": {
      "image/png": "[encoded data removed]",
      "text/plain": [
       "<Figure size 437.625x360 with 1 Axes>"
      ]
     },
     "metadata": {
      "needs_background": "light"
     },
     "output_type": "display_data"
    }
   ],
   "source": [
    "sns.lmplot(x='value_x',y='value_y',hue=\"group\",data=merged)"
   ]
  },
  {
   "cell_type": "markdown",
   "id": "4696e500",
   "metadata": {},
   "source": [
    "The 45degree line gives us the equal treatment line. The populations that fall below that line are stopped more than their share of the population and those above it are stopped less.\n",
    "\n",
    "### The relationship between frequency of stops of sucess\n",
    "\n",
    "Let's look at a different relationship. How successful are the police in detecting crime as a function of how aggresive they are with the stops? Here, we will use arrestRatio as a heuristic. You can also use contraRatio."
   ]
  },
  {
   "cell_type": "code",
   "execution_count": 4,
   "id": "abb40481",
   "metadata": {},
   "outputs": [
    {
     "data": {
      "text/plain": [
       "<seaborn.axisgrid.JointGrid at 0x162b1cdc0>"
      ]
     },
     "execution_count": 4,
     "metadata": {},
     "output_type": "execute_result"
    },
    {
     "data": {
      "image/png": "[encoded data removed]",
      "text/plain": [
       "<Figure size 432x432 with 3 Axes>"
      ]
     },
     "metadata": {
      "needs_background": "light"
     },
     "output_type": "display_data"
    }
   ],
   "source": [
    "analysisResults[\"stops_to_pop\"] = analysisResults[\"stops\"] / analysisResults[\"Total_Pop\"]\n",
    "sns.jointplot(x='stops_to_pop',y='arrestRatio',data=analysisResults)"
   ]
  },
  {
   "cell_type": "markdown",
   "id": "04fb84aa",
   "metadata": {},
   "source": [
    "This plot is really hard to see due to the single outlier. Two things: First, what is going on with that precinct? And second, how can we create a more interpretable plot? We will cover this in later lectures in detail but we can either (i) use log scale in the plot so we can see the datapoints with smaller x values or (ii) remove the outlier. Lets first see which precinct is stopping its population over 20 times over a year. Next we will regenerate our plots with better interpretability"
   ]
  },
  {
   "cell_type": "code",
   "execution_count": 5,
   "id": "de959f08",
   "metadata": {},
   "outputs": [
    {
     "data": {
      "text/html": [
       "<div>\n",
       "<style scoped>\n",
       "    .dataframe tbody tr th:only-of-type {\n",
       "        vertical-align: middle;\n",
       "    }\n",
       "\n",
       "    .dataframe tbody tr th {\n",
       "        vertical-align: top;\n",
       "    }\n",
       "\n",
       "    .dataframe thead th {\n",
       "        text-align: right;\n",
       "    }\n",
       "</style>\n",
       "<table border=\"1\" class=\"dataframe\">\n",
       "  <thead>\n",
       "    <tr style=\"text-align: right;\">\n",
       "      <th></th>\n",
       "      <th>pct</th>\n",
       "      <th>stops</th>\n",
       "      <th>Total_Pop</th>\n",
       "      <th>arrestRatio</th>\n",
       "      <th>friskRatio</th>\n",
       "      <th>contraRatio</th>\n",
       "      <th>black_prcntstop</th>\n",
       "      <th>black</th>\n",
       "      <th>white_prcntstop</th>\n",
       "      <th>white</th>\n",
       "      <th>hispanic_prcntstop</th>\n",
       "      <th>hispanic</th>\n",
       "      <th>asian_prcntstop</th>\n",
       "      <th>asian</th>\n",
       "      <th>stops_to_pop</th>\n",
       "    </tr>\n",
       "  </thead>\n",
       "  <tbody>\n",
       "    <tr>\n",
       "      <th>27</th>\n",
       "      <td>22</td>\n",
       "      <td>591</td>\n",
       "      <td>25</td>\n",
       "      <td>0.05</td>\n",
       "      <td>0.4</td>\n",
       "      <td>0.02</td>\n",
       "      <td>40.78</td>\n",
       "      <td>64.0</td>\n",
       "      <td>18.27</td>\n",
       "      <td>8.0</td>\n",
       "      <td>22.67</td>\n",
       "      <td>24.0</td>\n",
       "      <td>2.03</td>\n",
       "      <td>0.0</td>\n",
       "      <td>23.64</td>\n",
       "    </tr>\n",
       "  </tbody>\n",
       "</table>\n",
       "</div>"
      ],
      "text/plain": [
       "    pct  stops  Total_Pop  arrestRatio  friskRatio  contraRatio  \\\n",
       "27   22    591         25         0.05         0.4         0.02   \n",
       "\n",
       "    black_prcntstop  black  white_prcntstop  white  hispanic_prcntstop  \\\n",
       "27            40.78   64.0            18.27    8.0               22.67   \n",
       "\n",
       "    hispanic  asian_prcntstop  asian  stops_to_pop  \n",
       "27      24.0             2.03    0.0         23.64  "
      ]
     },
     "execution_count": 5,
     "metadata": {},
     "output_type": "execute_result"
    }
   ],
   "source": [
    "analysisResults[analysisResults[\"stops_to_pop\"]>20]"
   ]
  },
  {
   "cell_type": "markdown",
   "id": "39b1d87c",
   "metadata": {},
   "source": [
    "We can see that precinct 22 (a quick Google query reveals that this is the Central Park precinct) has only a population of 25. This is somewhat of an odd precinct. We can safely remove it."
   ]
  },
  {
   "cell_type": "code",
   "execution_count": 6,
   "id": "f46f1f25",
   "metadata": {},
   "outputs": [
    {
     "data": {
      "image/png": "[encoded data removed]",
      "text/plain": [
       "<Figure size 432x432 with 3 Axes>"
      ]
     },
     "metadata": {
      "needs_background": "light"
     },
     "output_type": "display_data"
    }
   ],
   "source": [
    "g = sns.jointplot(x='stops_to_pop',y='arrestRatio',data=analysisResults)\n",
    "g.ax_joint.set_xscale('log')"
   ]
  },
  {
   "cell_type": "code",
   "execution_count": 7,
   "id": "65f43514",
   "metadata": {},
   "outputs": [
    {
     "data": {
      "text/plain": [
       "<AxesSubplot:xlabel='stops_to_pop', ylabel='arrestRatio'>"
      ]
     },
     "execution_count": 7,
     "metadata": {},
     "output_type": "execute_result"
    },
    {
     "data": {
      "image/png": "[encoded data removed]",
      "text/plain": [
       "<Figure size 432x288 with 1 Axes>"
      ]
     },
     "metadata": {
      "needs_background": "light"
     },
     "output_type": "display_data"
    }
   ],
   "source": [
    "sns.regplot(x='stops_to_pop',y='arrestRatio',data=analysisResults[analysisResults[\"stops_to_pop\"] < 10])"
   ]
  },
  {
   "cell_type": "markdown",
   "id": "5549931d",
   "metadata": {},
   "source": [
    "Police are, on average, worse at finding the successful cases where they are stopping a larger fraction of the population. This might suggest that as the police lower their threshold for stopping, they are introducing a heavier burden on the population while being less effective. "
   ]
  },
  {
   "cell_type": "code",
   "execution_count": null,
   "id": "19c96cde",
   "metadata": {},
   "outputs": [],
   "source": []
  }
 ],
 "metadata": {
  "kernelspec": {
   "display_name": "Python 3 (ipykernel)",
   "language": "python",
   "name": "python3"
  },
  "language_info": {
   "codemirror_mode": {
    "name": "ipython",
    "version": 3
   },
   "file_extension": ".py",
   "mimetype": "text/x-python",
   "name": "python",
   "nbconvert_exporter": "python",
   "pygments_lexer": "ipython3",
   "version": "3.8.9"
  }
 },
 "nbformat": 4,
 "nbformat_minor": 5
}
