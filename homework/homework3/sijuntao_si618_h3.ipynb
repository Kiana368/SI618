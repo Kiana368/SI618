{
 "cells": [
  {
   "cell_type": "markdown",
   "metadata": {},
   "source": [
    "# SI 618 Fall 2022 Homework 3 (100 points)"
   ]
  },
  {
   "cell_type": "markdown",
   "metadata": {},
   "source": [
    "- Name: Sijun Tao\n",
    "- Uniquename: sijuntao"
   ]
  },
  {
   "cell_type": "markdown",
   "metadata": {},
   "source": [
    "## Part 1 (80 points) "
   ]
  },
  {
   "cell_type": "markdown",
   "metadata": {},
   "source": [
    "The provided ‘movie_actors_data.txt’ file contains a JSON string on each line. For example, the first line is: \n",
    "\n",
    ">{\"rating\": 9.3, \"genres\": [\"Crime\", \"Drama\"], \"rated\": \"R\", \"filming_locations\": \"Ashland, Ohio, USA\", \"language\": [\"English\"], \"title\": \"The Shawshank Redemption\", \"runtime\": [\"142 min\"], \"poster\": \"http://img3.douban.com/lpic/s1311361.jpg\", \"imdb_url\": \"http://www.imdb.com/title/tt0111161/\", \"writers\": [\"Stephen King\", \"Frank Darabont\"], \"imdb_id\": \"tt0111161\", \"directors\": [\"Frank Darabont\"], \"rating_count\": 894012, \"actors\": [\"Tim Robbins\", \"Morgan Freeman\", \"Bob Gunton\", \"William Sadler\", \"Clancy Brown\", \"Gil Bellows\", \"Mark Rolston\", \"James Whitmore\", \"Jeffrey DeMunn\", \"Larry Brandenburg\", \"Neil Giuntoli\", \"Brian Libby\", \"David Proval\", \"Joseph Ragno\", \"Jude Ciccolella\"], \"plot_simple\": \"Two imprisoned men bond over a number of years, finding solace and eventual redemption through acts of common decency.\", \"year\": 1994, \"country\": [\"USA\"], \"type\": \"M\", \"release_date\": 19941014, \"also_known_as\": [\"Die Verurteilten\"]}\n",
    "\n",
    "The fields we are interested in are imdb_id, title , rating, genres, actors, directors, year, and country. You will parse the JSON strings, and load the data into three tables in SQLite, and then write SQL queries to retrieve the data specified. \n",
    "\n",
    "You will create 4 tables: \n",
    "* The “movies” table, which has four columns: imdb_id, title, year, rating, country  ",
    "\n",
    "\n",
    "* The “movie_genre” table, which has two columns: imdb_id and genre. A movie typically has multiple genres, and in this case, there should be one row for each genre. If some movie does not have any genre, ignore that movie.  ",
    "\n",
    "\n",
    "* The “movie_actor” table, which has two columns imdb_id and actor. A movie typically has multiple actors, and in this case, there should be one row for each actor. \n",
    "\n",
    "* The “movie_director” table, which has two columns imdb_id and director. A movie typically has multiple directors, and in this case, there should be one row for each director. \n",
    "\n",
    "**When you run your Python code, it should print out EXACTLY the output provided.**"
   ]
  },
  {
   "cell_type": "code",
   "execution_count": 1,
   "metadata": {},
   "outputs": [],
   "source": [
    "import numpy as np\n",
    "import pandas as pd\n",
    "from bs4 import BeautifulSoup\n",
    "import json\n",
    "import urllib3\n",
    "import sqlite3\n",
    "conn = sqlite3.connect('sijuntao_si618_h3.db')\n",
    "urllib3.disable_warnings()"
   ]
  },
  {
   "cell_type": "markdown",
   "metadata": {},
   "source": [
    "#### Q1. (10 points) Parse input file to get needed data for the three tables and load them into appropriate Python data structure. "
   ]
  },
  {
   "cell_type": "code",
   "execution_count": 2,
   "metadata": {},
   "outputs": [
    {
     "data": {
      "text/html": [
       "<div>\n",
       "<style scoped>\n",
       "    .dataframe tbody tr th:only-of-type {\n",
       "        vertical-align: middle;\n",
       "    }\n",
       "\n",
       "    .dataframe tbody tr th {\n",
       "        vertical-align: top;\n",
       "    }\n",
       "\n",
       "    .dataframe thead th {\n",
       "        text-align: right;\n",
       "    }\n",
       "</style>\n",
       "<table border=\"1\" class=\"dataframe\">\n",
       "  <thead>\n",
       "    <tr style=\"text-align: right;\">\n",
       "      <th></th>\n",
       "      <th>rating</th>\n",
       "      <th>genres</th>\n",
       "      <th>rated</th>\n",
       "      <th>filming_locations</th>\n",
       "      <th>language</th>\n",
       "      <th>title</th>\n",
       "      <th>runtime</th>\n",
       "      <th>poster</th>\n",
       "      <th>imdb_url</th>\n",
       "      <th>writers</th>\n",
       "      <th>imdb_id</th>\n",
       "      <th>directors</th>\n",
       "      <th>rating_count</th>\n",
       "      <th>actors</th>\n",
       "      <th>plot_simple</th>\n",
       "      <th>year</th>\n",
       "      <th>country</th>\n",
       "      <th>type</th>\n",
       "      <th>release_date</th>\n",
       "      <th>also_known_as</th>\n",
       "    </tr>\n",
       "  </thead>\n",
       "  <tbody>\n",
       "    <tr>\n",
       "      <th>0</th>\n",
       "      <td>9.3</td>\n",
       "      <td>[Crime, Drama]</td>\n",
       "      <td>R</td>\n",
       "      <td>Ashland, Ohio, USA</td>\n",
       "      <td>[English]</td>\n",
       "      <td>The Shawshank Redemption</td>\n",
       "      <td>[142 min]</td>\n",
       "      <td>http://img3.douban.com/lpic/s1311361.jpg</td>\n",
       "      <td>http://www.imdb.com/title/tt0111161/</td>\n",
       "      <td>[Stephen King, Frank Darabont]</td>\n",
       "      <td>tt0111161</td>\n",
       "      <td>[Frank Darabont]</td>\n",
       "      <td>894012</td>\n",
       "      <td>[Tim Robbins, Morgan Freeman, Bob Gunton, Will...</td>\n",
       "      <td>Two imprisoned men bond over a number of years...</td>\n",
       "      <td>1994</td>\n",
       "      <td>[USA]</td>\n",
       "      <td>M</td>\n",
       "      <td>19941014</td>\n",
       "      <td>[Die Verurteilten]</td>\n",
       "    </tr>\n",
       "    <tr>\n",
       "      <th>1</th>\n",
       "      <td>9.2</td>\n",
       "      <td>[Crime, Drama]</td>\n",
       "      <td>R</td>\n",
       "      <td>110 Longfellow Road, Staten Island, New York C...</td>\n",
       "      <td>[English, Italian, Latin]</td>\n",
       "      <td>The Godfather</td>\n",
       "      <td>[175 min]</td>\n",
       "      <td>http://img3.douban.com/lpic/s4038344.jpg</td>\n",
       "      <td>http://www.imdb.com/title/tt0068646/</td>\n",
       "      <td>[Mario Puzo, Francis Ford Coppola, and 1 more ...</td>\n",
       "      <td>tt0068646</td>\n",
       "      <td>[Francis Ford Coppola]</td>\n",
       "      <td>646348</td>\n",
       "      <td>[Marlon Brando, Al Pacino, James Caan, Richard...</td>\n",
       "      <td>The aging patriarch of an organized crime dyna...</td>\n",
       "      <td>1972</td>\n",
       "      <td>[USA]</td>\n",
       "      <td>M</td>\n",
       "      <td>19720324</td>\n",
       "      <td>[Mario Puzo's The Godfather]</td>\n",
       "    </tr>\n",
       "    <tr>\n",
       "      <th>2</th>\n",
       "      <td>9.1</td>\n",
       "      <td>[Crime, Drama]</td>\n",
       "      <td>R</td>\n",
       "      <td>6th Street, Manhattan, New York City, New York...</td>\n",
       "      <td>[English, Italian, Spanish, Latin]</td>\n",
       "      <td>The Godfather: Part II</td>\n",
       "      <td>[200 min]</td>\n",
       "      <td>http://img3.douban.com/lpic/s3314652.jpg</td>\n",
       "      <td>http://www.imdb.com/title/tt0071562/</td>\n",
       "      <td>[Francis Ford Coppola, Mario Puzo, and 1 more ...</td>\n",
       "      <td>tt0071562</td>\n",
       "      <td>[Francis Ford Coppola]</td>\n",
       "      <td>415305</td>\n",
       "      <td>[Al Pacino, Robert Duvall, Diane Keaton, Rober...</td>\n",
       "      <td>The early life and career of Vito Corleone in ...</td>\n",
       "      <td>1974</td>\n",
       "      <td>[USA]</td>\n",
       "      <td>M</td>\n",
       "      <td>19741220</td>\n",
       "      <td>[Mario Puzo's The Godfather: Part II]</td>\n",
       "    </tr>\n",
       "    <tr>\n",
       "      <th>3</th>\n",
       "      <td>9.0</td>\n",
       "      <td>[Crime, Thriller]</td>\n",
       "      <td>R</td>\n",
       "      <td>1525 N. Van Ness Avenue, Los Angeles, Californ...</td>\n",
       "      <td>[English, Spanish, French]</td>\n",
       "      <td>Pulp Fiction</td>\n",
       "      <td>[154 min, USA: 168 min (special edition)]</td>\n",
       "      <td>http://img3.douban.com/lpic/s2845185.jpg</td>\n",
       "      <td>http://www.imdb.com/title/tt0110912/</td>\n",
       "      <td>[Quentin Tarantino, Roger Avary, and 1 more cr...</td>\n",
       "      <td>tt0110912</td>\n",
       "      <td>[Quentin Tarantino]</td>\n",
       "      <td>694866</td>\n",
       "      <td>[John Travolta, Samuel L. Jackson, Tim Roth, A...</td>\n",
       "      <td>The lives of two mob hit men, a boxer, a gangs...</td>\n",
       "      <td>1994</td>\n",
       "      <td>[USA]</td>\n",
       "      <td>M</td>\n",
       "      <td>19941014</td>\n",
       "      <td>[Tiempos violentos]</td>\n",
       "    </tr>\n",
       "    <tr>\n",
       "      <th>4</th>\n",
       "      <td>9.0</td>\n",
       "      <td>[Adventure, Western]</td>\n",
       "      <td>APPROVED</td>\n",
       "      <td>Almería, Andalucía, Spain</td>\n",
       "      <td>[Italian]</td>\n",
       "      <td>Il buono, il brutto, il cattivo.</td>\n",
       "      <td>[161 min, France: 186 min (dubbed version), Sp...</td>\n",
       "      <td>http://img3.douban.com/lpic/s4008151.jpg</td>\n",
       "      <td>http://www.imdb.com/title/tt0060196/</td>\n",
       "      <td>[Luciano Vincenzoni, Sergio Leone]</td>\n",
       "      <td>tt0060196</td>\n",
       "      <td>[Sergio Leone]</td>\n",
       "      <td>274781</td>\n",
       "      <td>[Eli Wallach, Clint Eastwood, Lee Van Cleef, A...</td>\n",
       "      <td>A bounty hunting scam joins two men in an unea...</td>\n",
       "      <td>1966</td>\n",
       "      <td>[Italy, Spain, West Germany]</td>\n",
       "      <td>M</td>\n",
       "      <td>19671229</td>\n",
       "      <td>[The Good, the Bad and the Ugly]</td>\n",
       "    </tr>\n",
       "  </tbody>\n",
       "</table>\n",
       "</div>"
      ],
      "text/plain": [
       "   rating                genres     rated  \\\n",
       "0     9.3        [Crime, Drama]         R   \n",
       "1     9.2        [Crime, Drama]         R   \n",
       "2     9.1        [Crime, Drama]         R   \n",
       "3     9.0     [Crime, Thriller]         R   \n",
       "4     9.0  [Adventure, Western]  APPROVED   \n",
       "\n",
       "                                   filming_locations  \\\n",
       "0                                 Ashland, Ohio, USA   \n",
       "1  110 Longfellow Road, Staten Island, New York C...   \n",
       "2  6th Street, Manhattan, New York City, New York...   \n",
       "3  1525 N. Van Ness Avenue, Los Angeles, Californ...   \n",
       "4                          Almería, Andalucía, Spain   \n",
       "\n",
       "                             language                             title  \\\n",
       "0                           [English]          The Shawshank Redemption   \n",
       "1           [English, Italian, Latin]                     The Godfather   \n",
       "2  [English, Italian, Spanish, Latin]            The Godfather: Part II   \n",
       "3          [English, Spanish, French]                      Pulp Fiction   \n",
       "4                           [Italian]  Il buono, il brutto, il cattivo.   \n",
       "\n",
       "                                             runtime  \\\n",
       "0                                          [142 min]   \n",
       "1                                          [175 min]   \n",
       "2                                          [200 min]   \n",
       "3          [154 min, USA: 168 min (special edition)]   \n",
       "4  [161 min, France: 186 min (dubbed version), Sp...   \n",
       "\n",
       "                                     poster  \\\n",
       "0  http://img3.douban.com/lpic/s1311361.jpg   \n",
       "1  http://img3.douban.com/lpic/s4038344.jpg   \n",
       "2  http://img3.douban.com/lpic/s3314652.jpg   \n",
       "3  http://img3.douban.com/lpic/s2845185.jpg   \n",
       "4  http://img3.douban.com/lpic/s4008151.jpg   \n",
       "\n",
       "                               imdb_url  \\\n",
       "0  http://www.imdb.com/title/tt0111161/   \n",
       "1  http://www.imdb.com/title/tt0068646/   \n",
       "2  http://www.imdb.com/title/tt0071562/   \n",
       "3  http://www.imdb.com/title/tt0110912/   \n",
       "4  http://www.imdb.com/title/tt0060196/   \n",
       "\n",
       "                                             writers    imdb_id  \\\n",
       "0                     [Stephen King, Frank Darabont]  tt0111161   \n",
       "1  [Mario Puzo, Francis Ford Coppola, and 1 more ...  tt0068646   \n",
       "2  [Francis Ford Coppola, Mario Puzo, and 1 more ...  tt0071562   \n",
       "3  [Quentin Tarantino, Roger Avary, and 1 more cr...  tt0110912   \n",
       "4                 [Luciano Vincenzoni, Sergio Leone]  tt0060196   \n",
       "\n",
       "                directors  rating_count  \\\n",
       "0        [Frank Darabont]        894012   \n",
       "1  [Francis Ford Coppola]        646348   \n",
       "2  [Francis Ford Coppola]        415305   \n",
       "3     [Quentin Tarantino]        694866   \n",
       "4          [Sergio Leone]        274781   \n",
       "\n",
       "                                              actors  \\\n",
       "0  [Tim Robbins, Morgan Freeman, Bob Gunton, Will...   \n",
       "1  [Marlon Brando, Al Pacino, James Caan, Richard...   \n",
       "2  [Al Pacino, Robert Duvall, Diane Keaton, Rober...   \n",
       "3  [John Travolta, Samuel L. Jackson, Tim Roth, A...   \n",
       "4  [Eli Wallach, Clint Eastwood, Lee Van Cleef, A...   \n",
       "\n",
       "                                         plot_simple  year  \\\n",
       "0  Two imprisoned men bond over a number of years...  1994   \n",
       "1  The aging patriarch of an organized crime dyna...  1972   \n",
       "2  The early life and career of Vito Corleone in ...  1974   \n",
       "3  The lives of two mob hit men, a boxer, a gangs...  1994   \n",
       "4  A bounty hunting scam joins two men in an unea...  1966   \n",
       "\n",
       "                        country type  release_date  \\\n",
       "0                         [USA]    M      19941014   \n",
       "1                         [USA]    M      19720324   \n",
       "2                         [USA]    M      19741220   \n",
       "3                         [USA]    M      19941014   \n",
       "4  [Italy, Spain, West Germany]    M      19671229   \n",
       "\n",
       "                           also_known_as  \n",
       "0                     [Die Verurteilten]  \n",
       "1           [Mario Puzo's The Godfather]  \n",
       "2  [Mario Puzo's The Godfather: Part II]  \n",
       "3                    [Tiempos violentos]  \n",
       "4       [The Good, the Bad and the Ugly]  "
      ]
     },
     "execution_count": 2,
     "metadata": {},
     "output_type": "execute_result"
    }
   ],
   "source": [
    "file = open(\"movie_actors_data.txt\", \"r\")\n",
    "data = file.readlines()\n",
    "file.close()\n",
    "\n",
    "data = [json.loads(row.replace('\\n','')) for row in data]\n",
    "df = pd.DataFrame(data)\n",
    "df.head()"
   ]
  },
  {
   "cell_type": "markdown",
   "metadata": {},
   "source": [
    "#### Q2. (5 points) Create the movies table and load data into it. Note that you only need to consider the first country if there are multiple countries associated with a movie. Read and show the first 5 rows of the movies table in your SQLite database."
   ]
  },
  {
   "cell_type": "code",
   "execution_count": 3,
   "metadata": {},
   "outputs": [],
   "source": [
    "c = conn.cursor()\n",
    "c.execute('CREATE TABLE movies (imdb_id, title, year, rating, country )')\n",
    "movies_data = []\n",
    "for i in range(0,len(df)):\n",
    "    movies_data.append((df.loc[i,\"imdb_id\"], df.loc[i, \"title\"], int(df.loc[i, \"year\"]), df.loc[i, \"rating\"], df.loc[i, \"country\"][0]))\n",
    "\n",
    "c.executemany('INSERT INTO movies VALUES (?,?,?,?,?)', movies_data)\n",
    "conn.commit()"
   ]
  },
  {
   "cell_type": "code",
   "execution_count": 4,
   "metadata": {},
   "outputs": [
    {
     "name": "stdout",
     "output_type": "stream",
     "text": [
      "('tt0111161', 'The Shawshank Redemption', 1994, 9.3, 'USA')\n",
      "('tt0068646', 'The Godfather', 1972, 9.2, 'USA')\n",
      "('tt0071562', 'The Godfather: Part II', 1974, 9.1, 'USA')\n",
      "('tt0110912', 'Pulp Fiction', 1994, 9.0, 'USA')\n",
      "('tt0060196', 'Il buono, il brutto, il cattivo.', 1966, 9.0, 'Italy')\n"
     ]
    }
   ],
   "source": [
    "movies_first_5 = c.execute('SELECT * FROM movies LIMIT 5')\n",
    "for row in movies_first_5:\n",
    "    print (row)"
   ]
  },
  {
   "cell_type": "markdown",
   "metadata": {},
   "source": [
    "#### Q3. (5 points) Create the movie_genre table and load data into it."
   ]
  },
  {
   "cell_type": "code",
   "execution_count": 5,
   "metadata": {},
   "outputs": [],
   "source": [
    "c.execute('CREATE TABLE movie_genre (imdb_id, genre)')\n",
    "\n",
    "movie_genre_df = df[[\"imdb_id\", \"genres\"]].explode(\"genres\").reset_index()\n",
    "movie_genre_data = []\n",
    "for i in range(0,len(movie_genre_df)):\n",
    "    movie_genre_data.append((movie_genre_df.loc[i,\"imdb_id\"], movie_genre_df.loc[i, \"genres\"]))\n",
    "\n",
    "c.executemany('INSERT INTO movie_genre VALUES (?,?)', movie_genre_data)\n",
    "conn.commit()"
   ]
  },
  {
   "cell_type": "code",
   "execution_count": 6,
   "metadata": {},
   "outputs": [
    {
     "name": "stdout",
     "output_type": "stream",
     "text": [
      "('tt0111161', 'Crime')\n",
      "('tt0111161', 'Drama')\n",
      "('tt0068646', 'Crime')\n",
      "('tt0068646', 'Drama')\n",
      "('tt0071562', 'Crime')\n"
     ]
    }
   ],
   "source": [
    "movie_genre_first_5 = c.execute('SELECT * FROM movie_genre LIMIT 5')\n",
    "for row in movie_genre_first_5:\n",
    "    print (row)"
   ]
  },
  {
   "cell_type": "markdown",
   "metadata": {},
   "source": [
    "#### Q4. (5 points) Create the movie_actor table and load data into it."
   ]
  },
  {
   "cell_type": "code",
   "execution_count": 7,
   "metadata": {},
   "outputs": [],
   "source": [
    "c.execute('CREATE TABLE movie_actor (imdb_id, actor)')\n",
    "\n",
    "movie_actor_df = df[[\"imdb_id\", \"actors\"]].explode(\"actors\").reset_index()\n",
    "movie_actor_data = []\n",
    "for i in range(0,len(movie_actor_df)):\n",
    "    movie_actor_data.append((movie_actor_df.loc[i,\"imdb_id\"], movie_actor_df.loc[i, \"actors\"]))\n",
    "\n",
    "c.executemany('INSERT INTO movie_actor VALUES (?,?)', movie_actor_data)\n",
    "conn.commit()"
   ]
  },
  {
   "cell_type": "code",
   "execution_count": 8,
   "metadata": {},
   "outputs": [
    {
     "name": "stdout",
     "output_type": "stream",
     "text": [
      "('tt0111161', 'Tim Robbins')\n",
      "('tt0111161', 'Morgan Freeman')\n",
      "('tt0111161', 'Bob Gunton')\n",
      "('tt0111161', 'William Sadler')\n",
      "('tt0111161', 'Clancy Brown')\n"
     ]
    }
   ],
   "source": [
    "movie_actor_first_5 = c.execute('SELECT * FROM movie_actor LIMIT 5')\n",
    "for row in movie_actor_first_5:\n",
    "    print (row)"
   ]
  },
  {
   "cell_type": "markdown",
   "metadata": {},
   "source": [
    "#### Q5. (5 points) Create the movie_director table and load data into it."
   ]
  },
  {
   "cell_type": "code",
   "execution_count": 9,
   "metadata": {},
   "outputs": [],
   "source": [
    "c.execute('CREATE TABLE movie_director (imdb_id, director)')\n",
    "\n",
    "movie_director_df = df[[\"imdb_id\", \"directors\"]].explode(\"directors\").reset_index()\n",
    "movie_director_data = []\n",
    "for i in range(0,len(movie_director_df)):\n",
    "    movie_director_data.append((movie_director_df.loc[i,\"imdb_id\"], movie_director_df.loc[i, \"directors\"]))\n",
    "\n",
    "c.executemany('INSERT INTO movie_director VALUES (?,?)', movie_director_data)\n",
    "conn.commit()"
   ]
  },
  {
   "cell_type": "code",
   "execution_count": 10,
   "metadata": {},
   "outputs": [
    {
     "name": "stdout",
     "output_type": "stream",
     "text": [
      "('tt0111161', 'Frank Darabont')\n",
      "('tt0068646', 'Francis Ford Coppola')\n",
      "('tt0071562', 'Francis Ford Coppola')\n",
      "('tt0110912', 'Quentin Tarantino')\n",
      "('tt0060196', 'Sergio Leone')\n"
     ]
    }
   ],
   "source": [
    "movie_director_first_5 = c.execute('SELECT * FROM movie_director LIMIT 5')\n",
    "for row in movie_director_first_5:\n",
    "    print (row)"
   ]
  },
  {
   "cell_type": "markdown",
   "metadata": {},
   "source": [
    "#### Q6. (10 points) Write a SQL query to find the number of released movies by decade in chronological order. (Note: you will need to round *down* years to get the corresponding decade. e.g. 2009 belongs to the 2000s)\n",
    "```\n",
    "Number of movies broken down by decade: Decade, Number\n",
    "1920, 5\n",
    "1930, 8\n",
    "1940, 16\n",
    "1950, 30\n",
    "1960, 23\n",
    "1970, 24\n",
    "1980, 26\n",
    "1990, 38\n",
    "2000, 57\n",
    "2010, 21\n",
    "\n",
    "```"
   ]
  },
  {
   "cell_type": "code",
   "execution_count": 11,
   "metadata": {},
   "outputs": [
    {
     "name": "stdout",
     "output_type": "stream",
     "text": [
      "Number of movies broken down by decade: Decade, Number\n",
      "1920, 5\n",
      "1930, 8\n",
      "1940, 16\n",
      "1950, 30\n",
      "1960, 23\n",
      "1970, 24\n",
      "1980, 26\n",
      "1990, 38\n",
      "2000, 57\n",
      "2010, 21\n"
     ]
    }
   ],
   "source": [
    "command = \"SELECT (year/10)*10, COUNT(*) \" \\\n",
    "          \"FROM movies \" \\\n",
    "          \"GROUP BY (year/10)*10 \"  \n",
    "results = c.execute(command)\n",
    "\n",
    "print(\"Number of movies broken down by decade: Decade, Number\")\n",
    "for row in results:\n",
    "    print(f\"{row[0]}, {row[1]}\")"
   ]
  },
  {
   "cell_type": "markdown",
   "metadata": {},
   "source": [
    "#### Q7. (10 points) Write a SQL query to find the top 5 genres in the US by the average ratings of movies in that genre. Print out the results.\n",
    "```\n",
    "Top 5 genres in the US: Genre, AvgRatings\n",
    "Action, 8.461290322580647\n",
    "War, 8.413333333333332\n",
    "Crime, 8.408695652173916\n",
    "Music, 8.4\n",
    "Sci-Fi, 8.385000000000002\n",
    "```"
   ]
  },
  {
   "cell_type": "code",
   "execution_count": 12,
   "metadata": {},
   "outputs": [
    {
     "name": "stdout",
     "output_type": "stream",
     "text": [
      "Top 5 genres in the US: Genre, AvgRatings\n",
      "Action, 8.461290322580647\n",
      "War, 8.413333333333332\n",
      "Crime, 8.408695652173916\n",
      "Music, 8.4\n",
      "Sci-Fi, 8.385000000000002\n"
     ]
    }
   ],
   "source": [
    "command = \"SELECT genre, AVG(rating) \" \\\n",
    "          \"FROM (movie_genre JOIN movies on movies.imdb_id = movie_genre.imdb_id) \" \\\n",
    "          \"WHERE country == 'USA' \" \\\n",
    "          \"GROUP BY genre \" \\\n",
    "          \"ORDER BY AVG(rating) DESC \" \\\n",
    "          \"LIMIT 5\"\n",
    "results = c.execute(command)\n",
    "\n",
    "print(\"Top 5 genres in the US: Genre, AvgRatings\")\n",
    "for row in results:\n",
    "    print(f\"{row[0]}, {row[1]}\")"
   ]
  },
  {
   "cell_type": "markdown",
   "metadata": {},
   "source": [
    "#### Q8. (10 points) Write a SQL query to find the top 10 actors who have worked with the director Christopher Nolan in the most movies. The actors are ordered in decreasing number of movies they worked with the director. In case of ties, the rows are ordered by actors’ names in alphabetical order.\n",
    "\n",
    "```\n",
    "The actors who have worked with Christopher Nolan the most: Name, Times\n",
    "Michael Caine, 5\n",
    "Christian Bale, 4\n",
    "Cillian Murphy, 3\n",
    "Gary Oldman, 3\n",
    "Morgan Freeman, 3\n",
    "Joseph Gordon-Levitt, 2\n",
    "Ken Watanabe, 2\n",
    "Larry Holden, 2\n",
    "Marion Cotillard, 2\n",
    "Mark Boone Junior, 2\n",
    "```"
   ]
  },
  {
   "cell_type": "code",
   "execution_count": 13,
   "metadata": {},
   "outputs": [
    {
     "name": "stdout",
     "output_type": "stream",
     "text": [
      "The actors who have worked with Christopher Nolan the most: Name, Times\n",
      "Michael Caine, 5\n",
      "Christian Bale, 4\n",
      "Cillian Murphy, 3\n",
      "Gary Oldman, 3\n",
      "Morgan Freeman, 3\n",
      "Joseph Gordon-Levitt, 2\n",
      "Ken Watanabe, 2\n",
      "Larry Holden, 2\n",
      "Marion Cotillard, 2\n",
      "Mark Boone Junior, 2\n"
     ]
    }
   ],
   "source": [
    "command = \"SELECT actor, COUNT(actor) \" \\\n",
    "          \"FROM (movie_actor JOIN movie_director on movie_actor.imdb_id = movie_director.imdb_id) \" \\\n",
    "          \"WHERE director == 'Christopher Nolan' \" \\\n",
    "          \"GROUP BY actor \" \\\n",
    "          \"ORDER BY COUNT(actor) DESC, actor \" \\\n",
    "          \"LIMIT 10\"\n",
    "results = c.execute(command)\n",
    "\n",
    "print(\"The actors who have worked with Christopher Nolan the most: Name, Times\")\n",
    "for row in results:\n",
    "    print(f\"{row[0]}, {row[1]}\")"
   ]
  },
  {
   "cell_type": "markdown",
   "metadata": {},
   "source": [
    "#### Q9. (10 points) Write a SQL query to find the top 10 directors based on average ratings of the movies they directed between the years year 1980 and 2010 (begin and end years are included). Only consider those who directed at least 2 movies in this time range. For each director, show their name, average rating of the movies, and the number of movies they directed. Sort the result by descending average movie rating, then by director name in alphabetical order.\n",
    "\n",
    "```\n",
    "Between 1980 and 2010, top 10 highest rated directors based on average movie rating with at least 2 credits:\n",
    "Director, Movies\n",
    "Frank Darabont, 8.9, 2\n",
    "David Fincher, 8.8, 2\n",
    "Peter Jackson, 8.8, 3\n",
    "Christopher Nolan, 8.64, 5\n",
    "Robert Zemeckis, 8.6, 2\n",
    "Steven Spielberg, 8.5, 5\n",
    "Quentin Tarantino, 8.475, 4\n",
    "Stanley Kubrick, 8.45, 2\n",
    "James Cameron, 8.4, 3\n",
    "Ridley Scott, 8.4, 2\n",
    "```\n"
   ]
  },
  {
   "cell_type": "code",
   "execution_count": 14,
   "metadata": {},
   "outputs": [
    {
     "name": "stdout",
     "output_type": "stream",
     "text": [
      "Between 1980 and 2010, top 10 highest rated directors based on average movie rating with at least 2 credits: Director, Movies\n",
      "Frank Darabont, 8.9, 2\n",
      "David Fincher, 8.8, 2\n",
      "Peter Jackson, 8.8, 3\n",
      "Christopher Nolan, 8.64, 5\n",
      "Robert Zemeckis, 8.6, 2\n",
      "Steven Spielberg, 8.5, 5\n",
      "Quentin Tarantino, 8.475, 4\n",
      "Stanley Kubrick, 8.45, 2\n",
      "James Cameron, 8.4, 3\n",
      "Ridley Scott, 8.4, 2\n"
     ]
    }
   ],
   "source": [
    "command = \"SELECT director, AVG(rating), COUNT(*) \" \\\n",
    "          \"FROM (movie_director JOIN movies on movies.imdb_id = movie_director.imdb_id) \" \\\n",
    "          \"WHERE year>=1980 AND year<=2010 \" \\\n",
    "          \"GROUP BY director \" \\\n",
    "          \"HAVING COUNT(*)>=2 \" \\\n",
    "          \"ORDER BY AVG(rating) DESC, director ASC \" \\\n",
    "          \"LIMIT 10\"\n",
    "results = c.execute(command)\n",
    "\n",
    "print(\"Between 1980 and 2010, top 10 highest rated directors based on average movie rating with at least 2 credits: Director, Movies\")\n",
    "for row in results:\n",
    "    print(f\"{row[0]}, {row[1]}, {row[2]}\")"
   ]
  },
  {
   "cell_type": "markdown",
   "metadata": {},
   "source": [
    "#### Q10. (10 points) Write a SQL query for finding pairs of actors who co-starred in at least 2 highly rated (rating > 9) movies together. \n",
    "\n",
    "The pairs of names must be unique. This means that ‘actor A, actor B’ and ‘actor B, actor A’ are the same pair, so only one of them should appear. For each pair of actors you print out, the two actors must be ordered alphabetically. The pairs are ordered in decreasing number of movies they co-stared in. In case of ties, the rows are ordered by actors’ names. \n",
    "\n",
    ">You will need to join the movie_actor table with itself to get this data (in addition to another required join). It is a bit tricky. If you cannot do it with SQL statement, you can also write some Python code that works on the Python data structure that you used to create the movie_actor table. That’ll mean much more lines of code, and if you do it that way, you’ll get 5 points instead of 10 points. You will only get 10 points if you solve it with pure SQL.\n",
    "\n",
    "```\n",
    "Pairs of actors who co-stared in 2 or more highly rated movies: Actor A, Actor B, Co-stared Movies\n",
    "Al Pacino, Diane Keaton, 2\n",
    "Al Pacino, John Cazale, 2\n",
    "Al Pacino, Robert Duvall, 2\n",
    "Al Pacino, Talia Shire, 2\n",
    "Diane Keaton, John Cazale, 2\n",
    "Diane Keaton, Robert Duvall, 2\n",
    "Diane Keaton, Talia Shire, 2\n",
    "John Cazale, Robert Duvall, 2\n",
    "John Cazale, Talia Shire, 2\n",
    "Robert Duvall, Talia Shire, 2\n",
    "```"
   ]
  },
  {
   "cell_type": "code",
   "execution_count": 15,
   "metadata": {},
   "outputs": [
    {
     "name": "stdout",
     "output_type": "stream",
     "text": [
      "Pairs of actors who co-stared in 2 or more highly rated movies: Actor A, Actor B, Co-stared Movies\n",
      "Al Pacino, Diane Keaton, 2\n",
      "Al Pacino, John Cazale, 2\n",
      "Al Pacino, Robert Duvall, 2\n",
      "Al Pacino, Talia Shire, 2\n",
      "Diane Keaton, John Cazale, 2\n",
      "Diane Keaton, Robert Duvall, 2\n",
      "Diane Keaton, Talia Shire, 2\n",
      "John Cazale, Robert Duvall, 2\n",
      "John Cazale, Talia Shire, 2\n",
      "Robert Duvall, Talia Shire, 2\n"
     ]
    }
   ],
   "source": [
    "command = \"SELECT actor1, actor2, COUNT(*) \" \\\n",
    "          \"FROM \" \\\n",
    "              \"(SELECT movie_actor1.imdb_id, movie_actor1.actor AS actor1, movie_actor2.actor AS actor2 \" \\\n",
    "              \"FROM (movie_actor movie_actor1, movie_actor movie_actor2) \" \\\n",
    "              \"WHERE movie_actor1.imdb_id == movie_actor2.imdb_id AND actor1 < actor2) \" \\\n",
    "              \"AS co_stared \" \\\n",
    "          \"JOIN movies on movies.imdb_id = co_stared.imdb_id \" \\\n",
    "          \"WHERE rating > 9 \" \\\n",
    "          \"GROUP BY actor1, actor2 \" \\\n",
    "          \"HAVING COUNT(*) >= 2 \" \\\n",
    "          \"ORDER BY COUNT(*) DESC, actor1, actor2 \"\n",
    "results = c.execute(command)\n",
    "\n",
    "print(\"Pairs of actors who co-stared in 2 or more highly rated movies: Actor A, Actor B, Co-stared Movies\")\n",
    "for row in results:\n",
    "    print(f\"{row[0]}, {row[1]}, {row[2]}\")"
   ]
  },
  {
   "cell_type": "markdown",
   "metadata": {},
   "source": [
    "## Part 2 (20 points) "
   ]
  },
  {
   "cell_type": "markdown",
   "metadata": {},
   "source": [
    "Write a python function that takes two arguments: genre and k \n",
    "\n",
    "The function should print out the top k directors who made the highest rated movies (on average) in the provided genre. You should use the sqlite3 database file you created in Part 1. Some example runs of my function are shown below. Your program should produce the same output when provided with the same command line arguments.\n",
    "\n",
    "`get_top_genre_directors(\"Sci-Fi\", 3)`\n",
    "```\n",
    "Top 3 directors who made highest rated Sci-Fi movies:\n",
    "Director, Average Sci-Fi movie rating\n",
    "Christopher Nolan, 8.8\n",
    "George Lucas, 8.8\n",
    "Irvin Kershner, 8.8\n",
    "```\n",
    "\n",
    "`get_top_genre_directors(\"War\", 5)`\n",
    "```\n",
    "Top 5 directors who made highest rated War movies:\n",
    "Director, Average War movie rating\n",
    "Steven Spielberg, 8.75\n",
    "Michael Curtiz, 8.7\n",
    "Francis Ford Coppola, 8.6\n",
    "Charles Chaplin, 8.5\n",
    "Roberto Benigni, 8.5\n",
    "```\n",
    "\n",
    "`get_top_genre_directors(\"Animation\", 10)`\n",
    "```\n",
    "Top 10 directors who made highest rated Animation movies:\n",
    "Director, Average Animation movie rating\n",
    "Isao Takahata, 8.4\n",
    "Rob Minkoff, 8.4\n",
    "Roger Allers, 8.4\n",
    "Andrew Stanton, 8.3\n",
    "Bob Peterson, 8.3\n",
    "John Lasseter, 8.3\n",
    "Lee Unkrich, 8.3\n",
    "Adam Elliot, 8.2\n",
    "Chris Sanders, 8.2\n",
    "Dean DeBlois, 8.2\n",
    "```"
   ]
  },
  {
   "cell_type": "code",
   "execution_count": 16,
   "metadata": {},
   "outputs": [],
   "source": [
    "def get_top_genre_directors(genre, k):\n",
    "    command = \"SELECT director, AVG(rating) \" \\\n",
    "              \"FROM \" \\\n",
    "                  \"(SELECT movie_director.imdb_id, director, genre \" \\\n",
    "                  \"FROM (movie_director JOIN movie_genre on movie_director.imdb_id == movie_genre.imdb_id)) \" \\\n",
    "                  \"AS director_genre \" \\\n",
    "              \"JOIN movies on movies.imdb_id = director_genre.imdb_id \" \\\n",
    "              \"WHERE genre == \" + \"'\" + genre + \"'\" \\\n",
    "              \" GROUP BY director \" \\\n",
    "              \"ORDER BY AVG(rating) DESC, director \" \\\n",
    "              \"LIMIT \" + str(k)\n",
    "    results = c.execute(command)\n",
    "\n",
    "    print(f\"Top {k} directors who made highest rated \"+ genre+\" movies:\\nDirector, Average \" + genre + \" movie rating\")\n",
    "    for row in results:\n",
    "        print(f\"{row[0]}, {row[1]}\")"
   ]
  },
  {
   "cell_type": "code",
   "execution_count": 17,
   "metadata": {},
   "outputs": [
    {
     "name": "stdout",
     "output_type": "stream",
     "text": [
      "Top 3 directors who made highest rated Sci-Fi movies:\n",
      "Director, Average Sci-Fi movie rating\n",
      "Christopher Nolan, 8.8\n",
      "George Lucas, 8.8\n",
      "Irvin Kershner, 8.8\n"
     ]
    }
   ],
   "source": [
    "get_top_genre_directors(\"Sci-Fi\", 3)"
   ]
  },
  {
   "cell_type": "code",
   "execution_count": 18,
   "metadata": {
    "scrolled": true
   },
   "outputs": [
    {
     "name": "stdout",
     "output_type": "stream",
     "text": [
      "Top 5 directors who made highest rated War movies:\n",
      "Director, Average War movie rating\n",
      "Steven Spielberg, 8.75\n",
      "Michael Curtiz, 8.7\n",
      "Francis Ford Coppola, 8.6\n",
      "Charles Chaplin, 8.5\n",
      "Roberto Benigni, 8.5\n"
     ]
    }
   ],
   "source": [
    "get_top_genre_directors(\"War\", 5)"
   ]
  },
  {
   "cell_type": "code",
   "execution_count": 19,
   "metadata": {},
   "outputs": [
    {
     "name": "stdout",
     "output_type": "stream",
     "text": [
      "Top 10 directors who made highest rated Animation movies:\n",
      "Director, Average Animation movie rating\n",
      "Isao Takahata, 8.4\n",
      "Rob Minkoff, 8.4\n",
      "Roger Allers, 8.4\n",
      "Andrew Stanton, 8.3\n",
      "Bob Peterson, 8.3\n",
      "John Lasseter, 8.3\n",
      "Lee Unkrich, 8.3\n",
      "Adam Elliot, 8.2\n",
      "Chris Sanders, 8.2\n",
      "Dean DeBlois, 8.2\n"
     ]
    }
   ],
   "source": [
    "get_top_genre_directors(\"Animation\", 10)"
   ]
  },
  {
   "cell_type": "markdown",
   "metadata": {},
   "source": [
    "## What to submit: \n",
    "Please perform the following operations and turn in the corresponding files to canvas:\n",
    "1. Jupyter notebook titled uniqname_si618_hw3.ipynb and the corresponding html page (uniqname_si618_hw3.html) \n",
    "through Canvas.\n",
    "2. The sqlite database file you created. (uniqname_si618_hw3.db)"
   ]
  },
  {
   "cell_type": "code",
   "execution_count": 20,
   "metadata": {},
   "outputs": [],
   "source": [
    "conn.close()"
   ]
  }
 ],
 "metadata": {
  "interpreter": {
   "hash": "ccfad3a08567331d09d2432bee1b50cab695c9379824f131d2e64405b63b07b1"
  },
  "kernelspec": {
   "display_name": "Python 3",
   "language": "python",
   "name": "python3"
  },
  "language_info": {
   "codemirror_mode": {
    "name": "ipython",
    "version": 3
   },
   "file_extension": ".py",
   "mimetype": "text/x-python",
   "name": "python",
   "nbconvert_exporter": "python",
   "pygments_lexer": "ipython3",
   "version": "3.9.1"
  }
 },
 "nbformat": 4,
 "nbformat_minor": 2
}
