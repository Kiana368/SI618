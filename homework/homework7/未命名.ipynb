{
 "cells": [
  {
   "cell_type": "code",
   "execution_count": 17,
   "id": "7b82eab3",
   "metadata": {},
   "outputs": [],
   "source": [
    "!diff iriswan_hw7_q1.csv sijuntao_hw7_q1.csv"
   ]
  },
  {
   "cell_type": "code",
   "execution_count": 18,
   "id": "3becd6e6",
   "metadata": {},
   "outputs": [],
   "source": [
    "!diff iriswan_hw7_q2.csv sijuntao_hw7_q2.csv"
   ]
  },
  {
   "cell_type": "code",
   "execution_count": 16,
   "id": "2c14f3b9",
   "metadata": {},
   "outputs": [],
   "source": [
    "!diff iriswan_hw7_q3.csv sijuntao_hw7_q3.csv"
   ]
  },
  {
   "cell_type": "code",
   "execution_count": null,
   "id": "0dd9de6d",
   "metadata": {},
   "outputs": [],
   "source": []
  }
 ],
 "metadata": {
  "kernelspec": {
   "display_name": "Python 3 (ipykernel)",
   "language": "python",
   "name": "python3"
  },
  "language_info": {
   "codemirror_mode": {
    "name": "ipython",
    "version": 3
   },
   "file_extension": ".py",
   "mimetype": "text/x-python",
   "name": "python",
   "nbconvert_exporter": "python",
   "pygments_lexer": "ipython3",
   "version": "3.9.12"
  }
 },
 "nbformat": 4,
 "nbformat_minor": 5
}
