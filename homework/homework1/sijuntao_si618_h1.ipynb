{
 "cells": [
  {
   "cell_type": "markdown",
   "metadata": {},
   "source": [
    "# SI 618    HW1"
   ]
  },
  {
   "cell_type": "markdown",
   "metadata": {},
   "source": [
    "- Name: Sijun Tao\n",
    "- Uniquename: sijuntao"
   ]
  },
  {
   "cell_type": "code",
   "execution_count": 1,
   "metadata": {},
   "outputs": [],
   "source": [
    "import numpy as np\n",
    "import pandas as pd"
   ]
  },
  {
   "cell_type": "markdown",
   "metadata": {},
   "source": [
    "<hr style=\"border: 1px solid #003262;\" />\n",
    "\n",
    "## Q1"
   ]
  },
  {
   "cell_type": "code",
   "execution_count": 2,
   "metadata": {},
   "outputs": [
    {
     "data": {
      "text/html": [
       "<div>\n",
       "<style scoped>\n",
       "    .dataframe tbody tr th:only-of-type {\n",
       "        vertical-align: middle;\n",
       "    }\n",
       "\n",
       "    .dataframe tbody tr th {\n",
       "        vertical-align: top;\n",
       "    }\n",
       "\n",
       "    .dataframe thead th {\n",
       "        text-align: right;\n",
       "    }\n",
       "</style>\n",
       "<table border=\"1\" class=\"dataframe\">\n",
       "  <thead>\n",
       "    <tr style=\"text-align: right;\">\n",
       "      <th></th>\n",
       "      <th>book_authors</th>\n",
       "      <th>book_desc</th>\n",
       "      <th>book_edition</th>\n",
       "      <th>book_format</th>\n",
       "      <th>book_isbn</th>\n",
       "      <th>book_pages</th>\n",
       "      <th>book_rating</th>\n",
       "      <th>book_rating_count</th>\n",
       "      <th>book_review_count</th>\n",
       "      <th>book_title</th>\n",
       "      <th>genres</th>\n",
       "      <th>image_url</th>\n",
       "    </tr>\n",
       "  </thead>\n",
       "  <tbody>\n",
       "    <tr>\n",
       "      <th>0</th>\n",
       "      <td>Kristin Hannah</td>\n",
       "      <td>Alaska, 1974.Unpredictable. Unforgiving. Untam...</td>\n",
       "      <td>NaN</td>\n",
       "      <td>Kindle Edition</td>\n",
       "      <td>NaN</td>\n",
       "      <td>435 pages</td>\n",
       "      <td>4.33</td>\n",
       "      <td>146505</td>\n",
       "      <td>17438</td>\n",
       "      <td>The Great Alone</td>\n",
       "      <td>Fiction|Historical|Historical Fiction|Audioboo...</td>\n",
       "      <td>https://images.gr-assets.com/books/1501852423l...</td>\n",
       "    </tr>\n",
       "    <tr>\n",
       "      <th>1</th>\n",
       "      <td>Madeline Miller</td>\n",
       "      <td>In the house of Helios, god of the sun and mig...</td>\n",
       "      <td>NaN</td>\n",
       "      <td>Hardcover</td>\n",
       "      <td>9.780000e+12</td>\n",
       "      <td>393 pages</td>\n",
       "      <td>4.34</td>\n",
       "      <td>61357</td>\n",
       "      <td>9369</td>\n",
       "      <td>Circe</td>\n",
       "      <td>Fantasy|Fiction|Fantasy|Mythology|Historical|H...</td>\n",
       "      <td>https://images.gr-assets.com/books/1508879575l...</td>\n",
       "    </tr>\n",
       "    <tr>\n",
       "      <th>2</th>\n",
       "      <td>Holly Black</td>\n",
       "      <td>Of course I want to be like them. They’re beau...</td>\n",
       "      <td>NaN</td>\n",
       "      <td>Hardcover</td>\n",
       "      <td>9.780000e+12</td>\n",
       "      <td>370 pages</td>\n",
       "      <td>4.18</td>\n",
       "      <td>62897</td>\n",
       "      <td>11948</td>\n",
       "      <td>The Cruel Prince</td>\n",
       "      <td>Fantasy|Young Adult|Fairies|Fae</td>\n",
       "      <td>https://images.gr-assets.com/books/1493047153l...</td>\n",
       "    </tr>\n",
       "    <tr>\n",
       "      <th>3</th>\n",
       "      <td>A.J. Finn</td>\n",
       "      <td>Anna Fox lives alone—a recluse in her New York...</td>\n",
       "      <td>NaN</td>\n",
       "      <td>Kindle Edition</td>\n",
       "      <td>NaN</td>\n",
       "      <td>449 pages</td>\n",
       "      <td>3.97</td>\n",
       "      <td>175678</td>\n",
       "      <td>20645</td>\n",
       "      <td>The Woman in the Window</td>\n",
       "      <td>Mystery|Thriller|Fiction|Suspense|Thriller|Mys...</td>\n",
       "      <td>https://images.gr-assets.com/books/1528225499l...</td>\n",
       "    </tr>\n",
       "    <tr>\n",
       "      <th>4</th>\n",
       "      <td>Tara Westover</td>\n",
       "      <td>An unforgettable memoir in the tradition of Th...</td>\n",
       "      <td>NaN</td>\n",
       "      <td>Hardcover</td>\n",
       "      <td>9.780000e+12</td>\n",
       "      <td>334 pages</td>\n",
       "      <td>4.47</td>\n",
       "      <td>128337</td>\n",
       "      <td>16424</td>\n",
       "      <td>Educated</td>\n",
       "      <td>Nonfiction|Autobiography|Memoir|Biography</td>\n",
       "      <td>https://images.gr-assets.com/books/1506026635l...</td>\n",
       "    </tr>\n",
       "    <tr>\n",
       "      <th>...</th>\n",
       "      <td>...</td>\n",
       "      <td>...</td>\n",
       "      <td>...</td>\n",
       "      <td>...</td>\n",
       "      <td>...</td>\n",
       "      <td>...</td>\n",
       "      <td>...</td>\n",
       "      <td>...</td>\n",
       "      <td>...</td>\n",
       "      <td>...</td>\n",
       "      <td>...</td>\n",
       "      <td>...</td>\n",
       "    </tr>\n",
       "    <tr>\n",
       "      <th>1136</th>\n",
       "      <td>Alyssa Brandon</td>\n",
       "      <td>A teen werewolf finally meets her destined sou...</td>\n",
       "      <td>NaN</td>\n",
       "      <td>Hardcover</td>\n",
       "      <td>9.780000e+12</td>\n",
       "      <td>304 pages</td>\n",
       "      <td>3.33</td>\n",
       "      <td>359</td>\n",
       "      <td>88</td>\n",
       "      <td>Bound to You</td>\n",
       "      <td>Fantasy|Paranormal|Romance|Fantasy|Shapeshifte...</td>\n",
       "      <td>https://images.gr-assets.com/books/1508489753l...</td>\n",
       "    </tr>\n",
       "    <tr>\n",
       "      <th>1137</th>\n",
       "      <td>Crystal Hana Kim</td>\n",
       "      <td>An emotionally riveting debut novel about war,...</td>\n",
       "      <td>NaN</td>\n",
       "      <td>Hardcover</td>\n",
       "      <td>9.780000e+12</td>\n",
       "      <td>417 pages</td>\n",
       "      <td>3.69</td>\n",
       "      <td>1255</td>\n",
       "      <td>259</td>\n",
       "      <td>If You Leave Me</td>\n",
       "      <td>Historical|Historical Fiction|Fiction|Historic...</td>\n",
       "      <td>https://images.gr-assets.com/books/1508962755l...</td>\n",
       "    </tr>\n",
       "    <tr>\n",
       "      <th>1138</th>\n",
       "      <td>Leslie  Cohen</td>\n",
       "      <td>This is the classic tale of boy meets girl: Gi...</td>\n",
       "      <td>NaN</td>\n",
       "      <td>Kindle Edition</td>\n",
       "      <td>NaN</td>\n",
       "      <td>320 pages</td>\n",
       "      <td>3.40</td>\n",
       "      <td>1300</td>\n",
       "      <td>272</td>\n",
       "      <td>This Love Story Will Self-Destruct</td>\n",
       "      <td>Romance|Fiction|Womens Fiction|Chick Lit|Conte...</td>\n",
       "      <td>https://images.gr-assets.com/books/1503757123l...</td>\n",
       "    </tr>\n",
       "    <tr>\n",
       "      <th>1139</th>\n",
       "      <td>Sarah Beth Durst</td>\n",
       "      <td>The battle between vicious spirits and strong-...</td>\n",
       "      <td>NaN</td>\n",
       "      <td>Hardcover</td>\n",
       "      <td>9.780000e+12</td>\n",
       "      <td>419 pages</td>\n",
       "      <td>3.86</td>\n",
       "      <td>907</td>\n",
       "      <td>205</td>\n",
       "      <td>The Queen of Sorrow</td>\n",
       "      <td>Fantasy|Young Adult|Adult</td>\n",
       "      <td>https://images.gr-assets.com/books/1513185111l...</td>\n",
       "    </tr>\n",
       "    <tr>\n",
       "      <th>1140</th>\n",
       "      <td>Nisha Sharma</td>\n",
       "      <td>Winnie Mehta was never really convinced that R...</td>\n",
       "      <td>NaN</td>\n",
       "      <td>Hardcover</td>\n",
       "      <td>9.780000e+12</td>\n",
       "      <td>304 pages</td>\n",
       "      <td>3.64</td>\n",
       "      <td>1322</td>\n",
       "      <td>395</td>\n",
       "      <td>My So-Called Bollywood Life</td>\n",
       "      <td>Young Adult|Contemporary|Romance|Fiction|Young...</td>\n",
       "      <td>https://images.gr-assets.com/books/1510586092l...</td>\n",
       "    </tr>\n",
       "  </tbody>\n",
       "</table>\n",
       "<p>1141 rows × 12 columns</p>\n",
       "</div>"
      ],
      "text/plain": [
       "          book_authors                                          book_desc  \\\n",
       "0       Kristin Hannah  Alaska, 1974.Unpredictable. Unforgiving. Untam...   \n",
       "1      Madeline Miller  In the house of Helios, god of the sun and mig...   \n",
       "2          Holly Black  Of course I want to be like them. They’re beau...   \n",
       "3            A.J. Finn  Anna Fox lives alone—a recluse in her New York...   \n",
       "4        Tara Westover  An unforgettable memoir in the tradition of Th...   \n",
       "...                ...                                                ...   \n",
       "1136    Alyssa Brandon  A teen werewolf finally meets her destined sou...   \n",
       "1137  Crystal Hana Kim  An emotionally riveting debut novel about war,...   \n",
       "1138     Leslie  Cohen  This is the classic tale of boy meets girl: Gi...   \n",
       "1139  Sarah Beth Durst  The battle between vicious spirits and strong-...   \n",
       "1140      Nisha Sharma  Winnie Mehta was never really convinced that R...   \n",
       "\n",
       "     book_edition     book_format     book_isbn book_pages  book_rating  \\\n",
       "0             NaN  Kindle Edition           NaN  435 pages         4.33   \n",
       "1             NaN       Hardcover  9.780000e+12  393 pages         4.34   \n",
       "2             NaN       Hardcover  9.780000e+12  370 pages         4.18   \n",
       "3             NaN  Kindle Edition           NaN  449 pages         3.97   \n",
       "4             NaN       Hardcover  9.780000e+12  334 pages         4.47   \n",
       "...           ...             ...           ...        ...          ...   \n",
       "1136          NaN       Hardcover  9.780000e+12  304 pages         3.33   \n",
       "1137          NaN       Hardcover  9.780000e+12  417 pages         3.69   \n",
       "1138          NaN  Kindle Edition           NaN  320 pages         3.40   \n",
       "1139          NaN       Hardcover  9.780000e+12  419 pages         3.86   \n",
       "1140          NaN       Hardcover  9.780000e+12  304 pages         3.64   \n",
       "\n",
       "      book_rating_count  book_review_count  \\\n",
       "0                146505              17438   \n",
       "1                 61357               9369   \n",
       "2                 62897              11948   \n",
       "3                175678              20645   \n",
       "4                128337              16424   \n",
       "...                 ...                ...   \n",
       "1136                359                 88   \n",
       "1137               1255                259   \n",
       "1138               1300                272   \n",
       "1139                907                205   \n",
       "1140               1322                395   \n",
       "\n",
       "                              book_title  \\\n",
       "0                        The Great Alone   \n",
       "1                                  Circe   \n",
       "2                       The Cruel Prince   \n",
       "3                The Woman in the Window   \n",
       "4                               Educated   \n",
       "...                                  ...   \n",
       "1136                        Bound to You   \n",
       "1137                     If You Leave Me   \n",
       "1138  This Love Story Will Self-Destruct   \n",
       "1139                 The Queen of Sorrow   \n",
       "1140         My So-Called Bollywood Life   \n",
       "\n",
       "                                                 genres  \\\n",
       "0     Fiction|Historical|Historical Fiction|Audioboo...   \n",
       "1     Fantasy|Fiction|Fantasy|Mythology|Historical|H...   \n",
       "2                       Fantasy|Young Adult|Fairies|Fae   \n",
       "3     Mystery|Thriller|Fiction|Suspense|Thriller|Mys...   \n",
       "4             Nonfiction|Autobiography|Memoir|Biography   \n",
       "...                                                 ...   \n",
       "1136  Fantasy|Paranormal|Romance|Fantasy|Shapeshifte...   \n",
       "1137  Historical|Historical Fiction|Fiction|Historic...   \n",
       "1138  Romance|Fiction|Womens Fiction|Chick Lit|Conte...   \n",
       "1139                          Fantasy|Young Adult|Adult   \n",
       "1140  Young Adult|Contemporary|Romance|Fiction|Young...   \n",
       "\n",
       "                                              image_url  \n",
       "0     https://images.gr-assets.com/books/1501852423l...  \n",
       "1     https://images.gr-assets.com/books/1508879575l...  \n",
       "2     https://images.gr-assets.com/books/1493047153l...  \n",
       "3     https://images.gr-assets.com/books/1528225499l...  \n",
       "4     https://images.gr-assets.com/books/1506026635l...  \n",
       "...                                                 ...  \n",
       "1136  https://images.gr-assets.com/books/1508489753l...  \n",
       "1137  https://images.gr-assets.com/books/1508962755l...  \n",
       "1138  https://images.gr-assets.com/books/1503757123l...  \n",
       "1139  https://images.gr-assets.com/books/1513185111l...  \n",
       "1140  https://images.gr-assets.com/books/1510586092l...  \n",
       "\n",
       "[1141 rows x 12 columns]"
      ]
     },
     "execution_count": 2,
     "metadata": {},
     "output_type": "execute_result"
    }
   ],
   "source": [
    "data = pd.read_csv(\"book_data.csv\")\n",
    "data"
   ]
  },
  {
   "cell_type": "markdown",
   "metadata": {},
   "source": [
    "<hr style=\"border: 1px solid #003262;\" />\n",
    "\n",
    "## Q2"
   ]
  },
  {
   "cell_type": "code",
   "execution_count": 3,
   "metadata": {},
   "outputs": [
    {
     "name": "stdout",
     "output_type": "stream",
     "text": [
      "\u001b[31mq2_a: \u001b[0mThere are 16 duplicated records. There are 15 books that have duplicate records in the data. One book has 3 records, and 14 books have 2 records each.\n"
     ]
    }
   ],
   "source": [
    "q2_a = pd.DataFrame(data['book_title'].value_counts())\n",
    "# q2[q2['book_title']>1]\n",
    "q2_a1 = q2_a[q2_a['book_title']>1]\n",
    "q2_a = q2_a1.shape[0]\n",
    "q2_a1 = q2_a1['book_title'].sum()-len(q2_a1)\n",
    "\n",
    "print(\"\\033[31mq2_a: \\033[0m\" + f\"There are {q2_a1} duplicated records. There are {q2_a} books that have duplicate records in the data. One book has 3 records, and 14 books have 2 records each.\")\n"
   ]
  },
  {
   "cell_type": "code",
   "execution_count": 4,
   "metadata": {},
   "outputs": [
    {
     "name": "stdout",
     "output_type": "stream",
     "text": [
      "\u001b[31mq2_b: \u001b[0mAfter removing the duplicate entries from the data, there are 1125 unique books.\n"
     ]
    }
   ],
   "source": [
    "data = data.drop_duplicates('book_title')\n",
    "q2_b = data['book_title'].shape[0]\n",
    "\n",
    "print(\"\\033[31mq2_b: \\033[0m\" + f\"After removing the duplicate entries from the data, there are {q2_b} unique books.\")"
   ]
  },
  {
   "cell_type": "markdown",
   "metadata": {},
   "source": [
    "<hr style=\"border: 1px solid #003262;\" />\n",
    "\n",
    "## Q3"
   ]
  },
  {
   "cell_type": "code",
   "execution_count": 5,
   "metadata": {},
   "outputs": [
    {
     "name": "stdout",
     "output_type": "stream",
     "text": [
      "\u001b[31mq3: \u001b[0mThere are 16 books have exactly 3 authors.\n"
     ]
    }
   ],
   "source": [
    "# q3 is a series that represents the count of '|' in each blank of book_authors\n",
    "q3 = data['book_authors'].str.count(\"\\|\").value_counts()[2]\n",
    "\n",
    "print(\"\\033[31mq3: \\033[0m\" + f\"There are {q3} books have exactly 3 authors.\")"
   ]
  },
  {
   "cell_type": "markdown",
   "metadata": {},
   "source": [
    "<hr style=\"border: 1px solid #003262;\" />\n",
    "\n",
    "## Q4"
   ]
  },
  {
   "cell_type": "code",
   "execution_count": 6,
   "metadata": {},
   "outputs": [
    {
     "name": "stdout",
     "output_type": "stream",
     "text": [
      "\u001b[31mq4: \u001b[0mAfter creating a new column with the integer value of the number of pages, I remove the rows with NaN value of page number. The reason why I remove them is that one book must have positive page number. If the page number is NaN, this record must be wrong. After removing, there are 1056 records.\n"
     ]
    }
   ],
   "source": [
    "data = data.copy()\n",
    "data['page_number'] = data[\"book_pages\"].str.split().str[0]\n",
    "data = data[ ~ data['page_number'].isnull()]\n",
    "data['page_number'] = data[\"page_number\"].astype(int)\n",
    "q4 = data.shape[0]\n",
    "\n",
    "print(\"\\033[31mq4: \\033[0m\" + f\"After creating a new column with the integer value of the number of pages, I remove the rows with NaN value of page number. The reason why I remove them is that one book must have positive page number. If the page number is NaN, this record must be wrong. After removing, there are {q4} records.\")"
   ]
  },
  {
   "cell_type": "markdown",
   "metadata": {},
   "source": [
    "<hr style=\"border: 1px solid #003262;\" />\n",
    "\n",
    "## Q5"
   ]
  },
  {
   "cell_type": "code",
   "execution_count": 7,
   "metadata": {},
   "outputs": [
    {
     "name": "stdout",
     "output_type": "stream",
     "text": [
      "\u001b[31mq5: \u001b[0mThe median number of pages is 326.5. \n"
     ]
    }
   ],
   "source": [
    "q5 = data['page_number'].median()\n",
    "\n",
    "print(\"\\033[31mq5: \\033[0m\" + f\"The median number of pages is {q5}. \")"
   ]
  },
  {
   "cell_type": "markdown",
   "metadata": {},
   "source": [
    "<hr style=\"border: 1px solid #003262;\" />\n",
    "\n",
    "## Q6"
   ]
  },
  {
   "cell_type": "code",
   "execution_count": 8,
   "metadata": {},
   "outputs": [
    {
     "name": "stdout",
     "output_type": "stream",
     "text": [
      "\u001b[31mq6: \u001b[0mThe minimum number of pages is 0.\n",
      " The maximum number of pages is 992. \n"
     ]
    }
   ],
   "source": [
    "q6_min = data['page_number'].min()\n",
    "q6_max = data['page_number'].max()\n",
    "\n",
    "print(\"\\033[31mq6: \\033[0m\" + f\"The minimum number of pages is {q6_min}.\\n The maximum number of pages is {q6_max}. \")"
   ]
  },
  {
   "cell_type": "markdown",
   "metadata": {},
   "source": [
    "<hr style=\"border: 1px solid #003262;\" />\n",
    "\n",
    "## Q7"
   ]
  },
  {
   "cell_type": "code",
   "execution_count": 9,
   "metadata": {},
   "outputs": [
    {
     "name": "stdout",
     "output_type": "stream",
     "text": [
      "\u001b[31mq7: \u001b[0mThe average number of pages for books written by a single author is 333.3510292524377.\n",
      " The average number of pages for books written by two authors is 274.77777777777777.\n",
      " The average number of pages for books written by three authors is 277.75.\n",
      " \n",
      " Roughly, the average number of pages does not increase with the increase the number of author. We may have a temporary conclusion that \u001b[1mhaving more than 1 author does not necessarilly result in a longer book on average.\u001b[0m\n"
     ]
    }
   ],
   "source": [
    "q7_1_auth = data[data['book_authors'].str.count(\"\\|\") == 0]['page_number'].mean()\n",
    "q7_2_auth = data[data['book_authors'].str.count(\"\\|\") == 1]['page_number'].mean()\n",
    "q7_3_auth = data[data['book_authors'].str.count(\"\\|\") == 2]['page_number'].mean()\n",
    "\n",
    "print(\"\\033[31mq7: \\033[0m\" + f\"The average number of pages for books written by a single author is {q7_1_auth}.\\n The average number of pages for books written by two authors is {q7_2_auth}.\\n The average number of pages for books written by three authors is {q7_3_auth}.\\n \\n Roughly, the average number of pages does not increase with the increase the number of author. We may have a temporary conclusion that \" + \"\\033[1mhaving more than 1 author does not necessarilly result in a longer book on average.\\033[0m\")"
   ]
  },
  {
   "cell_type": "markdown",
   "metadata": {},
   "source": [
    "<hr style=\"border: 1px solid #003262;\" />\n",
    "\n",
    "## Q8"
   ]
  },
  {
   "cell_type": "code",
   "execution_count": 10,
   "metadata": {},
   "outputs": [
    {
     "name": "stdout",
     "output_type": "stream",
     "text": [
      "\u001b[31mq8: \u001b[0mThere are 596 books that have at least a rating of 4\n"
     ]
    }
   ],
   "source": [
    "q8 = data[data['book_rating'] >= 4].shape[0]\n",
    "\n",
    "print(\"\\033[31mq8: \\033[0m\" + f\"There are {q8} books that have at least a rating of 4\")"
   ]
  },
  {
   "cell_type": "markdown",
   "metadata": {},
   "source": [
    "<hr style=\"border: 1px solid #003262;\" />\n",
    "\n",
    "## Q9"
   ]
  },
  {
   "cell_type": "code",
   "execution_count": 11,
   "metadata": {},
   "outputs": [
    {
     "name": "stdout",
     "output_type": "stream",
     "text": [
      "\u001b[31mq9: \u001b[0mThere are 1005 books that have at most a rating of 4.5\n"
     ]
    }
   ],
   "source": [
    "q9 = data[data['book_rating'] <= 4.5].shape[0]\n",
    "\n",
    "print(\"\\033[31mq9: \\033[0m\" + f\"There are {q9} books that have at most a rating of 4.5\")"
   ]
  },
  {
   "cell_type": "markdown",
   "metadata": {},
   "source": [
    "<hr style=\"border: 1px solid #003262;\" />\n",
    "\n",
    "## Q10"
   ]
  },
  {
   "cell_type": "code",
   "execution_count": 12,
   "metadata": {},
   "outputs": [
    {
     "name": "stdout",
     "output_type": "stream",
     "text": [
      "\u001b[31mq10: \u001b[0mAfter discretizing the ratings, the rating looks like below: \n",
      "0       4\n",
      "1       4\n",
      "2       4\n",
      "3       3\n",
      "4       4\n",
      "       ..\n",
      "1136    3\n",
      "1137    3\n",
      "1138    3\n",
      "1139    3\n",
      "1140    3\n",
      "Name: book_rating_discretized, Length: 1056, dtype: int64\n"
     ]
    }
   ],
   "source": [
    "data['book_rating_discretized'] = data['book_rating'].apply(np.floor).astype(int)\n",
    "\n",
    "print(\"\\033[31mq10: \\033[0m\" + f\"After discretizing the ratings, the rating looks like below: \\n{data['book_rating_discretized']}\")"
   ]
  },
  {
   "cell_type": "markdown",
   "metadata": {},
   "source": [
    "<hr style=\"border: 1px solid #003262;\" />\n",
    "\n",
    "## Q11"
   ]
  },
  {
   "cell_type": "code",
   "execution_count": 13,
   "metadata": {
    "scrolled": false
   },
   "outputs": [
    {
     "name": "stdout",
     "output_type": "stream",
     "text": [
      "\u001b[31mq11: \u001b[0m\n",
      "The average number of pages for rating 1: nan\n",
      "\n",
      "The average number of pages for rating 2: 285.3333333333333\n",
      "\n",
      "The average number of pages for rating 3: 319.10284463894965\n",
      "\n",
      "The average number of pages for rating 4: 336.11413969335604\n",
      "\n",
      "The average number of pages for rating 5: 104.22222222222223\n",
      "\n"
     ]
    }
   ],
   "source": [
    "rating = [1,2,3,4,5]\n",
    "print(\"\\033[31mq11: \\033[0m\")\n",
    "\n",
    "for rate in rating:\n",
    "    temp = data[data['book_rating_discretized'] == rate]['page_number'].mean()\n",
    "    print(f\"The average number of pages for rating {rate}: {temp}\\n\")"
   ]
  },
  {
   "cell_type": "markdown",
   "metadata": {},
   "source": [
    "<hr style=\"border: 1px solid #003262;\" />\n",
    "\n",
    "## Q12"
   ]
  },
  {
   "cell_type": "code",
   "execution_count": 14,
   "metadata": {
    "scrolled": true
   },
   "outputs": [
    {
     "name": "stdout",
     "output_type": "stream",
     "text": [
      "\u001b[31mq12: \u001b[0m\n",
      "The average number of reviews for rating 1: nan\n",
      "\n",
      "The average number of reviews for rating 2: 251.33333333333334\n",
      "\n",
      "The average number of reviews for rating 3: 896.9321663019693\n",
      "\n",
      "The average number of reviews for rating 4: 916.2879045996593\n",
      "\n",
      "The average number of reviews for rating 5: 0.7777777777777778\n",
      "\n"
     ]
    }
   ],
   "source": [
    "rating = [1,2,3,4,5]\n",
    "print(\"\\033[31mq12: \\033[0m\")\n",
    "\n",
    "for rate in rating:\n",
    "    temp = data[data['book_rating_discretized'] == rate]['book_review_count'].mean()\n",
    "    print(f\"The average number of reviews for rating {rate}: {temp}\\n\")"
   ]
  },
  {
   "cell_type": "markdown",
   "metadata": {},
   "source": [
    "<hr style=\"border: 1px solid #003262;\" />\n",
    "\n",
    "## Q13"
   ]
  },
  {
   "cell_type": "code",
   "execution_count": 15,
   "metadata": {},
   "outputs": [
    {
     "name": "stdout",
     "output_type": "stream",
     "text": [
      "\u001b[31mq13: \u001b[0mAfter exploding the rows with multiple genres, it is just one row per genre/book without duplicated rows.\n"
     ]
    },
    {
     "data": {
      "text/html": [
       "<div>\n",
       "<style scoped>\n",
       "    .dataframe tbody tr th:only-of-type {\n",
       "        vertical-align: middle;\n",
       "    }\n",
       "\n",
       "    .dataframe tbody tr th {\n",
       "        vertical-align: top;\n",
       "    }\n",
       "\n",
       "    .dataframe thead th {\n",
       "        text-align: right;\n",
       "    }\n",
       "</style>\n",
       "<table border=\"1\" class=\"dataframe\">\n",
       "  <thead>\n",
       "    <tr style=\"text-align: right;\">\n",
       "      <th></th>\n",
       "      <th>book_authors</th>\n",
       "      <th>book_desc</th>\n",
       "      <th>book_edition</th>\n",
       "      <th>book_format</th>\n",
       "      <th>book_isbn</th>\n",
       "      <th>book_pages</th>\n",
       "      <th>book_rating</th>\n",
       "      <th>book_rating_count</th>\n",
       "      <th>book_review_count</th>\n",
       "      <th>book_title</th>\n",
       "      <th>genres</th>\n",
       "      <th>image_url</th>\n",
       "      <th>page_number</th>\n",
       "      <th>book_rating_discretized</th>\n",
       "    </tr>\n",
       "  </thead>\n",
       "  <tbody>\n",
       "    <tr>\n",
       "      <th>0</th>\n",
       "      <td>Kristin Hannah</td>\n",
       "      <td>Alaska, 1974.Unpredictable. Unforgiving. Untam...</td>\n",
       "      <td>NaN</td>\n",
       "      <td>Kindle Edition</td>\n",
       "      <td>NaN</td>\n",
       "      <td>435 pages</td>\n",
       "      <td>4.33</td>\n",
       "      <td>146505</td>\n",
       "      <td>17438</td>\n",
       "      <td>The Great Alone</td>\n",
       "      <td>Fiction</td>\n",
       "      <td>https://images.gr-assets.com/books/1501852423l...</td>\n",
       "      <td>435</td>\n",
       "      <td>4</td>\n",
       "    </tr>\n",
       "    <tr>\n",
       "      <th>0</th>\n",
       "      <td>Kristin Hannah</td>\n",
       "      <td>Alaska, 1974.Unpredictable. Unforgiving. Untam...</td>\n",
       "      <td>NaN</td>\n",
       "      <td>Kindle Edition</td>\n",
       "      <td>NaN</td>\n",
       "      <td>435 pages</td>\n",
       "      <td>4.33</td>\n",
       "      <td>146505</td>\n",
       "      <td>17438</td>\n",
       "      <td>The Great Alone</td>\n",
       "      <td>Historical</td>\n",
       "      <td>https://images.gr-assets.com/books/1501852423l...</td>\n",
       "      <td>435</td>\n",
       "      <td>4</td>\n",
       "    </tr>\n",
       "    <tr>\n",
       "      <th>0</th>\n",
       "      <td>Kristin Hannah</td>\n",
       "      <td>Alaska, 1974.Unpredictable. Unforgiving. Untam...</td>\n",
       "      <td>NaN</td>\n",
       "      <td>Kindle Edition</td>\n",
       "      <td>NaN</td>\n",
       "      <td>435 pages</td>\n",
       "      <td>4.33</td>\n",
       "      <td>146505</td>\n",
       "      <td>17438</td>\n",
       "      <td>The Great Alone</td>\n",
       "      <td>Historical Fiction</td>\n",
       "      <td>https://images.gr-assets.com/books/1501852423l...</td>\n",
       "      <td>435</td>\n",
       "      <td>4</td>\n",
       "    </tr>\n",
       "    <tr>\n",
       "      <th>0</th>\n",
       "      <td>Kristin Hannah</td>\n",
       "      <td>Alaska, 1974.Unpredictable. Unforgiving. Untam...</td>\n",
       "      <td>NaN</td>\n",
       "      <td>Kindle Edition</td>\n",
       "      <td>NaN</td>\n",
       "      <td>435 pages</td>\n",
       "      <td>4.33</td>\n",
       "      <td>146505</td>\n",
       "      <td>17438</td>\n",
       "      <td>The Great Alone</td>\n",
       "      <td>Audiobook</td>\n",
       "      <td>https://images.gr-assets.com/books/1501852423l...</td>\n",
       "      <td>435</td>\n",
       "      <td>4</td>\n",
       "    </tr>\n",
       "    <tr>\n",
       "      <th>0</th>\n",
       "      <td>Kristin Hannah</td>\n",
       "      <td>Alaska, 1974.Unpredictable. Unforgiving. Untam...</td>\n",
       "      <td>NaN</td>\n",
       "      <td>Kindle Edition</td>\n",
       "      <td>NaN</td>\n",
       "      <td>435 pages</td>\n",
       "      <td>4.33</td>\n",
       "      <td>146505</td>\n",
       "      <td>17438</td>\n",
       "      <td>The Great Alone</td>\n",
       "      <td>Adult Fiction</td>\n",
       "      <td>https://images.gr-assets.com/books/1501852423l...</td>\n",
       "      <td>435</td>\n",
       "      <td>4</td>\n",
       "    </tr>\n",
       "    <tr>\n",
       "      <th>...</th>\n",
       "      <td>...</td>\n",
       "      <td>...</td>\n",
       "      <td>...</td>\n",
       "      <td>...</td>\n",
       "      <td>...</td>\n",
       "      <td>...</td>\n",
       "      <td>...</td>\n",
       "      <td>...</td>\n",
       "      <td>...</td>\n",
       "      <td>...</td>\n",
       "      <td>...</td>\n",
       "      <td>...</td>\n",
       "      <td>...</td>\n",
       "      <td>...</td>\n",
       "    </tr>\n",
       "    <tr>\n",
       "      <th>1140</th>\n",
       "      <td>Nisha Sharma</td>\n",
       "      <td>Winnie Mehta was never really convinced that R...</td>\n",
       "      <td>NaN</td>\n",
       "      <td>Hardcover</td>\n",
       "      <td>9.780000e+12</td>\n",
       "      <td>304 pages</td>\n",
       "      <td>3.64</td>\n",
       "      <td>1322</td>\n",
       "      <td>395</td>\n",
       "      <td>My So-Called Bollywood Life</td>\n",
       "      <td>Young Adult</td>\n",
       "      <td>https://images.gr-assets.com/books/1510586092l...</td>\n",
       "      <td>304</td>\n",
       "      <td>3</td>\n",
       "    </tr>\n",
       "    <tr>\n",
       "      <th>1140</th>\n",
       "      <td>Nisha Sharma</td>\n",
       "      <td>Winnie Mehta was never really convinced that R...</td>\n",
       "      <td>NaN</td>\n",
       "      <td>Hardcover</td>\n",
       "      <td>9.780000e+12</td>\n",
       "      <td>304 pages</td>\n",
       "      <td>3.64</td>\n",
       "      <td>1322</td>\n",
       "      <td>395</td>\n",
       "      <td>My So-Called Bollywood Life</td>\n",
       "      <td>Contemporary</td>\n",
       "      <td>https://images.gr-assets.com/books/1510586092l...</td>\n",
       "      <td>304</td>\n",
       "      <td>3</td>\n",
       "    </tr>\n",
       "    <tr>\n",
       "      <th>1140</th>\n",
       "      <td>Nisha Sharma</td>\n",
       "      <td>Winnie Mehta was never really convinced that R...</td>\n",
       "      <td>NaN</td>\n",
       "      <td>Hardcover</td>\n",
       "      <td>9.780000e+12</td>\n",
       "      <td>304 pages</td>\n",
       "      <td>3.64</td>\n",
       "      <td>1322</td>\n",
       "      <td>395</td>\n",
       "      <td>My So-Called Bollywood Life</td>\n",
       "      <td>Romance</td>\n",
       "      <td>https://images.gr-assets.com/books/1510586092l...</td>\n",
       "      <td>304</td>\n",
       "      <td>3</td>\n",
       "    </tr>\n",
       "    <tr>\n",
       "      <th>1140</th>\n",
       "      <td>Nisha Sharma</td>\n",
       "      <td>Winnie Mehta was never really convinced that R...</td>\n",
       "      <td>NaN</td>\n",
       "      <td>Hardcover</td>\n",
       "      <td>9.780000e+12</td>\n",
       "      <td>304 pages</td>\n",
       "      <td>3.64</td>\n",
       "      <td>1322</td>\n",
       "      <td>395</td>\n",
       "      <td>My So-Called Bollywood Life</td>\n",
       "      <td>Fiction</td>\n",
       "      <td>https://images.gr-assets.com/books/1510586092l...</td>\n",
       "      <td>304</td>\n",
       "      <td>3</td>\n",
       "    </tr>\n",
       "    <tr>\n",
       "      <th>1140</th>\n",
       "      <td>Nisha Sharma</td>\n",
       "      <td>Winnie Mehta was never really convinced that R...</td>\n",
       "      <td>NaN</td>\n",
       "      <td>Hardcover</td>\n",
       "      <td>9.780000e+12</td>\n",
       "      <td>304 pages</td>\n",
       "      <td>3.64</td>\n",
       "      <td>1322</td>\n",
       "      <td>395</td>\n",
       "      <td>My So-Called Bollywood Life</td>\n",
       "      <td>Young Adult Contemporary</td>\n",
       "      <td>https://images.gr-assets.com/books/1510586092l...</td>\n",
       "      <td>304</td>\n",
       "      <td>3</td>\n",
       "    </tr>\n",
       "  </tbody>\n",
       "</table>\n",
       "<p>5274 rows × 14 columns</p>\n",
       "</div>"
      ],
      "text/plain": [
       "        book_authors                                          book_desc  \\\n",
       "0     Kristin Hannah  Alaska, 1974.Unpredictable. Unforgiving. Untam...   \n",
       "0     Kristin Hannah  Alaska, 1974.Unpredictable. Unforgiving. Untam...   \n",
       "0     Kristin Hannah  Alaska, 1974.Unpredictable. Unforgiving. Untam...   \n",
       "0     Kristin Hannah  Alaska, 1974.Unpredictable. Unforgiving. Untam...   \n",
       "0     Kristin Hannah  Alaska, 1974.Unpredictable. Unforgiving. Untam...   \n",
       "...              ...                                                ...   \n",
       "1140    Nisha Sharma  Winnie Mehta was never really convinced that R...   \n",
       "1140    Nisha Sharma  Winnie Mehta was never really convinced that R...   \n",
       "1140    Nisha Sharma  Winnie Mehta was never really convinced that R...   \n",
       "1140    Nisha Sharma  Winnie Mehta was never really convinced that R...   \n",
       "1140    Nisha Sharma  Winnie Mehta was never really convinced that R...   \n",
       "\n",
       "     book_edition     book_format     book_isbn book_pages  book_rating  \\\n",
       "0             NaN  Kindle Edition           NaN  435 pages         4.33   \n",
       "0             NaN  Kindle Edition           NaN  435 pages         4.33   \n",
       "0             NaN  Kindle Edition           NaN  435 pages         4.33   \n",
       "0             NaN  Kindle Edition           NaN  435 pages         4.33   \n",
       "0             NaN  Kindle Edition           NaN  435 pages         4.33   \n",
       "...           ...             ...           ...        ...          ...   \n",
       "1140          NaN       Hardcover  9.780000e+12  304 pages         3.64   \n",
       "1140          NaN       Hardcover  9.780000e+12  304 pages         3.64   \n",
       "1140          NaN       Hardcover  9.780000e+12  304 pages         3.64   \n",
       "1140          NaN       Hardcover  9.780000e+12  304 pages         3.64   \n",
       "1140          NaN       Hardcover  9.780000e+12  304 pages         3.64   \n",
       "\n",
       "      book_rating_count  book_review_count                   book_title  \\\n",
       "0                146505              17438              The Great Alone   \n",
       "0                146505              17438              The Great Alone   \n",
       "0                146505              17438              The Great Alone   \n",
       "0                146505              17438              The Great Alone   \n",
       "0                146505              17438              The Great Alone   \n",
       "...                 ...                ...                          ...   \n",
       "1140               1322                395  My So-Called Bollywood Life   \n",
       "1140               1322                395  My So-Called Bollywood Life   \n",
       "1140               1322                395  My So-Called Bollywood Life   \n",
       "1140               1322                395  My So-Called Bollywood Life   \n",
       "1140               1322                395  My So-Called Bollywood Life   \n",
       "\n",
       "                        genres  \\\n",
       "0                      Fiction   \n",
       "0                   Historical   \n",
       "0           Historical Fiction   \n",
       "0                    Audiobook   \n",
       "0                Adult Fiction   \n",
       "...                        ...   \n",
       "1140               Young Adult   \n",
       "1140              Contemporary   \n",
       "1140                   Romance   \n",
       "1140                   Fiction   \n",
       "1140  Young Adult Contemporary   \n",
       "\n",
       "                                              image_url  page_number  \\\n",
       "0     https://images.gr-assets.com/books/1501852423l...          435   \n",
       "0     https://images.gr-assets.com/books/1501852423l...          435   \n",
       "0     https://images.gr-assets.com/books/1501852423l...          435   \n",
       "0     https://images.gr-assets.com/books/1501852423l...          435   \n",
       "0     https://images.gr-assets.com/books/1501852423l...          435   \n",
       "...                                                 ...          ...   \n",
       "1140  https://images.gr-assets.com/books/1510586092l...          304   \n",
       "1140  https://images.gr-assets.com/books/1510586092l...          304   \n",
       "1140  https://images.gr-assets.com/books/1510586092l...          304   \n",
       "1140  https://images.gr-assets.com/books/1510586092l...          304   \n",
       "1140  https://images.gr-assets.com/books/1510586092l...          304   \n",
       "\n",
       "      book_rating_discretized  \n",
       "0                           4  \n",
       "0                           4  \n",
       "0                           4  \n",
       "0                           4  \n",
       "0                           4  \n",
       "...                       ...  \n",
       "1140                        3  \n",
       "1140                        3  \n",
       "1140                        3  \n",
       "1140                        3  \n",
       "1140                        3  \n",
       "\n",
       "[5274 rows x 14 columns]"
      ]
     },
     "execution_count": 15,
     "metadata": {},
     "output_type": "execute_result"
    }
   ],
   "source": [
    "q13 = data.copy()\n",
    "q13['genres'] = q13['genres'].str.split('\\|')\n",
    "new_data = q13.explode('genres')\n",
    "new_data = new_data.drop_duplicates(['book_title','genres'])\n",
    "\n",
    "print(\"\\033[31mq13: \\033[0m\" + f\"After exploding the rows with multiple genres, it is just one row per genre/book without duplicated rows.\")\n",
    "new_data"
   ]
  },
  {
   "cell_type": "markdown",
   "metadata": {},
   "source": [
    "<hr style=\"border: 1px solid #003262;\" />\n",
    "\n",
    "## Q14"
   ]
  },
  {
   "cell_type": "code",
   "execution_count": 16,
   "metadata": {},
   "outputs": [
    {
     "name": "stdout",
     "output_type": "stream",
     "text": [
      "\u001b[31mq14: \u001b[0mThe average and median number of pages from different genres are as below:\n"
     ]
    },
    {
     "data": {
      "text/html": [
       "<div>\n",
       "<style scoped>\n",
       "    .dataframe tbody tr th:only-of-type {\n",
       "        vertical-align: middle;\n",
       "    }\n",
       "\n",
       "    .dataframe tbody tr th {\n",
       "        vertical-align: top;\n",
       "    }\n",
       "\n",
       "    .dataframe thead th {\n",
       "        text-align: right;\n",
       "    }\n",
       "</style>\n",
       "<table border=\"1\" class=\"dataframe\">\n",
       "  <thead>\n",
       "    <tr style=\"text-align: right;\">\n",
       "      <th></th>\n",
       "      <th>average_pages</th>\n",
       "      <th>median_pages</th>\n",
       "    </tr>\n",
       "    <tr>\n",
       "      <th>genres</th>\n",
       "      <th></th>\n",
       "      <th></th>\n",
       "    </tr>\n",
       "  </thead>\n",
       "  <tbody>\n",
       "    <tr>\n",
       "      <th>16th Century</th>\n",
       "      <td>560.000000</td>\n",
       "      <td>560.0</td>\n",
       "    </tr>\n",
       "    <tr>\n",
       "      <th>20th Century</th>\n",
       "      <td>256.000000</td>\n",
       "      <td>256.0</td>\n",
       "    </tr>\n",
       "    <tr>\n",
       "      <th>Abandoned</th>\n",
       "      <td>343.923077</td>\n",
       "      <td>308.0</td>\n",
       "    </tr>\n",
       "    <tr>\n",
       "      <th>Abuse</th>\n",
       "      <td>359.000000</td>\n",
       "      <td>349.0</td>\n",
       "    </tr>\n",
       "    <tr>\n",
       "      <th>Academic</th>\n",
       "      <td>335.833333</td>\n",
       "      <td>329.5</td>\n",
       "    </tr>\n",
       "    <tr>\n",
       "      <th>...</th>\n",
       "      <td>...</td>\n",
       "      <td>...</td>\n",
       "    </tr>\n",
       "    <tr>\n",
       "      <th>Young Adult</th>\n",
       "      <td>359.770833</td>\n",
       "      <td>352.0</td>\n",
       "    </tr>\n",
       "    <tr>\n",
       "      <th>Young Adult Contemporary</th>\n",
       "      <td>341.250000</td>\n",
       "      <td>339.5</td>\n",
       "    </tr>\n",
       "    <tr>\n",
       "      <th>Young Adult Fantasy</th>\n",
       "      <td>435.363636</td>\n",
       "      <td>400.0</td>\n",
       "    </tr>\n",
       "    <tr>\n",
       "      <th>Young Adult Historical Fiction</th>\n",
       "      <td>320.000000</td>\n",
       "      <td>320.0</td>\n",
       "    </tr>\n",
       "    <tr>\n",
       "      <th>Young Adult Romance</th>\n",
       "      <td>392.000000</td>\n",
       "      <td>392.0</td>\n",
       "    </tr>\n",
       "  </tbody>\n",
       "</table>\n",
       "<p>267 rows × 2 columns</p>\n",
       "</div>"
      ],
      "text/plain": [
       "                                average_pages  median_pages\n",
       "genres                                                     \n",
       "16th Century                       560.000000         560.0\n",
       "20th Century                       256.000000         256.0\n",
       "Abandoned                          343.923077         308.0\n",
       "Abuse                              359.000000         349.0\n",
       "Academic                           335.833333         329.5\n",
       "...                                       ...           ...\n",
       "Young Adult                        359.770833         352.0\n",
       "Young Adult Contemporary           341.250000         339.5\n",
       "Young Adult Fantasy                435.363636         400.0\n",
       "Young Adult Historical Fiction     320.000000         320.0\n",
       "Young Adult Romance                392.000000         392.0\n",
       "\n",
       "[267 rows x 2 columns]"
      ]
     },
     "execution_count": 16,
     "metadata": {},
     "output_type": "execute_result"
    }
   ],
   "source": [
    "avg_pages = new_data.groupby('genres')['page_number'].mean()\n",
    "med_pages = new_data.groupby('genres')['page_number'].median()\n",
    "\n",
    "data_genre_pages = pd.DataFrame({\"average_pages\": avg_pages, \"median_pages\": med_pages}, index = avg_pages.index)\n",
    "\n",
    "print(\"\\033[31mq14: \\033[0m\" + f\"The average and median number of pages from different genres are as below:\")\n",
    "data_genre_pages"
   ]
  },
  {
   "cell_type": "markdown",
   "metadata": {},
   "source": [
    "<hr style=\"border: 1px solid #003262;\" />\n",
    "\n",
    "## Q15"
   ]
  },
  {
   "cell_type": "code",
   "execution_count": 17,
   "metadata": {},
   "outputs": [
    {
     "name": "stdout",
     "output_type": "stream",
     "text": [
      "\u001b[31mq15: \u001b[0mThe average and median rating from different genres are as below:\n"
     ]
    },
    {
     "data": {
      "text/html": [
       "<div>\n",
       "<style scoped>\n",
       "    .dataframe tbody tr th:only-of-type {\n",
       "        vertical-align: middle;\n",
       "    }\n",
       "\n",
       "    .dataframe tbody tr th {\n",
       "        vertical-align: top;\n",
       "    }\n",
       "\n",
       "    .dataframe thead th {\n",
       "        text-align: right;\n",
       "    }\n",
       "</style>\n",
       "<table border=\"1\" class=\"dataframe\">\n",
       "  <thead>\n",
       "    <tr style=\"text-align: right;\">\n",
       "      <th></th>\n",
       "      <th>average_rating</th>\n",
       "      <th>median_rating</th>\n",
       "    </tr>\n",
       "    <tr>\n",
       "      <th>genres</th>\n",
       "      <th></th>\n",
       "      <th></th>\n",
       "    </tr>\n",
       "  </thead>\n",
       "  <tbody>\n",
       "    <tr>\n",
       "      <th>16th Century</th>\n",
       "      <td>4.130000</td>\n",
       "      <td>4.130</td>\n",
       "    </tr>\n",
       "    <tr>\n",
       "      <th>20th Century</th>\n",
       "      <td>4.000000</td>\n",
       "      <td>4.000</td>\n",
       "    </tr>\n",
       "    <tr>\n",
       "      <th>Abandoned</th>\n",
       "      <td>3.557692</td>\n",
       "      <td>3.630</td>\n",
       "    </tr>\n",
       "    <tr>\n",
       "      <th>Abuse</th>\n",
       "      <td>4.395000</td>\n",
       "      <td>4.300</td>\n",
       "    </tr>\n",
       "    <tr>\n",
       "      <th>Academic</th>\n",
       "      <td>4.190000</td>\n",
       "      <td>4.110</td>\n",
       "    </tr>\n",
       "    <tr>\n",
       "      <th>...</th>\n",
       "      <td>...</td>\n",
       "      <td>...</td>\n",
       "    </tr>\n",
       "    <tr>\n",
       "      <th>Young Adult</th>\n",
       "      <td>3.942813</td>\n",
       "      <td>3.940</td>\n",
       "    </tr>\n",
       "    <tr>\n",
       "      <th>Young Adult Contemporary</th>\n",
       "      <td>3.770000</td>\n",
       "      <td>3.785</td>\n",
       "    </tr>\n",
       "    <tr>\n",
       "      <th>Young Adult Fantasy</th>\n",
       "      <td>3.937273</td>\n",
       "      <td>3.940</td>\n",
       "    </tr>\n",
       "    <tr>\n",
       "      <th>Young Adult Historical Fiction</th>\n",
       "      <td>3.900000</td>\n",
       "      <td>3.900</td>\n",
       "    </tr>\n",
       "    <tr>\n",
       "      <th>Young Adult Romance</th>\n",
       "      <td>3.680000</td>\n",
       "      <td>3.680</td>\n",
       "    </tr>\n",
       "  </tbody>\n",
       "</table>\n",
       "<p>267 rows × 2 columns</p>\n",
       "</div>"
      ],
      "text/plain": [
       "                                average_rating  median_rating\n",
       "genres                                                       \n",
       "16th Century                          4.130000          4.130\n",
       "20th Century                          4.000000          4.000\n",
       "Abandoned                             3.557692          3.630\n",
       "Abuse                                 4.395000          4.300\n",
       "Academic                              4.190000          4.110\n",
       "...                                        ...            ...\n",
       "Young Adult                           3.942813          3.940\n",
       "Young Adult Contemporary              3.770000          3.785\n",
       "Young Adult Fantasy                   3.937273          3.940\n",
       "Young Adult Historical Fiction        3.900000          3.900\n",
       "Young Adult Romance                   3.680000          3.680\n",
       "\n",
       "[267 rows x 2 columns]"
      ]
     },
     "execution_count": 17,
     "metadata": {},
     "output_type": "execute_result"
    }
   ],
   "source": [
    "avg_rating = new_data.groupby('genres')['book_rating'].mean()\n",
    "med_rating = new_data.groupby('genres')['book_rating'].median()\n",
    "\n",
    "data_genre_rating = pd.DataFrame({\"average_rating\": avg_rating, \"median_rating\": med_rating}, index = avg_rating.index)\n",
    "\n",
    "print(\"\\033[31mq15: \\033[0m\" + f\"The average and median rating from different genres are as below:\")\n",
    "data_genre_rating"
   ]
  }
 ],
 "metadata": {
  "kernelspec": {
   "display_name": "Python 3",
   "language": "python",
   "name": "python3"
  },
  "language_info": {
   "codemirror_mode": {
    "name": "ipython",
    "version": 3
   },
   "file_extension": ".py",
   "mimetype": "text/x-python",
   "name": "python",
   "nbconvert_exporter": "python",
   "pygments_lexer": "ipython3",
   "version": "3.8.3"
  }
 },
 "nbformat": 4,
 "nbformat_minor": 4
}
