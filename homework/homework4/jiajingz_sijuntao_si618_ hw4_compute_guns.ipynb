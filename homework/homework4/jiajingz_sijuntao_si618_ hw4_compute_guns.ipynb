{
 "cells": [
  {
   "cell_type": "code",
   "execution_count": 1,
   "id": "29b7f8a6",
   "metadata": {},
   "outputs": [],
   "source": [
    "import pandas as pd\n",
    "import numpy as np\n",
    "import datetime"
   ]
  },
  {
   "cell_type": "code",
   "execution_count": 2,
   "id": "13b105ee",
   "metadata": {},
   "outputs": [],
   "source": [
    "gun_re = pd.read_csv(\"jiajingz_sijuntao_si618_hw4_batch_result_guns.csv\")\n",
    "gun_ori = pd.read_csv(\"hw4_guns.csv\")\n",
    "result_string = []"
   ]
  },
  {
   "cell_type": "code",
   "execution_count": 3,
   "id": "623b598b",
   "metadata": {},
   "outputs": [],
   "source": [
    "gun_re = gun_re.groupby(\"Input.tweet_text\").sum()\n",
    "n = len(gun_re)"
   ]
  },
  {
   "cell_type": "code",
   "execution_count": 4,
   "id": "8eab768b",
   "metadata": {},
   "outputs": [],
   "source": [
    "# 1\n",
    "supports_gun_control1 = len(gun_re[gun_re[\"Answer.guns.supports-gun-control\"] >=1 ])/n\n",
    "supports_gun_rights1 = len(gun_re[gun_re[\"Answer.guns1.supports-gun-rights\"] >=1 ])/n\n",
    "neutral_guns1 = len(gun_re[gun_re[\"Answer.guns2.neutral/unclear\"] >=1 ])/n\n",
    "result_string.append( f\"supports-gun-control1\\t{supports_gun_control1}\\tsupports-gun-rights1\\t{supports_gun_rights1}\\tneutral-guns1\\t{neutral_guns1}\\t\")"
   ]
  },
  {
   "cell_type": "code",
   "execution_count": 5,
   "id": "a3a63d25",
   "metadata": {},
   "outputs": [],
   "source": [
    "supports_gun_control2 = len(gun_re[gun_re[\"Answer.guns.supports-gun-control\"] >=2 ])/n\n",
    "supports_gun_rights2 = len(gun_re[gun_re[\"Answer.guns1.supports-gun-rights\"] >=2 ])/n\n",
    "neutral_guns2 = len(gun_re[gun_re[\"Answer.guns2.neutral/unclear\"] >=2 ])/n\n",
    "result_string.append( f\"supports-gun-control2\\t{supports_gun_control2}\\tsupports-gun-rights2\\t{supports_gun_rights2}\\tneutral-guns2\\t{neutral_guns2}\\t\")"
   ]
  },
  {
   "cell_type": "code",
   "execution_count": 6,
   "id": "c3e31641",
   "metadata": {},
   "outputs": [],
   "source": [
    "supports_gun_control3 = len(gun_re[gun_re[\"Answer.guns.supports-gun-control\"] >=3 ])/n\n",
    "supports_gun_rights3 = len(gun_re[gun_re[\"Answer.guns1.supports-gun-rights\"] >=3 ])/n\n",
    "neutral_guns3 = len(gun_re[gun_re[\"Answer.guns2.neutral/unclear\"] >=3 ])/n\n",
    "result_string.append( f\"supports-gun-control3\\t{supports_gun_control3}\\tsupports-gun-rights3\\t{supports_gun_rights3}\\tneutral-guns3\\t{neutral_guns3}\\t\\n\")"
   ]
  },
  {
   "cell_type": "code",
   "execution_count": 7,
   "id": "ef1a39a5",
   "metadata": {},
   "outputs": [],
   "source": [
    "# 2\n",
    "\n",
    "gun_re = pd.merge(gun_re, gun_ori, left_on = \"Input.tweet_text\", right_on = \"tweet_text\", how = \"inner\" )\n",
    "gun_re[\"month\"] = pd.to_datetime(gun_re[\"created_time\"]).dt.month\n",
    "gun_re[\"year\"] = pd.to_datetime(gun_re[\"created_time\"]).dt.year"
   ]
  },
  {
   "cell_type": "code",
   "execution_count": 8,
   "id": "3c4e26d8",
   "metadata": {},
   "outputs": [],
   "source": [
    "supports_gun_control_majority = gun_re[gun_re[\"Answer.guns.supports-gun-control\"] >=2 ]\n",
    "supports_gun_rights_majority = gun_re[gun_re[\"Answer.guns1.supports-gun-rights\"] >=2 ]\n",
    "neutral_majority = gun_re[gun_re[\"Answer.guns2.neutral/unclear\"] >=2 ]\n",
    "no_majority = gun_re[(gun_re[\"Answer.guns.supports-gun-control\"] <2) & (gun_re[\"Answer.guns1.supports-gun-rights\"] <2) & (gun_re[\"Answer.guns2.neutral/unclear\"] <2)]\n",
    "\n",
    "for month in gun_re.sort_values(\"month\")[\"month\"].unique():\n",
    "    result_string.append(str(month) + \" \" + str(gun_re[\"year\"].unique()[0]))\n",
    "    supports_gun_control_majority_ratio = len(supports_gun_control_majority[supports_gun_control_majority[\"month\"] == month])/len(gun_re[gun_re[\"month\"] == month])\n",
    "    supports_gun_rights_majority_ratio = len(supports_gun_rights_majority[supports_gun_rights_majority[\"month\"] == month])/len(gun_re[gun_re[\"month\"] == month])\n",
    "    neutral_majority_ratio = len(neutral_majority[neutral_majority[\"month\"] == month])/len(gun_re[gun_re[\"month\"] == month])\n",
    "    no_majority_ratio = len(no_majority[no_majority[\"month\"] == month])/len(gun_re[gun_re[\"month\"] == month])\n",
    "    result_string.append(f\"supports-gun-control-majority\\t{supports_gun_control_majority_ratio}\\tsupports-gun-rights-majority \\t{supports_gun_rights_majority_ratio}\\tneutral-majority\\t{neutral_majority_ratio}\\tno_majority\\t{no_majority_ratio}\")\n"
   ]
  },
  {
   "cell_type": "code",
   "execution_count": 9,
   "id": "893c3e07",
   "metadata": {},
   "outputs": [],
   "source": [
    "# 3\n",
    "\n",
    "targeted_supports_gun_control_majority = len(supports_gun_control_majority[supports_gun_control_majority[\"Answer.targeted.yes\"]>=1])/len(supports_gun_control_majority)\n",
    "targeted_supports_gun_rights_majority = len(supports_gun_rights_majority[supports_gun_rights_majority[\"Answer.targeted.yes\"]>=1])/len(supports_gun_rights_majority)\n",
    "targeted_neutral_majority = len(neutral_majority[neutral_majority[\"Answer.targeted.yes\"]>=1])/len(neutral_majority)\n",
    "\n",
    "result_string.append(f\"\\ntargeted_supports-gun-control-majority\\t{targeted_supports_gun_control_majority}\\ttargeted_supports-gun-rights-majority\\t{targeted_supports_gun_rights_majority}\\ttargeted_neutral-majority\\t{targeted_neutral_majority}\")\n"
   ]
  },
  {
   "cell_type": "code",
   "execution_count": 10,
   "id": "5f978abf",
   "metadata": {},
   "outputs": [],
   "source": [
    "f = open('jiajingz_sijuntao_si618_hw4_computations_guns.txt','w')\n",
    "for line in result_string:\n",
    "    print(line, file=f)\n",
    "f.close()"
   ]
  },
  {
   "cell_type": "code",
   "execution_count": null,
   "id": "1a3f5827",
   "metadata": {},
   "outputs": [],
   "source": []
  }
 ],
 "metadata": {
  "kernelspec": {
   "display_name": "Python 3 (ipykernel)",
   "language": "python",
   "name": "python3"
  },
  "language_info": {
   "codemirror_mode": {
    "name": "ipython",
    "version": 3
   },
   "file_extension": ".py",
   "mimetype": "text/x-python",
   "name": "python",
   "nbconvert_exporter": "python",
   "pygments_lexer": "ipython3",
   "version": "3.9.12"
  }
 },
 "nbformat": 4,
 "nbformat_minor": 5
}
