{
 "cells": [
  {
   "cell_type": "code",
   "execution_count": 1,
   "id": "fb31ad44",
   "metadata": {},
   "outputs": [],
   "source": [
    "import pandas as pd\n",
    "import numpy as np\n",
    "import datetime"
   ]
  },
  {
   "cell_type": "code",
   "execution_count": 2,
   "id": "4a4f824c",
   "metadata": {},
   "outputs": [],
   "source": [
    "df = pd.read_csv(\"hw4_guns.csv\")\n",
    "df[\"month\"] =pd.to_datetime(df[\"created_time\"]).dt.month\n",
    "df_3 = df[df[\"month\"] == 3] # 2969, pick 35 random data points\n",
    "df_4 = df[df[\"month\"] == 4] # 31, dropped\n",
    "df_6 = df[df[\"month\"] == 6] # 3000, pick 40 random data points"
   ]
  },
  {
   "cell_type": "code",
   "execution_count": 3,
   "id": "a5963491",
   "metadata": {},
   "outputs": [],
   "source": [
    "df_3_35 = df_3.sample(n = 35, random_state = 1)\n",
    "df_6_40 = df_6.sample(n = 40, random_state = 1)"
   ]
  },
  {
   "cell_type": "code",
   "execution_count": 4,
   "id": "8ef9bd71",
   "metadata": {},
   "outputs": [],
   "source": [
    "df_75 = pd.concat([df_3_35, df_6_40])\n",
    "df_75.to_csv(\"df_75.csv\")"
   ]
  },
  {
   "cell_type": "code",
   "execution_count": 5,
   "id": "f843d4bd",
   "metadata": {},
   "outputs": [],
   "source": [
    "df_75[\"tweet_text\"].to_csv(\"df_75_tweets.csv\", index = False)"
   ]
  },
  {
   "cell_type": "code",
   "execution_count": 6,
   "id": "16f49f1b",
   "metadata": {},
   "outputs": [],
   "source": [
    "df_8 = df_75.sample(n=8, random_state = 1)"
   ]
  },
  {
   "cell_type": "code",
   "execution_count": 7,
   "id": "1faabd7c",
   "metadata": {},
   "outputs": [],
   "source": [
    "df_8[\"tweet_text\"].to_csv(\"df_8_tweets.csv\", index = False)"
   ]
  },
  {
   "cell_type": "code",
   "execution_count": null,
   "id": "15791309",
   "metadata": {},
   "outputs": [],
   "source": []
  }
 ],
 "metadata": {
  "kernelspec": {
   "display_name": "Python 3 (ipykernel)",
   "language": "python",
   "name": "python3"
  },
  "language_info": {
   "codemirror_mode": {
    "name": "ipython",
    "version": 3
   },
   "file_extension": ".py",
   "mimetype": "text/x-python",
   "name": "python",
   "nbconvert_exporter": "python",
   "pygments_lexer": "ipython3",
   "version": "3.9.12"
  }
 },
 "nbformat": 4,
 "nbformat_minor": 5
}
