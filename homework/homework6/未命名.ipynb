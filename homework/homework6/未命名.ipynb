{
 "cells": [
  {
   "cell_type": "code",
   "execution_count": 1,
   "id": "8635b7e2",
   "metadata": {},
   "outputs": [],
   "source": [
    "import json\n",
    "from pyspark import SparkContext"
   ]
  },
  {
   "cell_type": "code",
   "execution_count": 75,
   "id": "857912d5",
   "metadata": {},
   "outputs": [],
   "source": [
    "sc.stop() "
   ]
  },
  {
   "cell_type": "code",
   "execution_count": 4,
   "id": "74d90767",
   "metadata": {},
   "outputs": [],
   "source": [
    "\n",
    "sc = SparkContext(appName=\"pyspark_si618f22_avg_rating_score_per_category_per_author\")\n",
    "\n",
    "input_file = sc.textFile(\"/scratch/siads618f22_class_root/siads618f22_class/shared_data/hw6_data/book_ratings_data_jsonl.json\")"
   ]
  },
  {
   "cell_type": "code",
   "execution_count": 48,
   "id": "83020108",
   "metadata": {},
   "outputs": [],
   "source": [
    "def get_author_category_and_ratings(data):\n",
    "    \n",
    "    author_category_and_ratings_list = []\n",
    "\n",
    "    # your code here\n",
    "    rating_scores = float(data[\"review/score\"])\n",
    "    num_ratings = 1\n",
    "    num_ratings_active = int(data[\"User_id\"] != None)\n",
    "    num_ratings_inactive = int(data[\"User_id\"] == None)\n",
    "    \n",
    "    if data[\"authors\"] == None:\n",
    "        authors = [\"Unknown\"]\n",
    "    else:\n",
    "        authors = data[\"authors\"].split(', ')\n",
    "    \n",
    "    if data[\"categories\"] == None:\n",
    "        categories = [\"Unknown\"]\n",
    "    else:\n",
    "        categories = data[\"categories\"].split(', ')\n",
    "\n",
    "    for author in authors:\n",
    "        for category in categories:\n",
    "            if((author!='') &(category!='')):\n",
    "#                 author = author.replace(' ','')\n",
    "#                 category = category.replace(' ','')\n",
    "                cur_tuple = ((author, category),(rating_scores, num_ratings, num_ratings_active, num_ratings_inactive))\n",
    "                author_category_and_ratings_list.append(cur_tuple)\n",
    "\n",
    "    return author_category_and_ratings_list\n",
    "\n",
    "    # hint: author_category_and_ratings_list contains tuples with rating scores, number of ratings, and\n",
    "    #       number of ratings from active and inactive users for each author-category combination"
   ]
  },
  {
   "cell_type": "code",
   "execution_count": 14,
   "id": "d3377b27",
   "metadata": {},
   "outputs": [
    {
     "data": {
      "text/plain": [
       "[(('Julie Strain', 'Comics'), (4.0, 1, 1, 0)),\n",
       " (('Julie Strain', 'Graphic Novels'), (4.0, 1, 1, 0))]"
      ]
     },
     "execution_count": 14,
     "metadata": {},
     "output_type": "execute_result"
    }
   ],
   "source": [
    "with open(\"test.json\") as f:\n",
    "    a = f.readlines()\n",
    "b = []\n",
    "for i in a:\n",
    "    b.append(json.loads(i))\n",
    "c = get_author_category_and_ratings(b[0])\n",
    "c"
   ]
  },
  {
   "cell_type": "code",
   "execution_count": 62,
   "id": "2c4ae7b2",
   "metadata": {},
   "outputs": [
    {
     "data": {
      "text/plain": [
       "'12\\t23'"
      ]
     },
     "execution_count": 62,
     "metadata": {},
     "output_type": "execute_result"
    }
   ],
   "source": [
    "a = (4.0, 1, 1, 0)\n",
    "b = (5.0, 2, 3, 1)\n",
    "c = tuple(map(lambda x,y: x+y, a,b))\n",
    "d = (\"12\",\"23\")\n",
    "'\\t'.join(d)"
   ]
  },
  {
   "cell_type": "code",
   "execution_count": 71,
   "id": "20f3ba1d",
   "metadata": {},
   "outputs": [],
   "source": [
    "solution =  input_file.map(lambda line: json.loads(line))\\\n",
    "                      .filter(lambda info: (float(info[\"review/helpfulness\"].split('/')[0]) >= 0.25 * float(info[\"review/helpfulness\"].split('/')[1])) & (info[\"review/summary\"]!= None) & (float(info[\"review/helpfulness\"].split('/')[1])!=0))\\\n",
    "                      .flatMap(lambda info: get_author_category_and_ratings(info))\\\n",
    "                      .reduceByKey(lambda x,y: (x[0] + y[0], x[1] + y[1], x[2] + y[2], x[3] + y[3]))\\\n",
    "                      .map(lambda tup: (tup[0], (round(tup[1][0]/tup[1][1],2), tup[1][1], tup[1][2], tup[1][3])))\\\n",
    "                      .sortBy(lambda tup: (tup[0][0], -tup[1][1], tup[0][1]), ascending = True)\\\n",
    "                      .map(lambda tup: '\\t'.join(tup[0])+'\\t'+str(tup[1][0])+'\\t'+str(tup[1][1])+'\\t'+str(tup[1][2])+'\\t'+str(tup[1][3]))\n"
   ]
  },
  {
   "cell_type": "code",
   "execution_count": 72,
   "id": "754f557f",
   "metadata": {},
   "outputs": [
    {
     "data": {
      "text/plain": [
       "['A\\tJuvenile Fiction\\t5.0\\t1\\t1\\t0',\n",
       " 'A A Acevedo\\tGames\\t5.0\\t1\\t1\\t0',\n",
       " 'A A Attanasio\\tFiction\\t4.74\\t42\\t31\\t11',\n",
       " 'A A Attanasio\\tUnknown\\t4.9\\t20\\t16\\t4',\n",
       " 'A A Cantor\\tSuccess in business\\t5.0\\t1\\t1\\t0',\n",
       " 'A A Clarke\\tPolitical Science\\t4.0\\t1\\t1\\t0',\n",
       " 'A A F Jochems\\tUnknown\\t4.0\\t2\\t1\\t1',\n",
       " 'A A Fair\\tPopular literature\\t4.0\\t1\\t1\\t0',\n",
       " 'A A Haidari\\tSocial Science\\t4.0\\t1\\t1\\t0',\n",
       " 'A A Harms\\tScience\\t5.0\\t2\\t2\\t0']"
      ]
     },
     "execution_count": 72,
     "metadata": {},
     "output_type": "execute_result"
    }
   ],
   "source": [
    "solution.take(10)"
   ]
  },
  {
   "cell_type": "code",
   "execution_count": 73,
   "id": "d7dcb283",
   "metadata": {},
   "outputs": [],
   "source": [
    "!cat ./sijuntao_si618_hw6_output/part* >  sijuntao_si618_hw6_output.tsv"
   ]
  },
  {
   "cell_type": "code",
   "execution_count": 1,
   "id": "93c93c3c",
   "metadata": {},
   "outputs": [],
   "source": [
    "!diff si618_hw6_preferred_output.tsv sijuntao_si618_hw6_output.tsv"
   ]
  },
  {
   "cell_type": "code",
   "execution_count": null,
   "id": "06bd4017",
   "metadata": {},
   "outputs": [],
   "source": []
  }
 ],
 "metadata": {
  "kernelspec": {
   "display_name": "Python 3 (ipykernel)",
   "language": "python",
   "name": "python3"
  },
  "language_info": {
   "codemirror_mode": {
    "name": "ipython",
    "version": 3
   },
   "file_extension": ".py",
   "mimetype": "text/x-python",
   "name": "python",
   "nbconvert_exporter": "python",
   "pygments_lexer": "ipython3",
   "version": "3.9.12"
  }
 },
 "nbformat": 4,
 "nbformat_minor": 5
}
