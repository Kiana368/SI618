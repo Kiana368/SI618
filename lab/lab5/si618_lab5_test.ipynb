{
 "cells": [
  {
   "cell_type": "code",
   "execution_count": 1,
   "id": "d791c381",
   "metadata": {},
   "outputs": [
    {
     "name": "stdout",
     "output_type": "stream",
     "text": [
      "Overwriting sijuntao_si618_lab5.py\n"
     ]
    }
   ],
   "source": [
    "%%file sijuntao_si618_lab5.py\n",
    "import mrjob\n",
    "from mrjob.job import MRJob\n",
    "\n",
    "class UpvotesAverageCalculator(MRJob):\n",
    "    OUTPUT_PROTOCOL = mrjob.protocol.TextProtocol\n",
    "\n",
    "    def mapper(self, _, line):\n",
    "        try:\n",
    "            # # +++your code here+++\n",
    "            date = line.split('\\t')[0] # date\n",
    "            description = line.split('\\t')[1] # string containing all category tags\n",
    "            upvotes = float(line.split('\\t')[2]) # upvotes\n",
    "            count = 1\n",
    "            if description != '':\n",
    "                # # +++your code here+++\n",
    "                tags = description.replace(\"'\",\"\").split(\", \")  # get a list of all the tags from the description\n",
    "                # hint: the mapper maps each category under a date with the upvotes and the product count\n",
    "                for tag in tags:\n",
    "                    yield (date, tag), (upvotes, count)\n",
    "        except:\n",
    "            pass\n",
    "       \n",
    "    def combiner(self, key, values):\n",
    "        # # +++your code here+++\n",
    "        total_upvotes = 0\n",
    "        total_product_counts = 0\n",
    "        for pair in values:\n",
    "            total_upvotes += list(pair)[0]\n",
    "            total_product_counts += list(pair)[1]\n",
    "        \n",
    "        yield key, (total_upvotes, total_product_counts)\n",
    "        # hint: the combiner combines to get the total upvotes and the total product counts\n",
    "\n",
    "    def reducer(self, key, values):\n",
    "        # # +++your code here+++\n",
    "        total_upvotes = 0\n",
    "        total_product_counts = 0\n",
    "        for pair in values:\n",
    "            total_upvotes += list(pair)[0]\n",
    "            total_product_counts += list(pair)[1]\n",
    "        avg_upvotes = round(total_upvotes/total_product_counts, 2)\n",
    "        \n",
    "        yield key[0] + \"\\t\" + key[1], str(avg_upvotes)\n",
    "        # the reducer combines and reduces the total upvotes and total product counts to the average number of upvotes per product\n",
    "\n",
    "\n",
    "if __name__ == '__main__':\n",
    "    UpvotesAverageCalculator.run()\n",
    "    "
   ]
  },
  {
   "cell_type": "code",
   "execution_count": 2,
   "id": "d9bb54c9",
   "metadata": {},
   "outputs": [
    {
     "name": "stdout",
     "output_type": "stream",
     "text": [
      "No configs found; falling back on auto-configuration\n",
      "No configs specified for inline runner\n",
      "Running step 1 of 1...\n",
      "Creating temp directory /var/folders/10/lx3rh6q956qc768glw5ktj600000gn/T/sijuntao_si618_lab5.junsi.20220929.234754.723727\n",
      "job output is in si618_lab5_output\n",
      "Removing temp directory /var/folders/10/lx3rh6q956qc768glw5ktj600000gn/T/sijuntao_si618_lab5.junsi.20220929.234754.723727...\n"
     ]
    }
   ],
   "source": [
    "!python3 sijuntao_si618_lab5.py ./data -o si618_lab5_output "
   ]
  },
  {
   "cell_type": "code",
   "execution_count": 3,
   "id": "c5467694",
   "metadata": {},
   "outputs": [],
   "source": [
    "!cat si618_lab5_output/part* > sijuntao_si618_lab5_output.tsv"
   ]
  },
  {
   "cell_type": "code",
   "execution_count": null,
   "id": "a84d92a0",
   "metadata": {},
   "outputs": [],
   "source": []
  }
 ],
 "metadata": {
  "kernelspec": {
   "display_name": "Python 3 (ipykernel)",
   "language": "python",
   "name": "python3"
  },
  "language_info": {
   "codemirror_mode": {
    "name": "ipython",
    "version": 3
   },
   "file_extension": ".py",
   "mimetype": "text/x-python",
   "name": "python",
   "nbconvert_exporter": "python",
   "pygments_lexer": "ipython3",
   "version": "3.9.12"
  }
 },
 "nbformat": 4,
 "nbformat_minor": 5
}
